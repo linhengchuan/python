{
 "cells": [
  {
   "cell_type": "code",
   "execution_count": 3,
   "id": "42d72c02-c897-4e82-a335-6629f5cb8edf",
   "metadata": {},
   "outputs": [
    {
     "name": "stdout",
     "output_type": "stream",
     "text": [
      "b'\\r\\nPinging 192.168.1.30 with 32 bytes of data:\\r\\nReply from 192.168.1.30: bytes=32 time=1ms TTL=64\\r\\nReply from 192.168.1.30: bytes=32 time=1ms TTL=64\\r\\nReply from 192.168.1.30: bytes=32 time=15ms TTL=64\\r\\nReply from 192.168.1.30: bytes=32 time=2ms TTL=64\\r\\n\\r\\nPing statistics for 192.168.1.30:\\r\\n    Packets: Sent = 4, Received = 4, Lost = 0 (0% loss),\\r\\nApproximate round trip times in milli-seconds:\\r\\n    Minimum = 1ms, Maximum = 15ms, Average = 4ms\\r\\n'\n"
     ]
    }
   ],
   "source": [
    "from subprocess import Popen, PIPE\n",
    "pipe = Popen('ping 192.168.1.30', stdout=PIPE)\n",
    "text = pipe.communicate()[0]\n",
    "print(text)"
   ]
  },
  {
   "cell_type": "code",
   "execution_count": null,
   "id": "7aaecbc1-e0bf-468b-a9ca-e7f7f7065b4f",
   "metadata": {},
   "outputs": [],
   "source": []
  }
 ],
 "metadata": {
  "kernelspec": {
   "display_name": "Python 3 (ipykernel)",
   "language": "python",
   "name": "python3"
  },
  "language_info": {
   "codemirror_mode": {
    "name": "ipython",
    "version": 3
   },
   "file_extension": ".py",
   "mimetype": "text/x-python",
   "name": "python",
   "nbconvert_exporter": "python",
   "pygments_lexer": "ipython3",
   "version": "3.9.12"
  }
 },
 "nbformat": 4,
 "nbformat_minor": 5
}
