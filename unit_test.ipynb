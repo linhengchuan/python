{
 "cells": [
  {
   "cell_type": "code",
   "execution_count": 10,
   "id": "4e14ed6a-77d7-4fd1-915a-a6fa574dc7a6",
   "metadata": {},
   "outputs": [
    {
     "name": "stderr",
     "output_type": "stream",
     "text": [
      "E\n",
      "======================================================================\n",
      "ERROR: C:\\Users\\linhe\\AppData\\Roaming\\jupyter\\runtime\\kernel-dff5ebf6-e6c5-4ae6-8520-259a867a7a49 (unittest.loader._FailedTest)\n",
      "----------------------------------------------------------------------\n",
      "AttributeError: module '__main__' has no attribute 'C:\\Users\\linhe\\AppData\\Roaming\\jupyter\\runtime\\kernel-dff5ebf6-e6c5-4ae6-8520-259a867a7a49'\n",
      "\n",
      "----------------------------------------------------------------------\n",
      "Ran 1 test in 0.000s\n",
      "\n",
      "FAILED (errors=1)\n"
     ]
    },
    {
     "ename": "SystemExit",
     "evalue": "True",
     "output_type": "error",
     "traceback": [
      "An exception has occurred, use %tb to see the full traceback.\n",
      "\u001b[1;31mSystemExit\u001b[0m\u001b[1;31m:\u001b[0m True\n"
     ]
    },
    {
     "name": "stderr",
     "output_type": "stream",
     "text": [
      "C:\\Users\\linhe\\.conda\\envs\\py_project\\lib\\site-packages\\IPython\\core\\interactiveshell.py:3406: UserWarning: To exit: use 'exit', 'quit', or Ctrl-D.\n",
      "  warn(\"To exit: use 'exit', 'quit', or Ctrl-D.\", stacklevel=1)\n"
     ]
    }
   ],
   "source": [
    "import unittest\n",
    "\n",
    "class TestStringMethods(unittest.TestCase):\n",
    "\n",
    "    def test_upper(self):\n",
    "        self.assertEqual('foo'.upper(), 'FOO')\n",
    "\n",
    "    def test_isupper(self):\n",
    "        self.assertTrue('FOO'.isupper())\n",
    "        self.assertFalse('Foo'.isupper())\n",
    "\n",
    "    def test_split(self):\n",
    "        s = 'hello world'\n",
    "        self.assertEqual(s.split(), ['hello', 'world'])\n",
    "        # check that s.split fails when the separator is not a string\n",
    "        with self.assertRaises(TypeError):\n",
    "            s.split(2)\n",
    "\n",
    "if __name__ == '__main__':\n",
    "    unittest.main()"
   ]
  },
  {
   "cell_type": "code",
   "execution_count": null,
   "id": "ab65e822-a580-4847-a0d3-e6c6c527dbe8",
   "metadata": {},
   "outputs": [],
   "source": []
  },
  {
   "cell_type": "code",
   "execution_count": 8,
   "id": "c820e62f-ce63-4ba4-8d7e-488ca1c2f9e4",
   "metadata": {},
   "outputs": [],
   "source": [
    "def testSomething():\n",
    "    something = makeSomething()\n",
    "    assert something.name is not None\n",
    "    # ..."
   ]
  },
  {
   "cell_type": "code",
   "execution_count": 9,
   "id": "da09b5b4-1c6a-427a-9bc3-e97d323ab7c3",
   "metadata": {},
   "outputs": [
    {
     "ename": "NameError",
     "evalue": "name 'makeSomethingDB' is not defined",
     "output_type": "error",
     "traceback": [
      "\u001b[1;31m---------------------------------------------------------------------------\u001b[0m",
      "\u001b[1;31mNameError\u001b[0m                                 Traceback (most recent call last)",
      "Input \u001b[1;32mIn [9]\u001b[0m, in \u001b[0;36m<cell line: 1>\u001b[1;34m()\u001b[0m\n\u001b[0;32m      1\u001b[0m testcase \u001b[38;5;241m=\u001b[39m unittest\u001b[38;5;241m.\u001b[39mFunctionTestCase(testSomething,\n\u001b[1;32m----> 2\u001b[0m                                      setUp\u001b[38;5;241m=\u001b[39m\u001b[43mmakeSomethingDB\u001b[49m,\n\u001b[0;32m      3\u001b[0m                                      tearDown\u001b[38;5;241m=\u001b[39mdeleteSomethingDB)\n",
      "\u001b[1;31mNameError\u001b[0m: name 'makeSomethingDB' is not defined"
     ]
    }
   ],
   "source": [
    "testcase = unittest.FunctionTestCase(testSomething,\n",
    "                                     setUp=makeSomethingDB,\n",
    "                                     tearDown=deleteSomethingDB)"
   ]
  },
  {
   "cell_type": "code",
   "execution_count": null,
   "id": "09e689db-0364-4ce1-9060-ee6bcd8c8632",
   "metadata": {},
   "outputs": [],
   "source": []
  },
  {
   "cell_type": "code",
   "execution_count": null,
   "id": "55389efa-e952-4f35-b17b-39f44f85f2a2",
   "metadata": {},
   "outputs": [],
   "source": []
  }
 ],
 "metadata": {
  "kernelspec": {
   "display_name": "Python 3 (ipykernel)",
   "language": "python",
   "name": "python3"
  },
  "language_info": {
   "codemirror_mode": {
    "name": "ipython",
    "version": 3
   },
   "file_extension": ".py",
   "mimetype": "text/x-python",
   "name": "python",
   "nbconvert_exporter": "python",
   "pygments_lexer": "ipython3",
   "version": "3.9.12"
  }
 },
 "nbformat": 4,
 "nbformat_minor": 5
}
