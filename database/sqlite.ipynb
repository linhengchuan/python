{
 "cells": [
  {
   "cell_type": "code",
   "execution_count": 1,
   "id": "11ac2c9d-9e4b-4959-9e3e-75e6f22280de",
   "metadata": {},
   "outputs": [],
   "source": [
    "import sqlite3"
   ]
  },
  {
   "cell_type": "code",
   "execution_count": 29,
   "id": "f41d8d01-7cb8-4415-874d-f03cfe9eda27",
   "metadata": {},
   "outputs": [],
   "source": [
    "con = sqlite3.connect(\"tutorial.db\")"
   ]
  },
  {
   "cell_type": "code",
   "execution_count": 32,
   "id": "3e6a18f4-8d28-49f7-a726-82069a98ec98",
   "metadata": {},
   "outputs": [
    {
     "data": {
      "text/plain": [
       "<sqlite3.Connection at 0x20666304030>"
      ]
     },
     "execution_count": 32,
     "metadata": {},
     "output_type": "execute_result"
    }
   ],
   "source": [
    "con"
   ]
  },
  {
   "cell_type": "markdown",
   "id": "1ace4380-fd02-4d03-bd54-8632af35f548",
   "metadata": {},
   "source": [
    "### Create table"
   ]
  },
  {
   "cell_type": "code",
   "execution_count": 16,
   "id": "9e8d387b-931f-4693-be70-51f69bac2803",
   "metadata": {
    "collapsed": true,
    "jupyter": {
     "outputs_hidden": true
    },
    "tags": []
   },
   "outputs": [
    {
     "ename": "OperationalError",
     "evalue": "table movie already exists",
     "output_type": "error",
     "traceback": [
      "\u001b[1;31m---------------------------------------------------------------------------\u001b[0m",
      "\u001b[1;31mOperationalError\u001b[0m                          Traceback (most recent call last)",
      "Input \u001b[1;32mIn [16]\u001b[0m, in \u001b[0;36m<cell line: 2>\u001b[1;34m()\u001b[0m\n\u001b[0;32m      1\u001b[0m cur \u001b[38;5;241m=\u001b[39m con\u001b[38;5;241m.\u001b[39mcursor()\n\u001b[1;32m----> 2\u001b[0m \u001b[43mcur\u001b[49m\u001b[38;5;241;43m.\u001b[39;49m\u001b[43mexecute\u001b[49m\u001b[43m(\u001b[49m\u001b[38;5;124;43m\"\u001b[39;49m\u001b[38;5;124;43mCREATE TABLE movie(title, year, score)\u001b[39;49m\u001b[38;5;124;43m\"\u001b[39;49m\u001b[43m)\u001b[49m\n",
      "\u001b[1;31mOperationalError\u001b[0m: table movie already exists"
     ]
    }
   ],
   "source": [
    "cur = con.cursor()\n",
    "cur.execute(\"CREATE TABLE movie(title, year, score)\")"
   ]
  },
  {
   "cell_type": "markdown",
   "id": "3a4cf852-2f76-4110-a302-f3d3d2262c65",
   "metadata": {},
   "source": [
    "### sqlite_master is internal table displaying db's schema"
   ]
  },
  {
   "cell_type": "code",
   "execution_count": 9,
   "id": "da227909-8ccb-4195-aef3-023ff311dc29",
   "metadata": {},
   "outputs": [
    {
     "data": {
      "text/plain": [
       "('table', 'movie', 'movie', 2, 'CREATE TABLE movie(title, year, score)')"
      ]
     },
     "execution_count": 9,
     "metadata": {},
     "output_type": "execute_result"
    }
   ],
   "source": [
    "res = cur.execute(\"SELECT * FROM sqlite_master\")\n",
    "res.fetchone()"
   ]
  },
  {
   "cell_type": "markdown",
   "id": "74eb004a-89df-41b7-bba2-243a72b2f4af",
   "metadata": {},
   "source": [
    "### Check if test exist within sqlite_master"
   ]
  },
  {
   "cell_type": "code",
   "execution_count": 19,
   "id": "d39bd4e9-bd89-48f2-9de5-75880f001de0",
   "metadata": {},
   "outputs": [
    {
     "data": {
      "text/plain": [
       "True"
      ]
     },
     "execution_count": 19,
     "metadata": {},
     "output_type": "execute_result"
    }
   ],
   "source": [
    "res = cur.execute(\"SELECT name FROM sqlite_master WHERE name='table'\")\n",
    "res.fetchone() is None"
   ]
  },
  {
   "cell_type": "markdown",
   "id": "852e796f-f10f-4d85-97be-ca987b093940",
   "metadata": {},
   "source": [
    "### Insert values into 'movie' table"
   ]
  },
  {
   "cell_type": "code",
   "execution_count": 11,
   "id": "29fa3b08-5aa9-4df9-9a4a-c37c189a18d4",
   "metadata": {},
   "outputs": [
    {
     "data": {
      "text/plain": [
       "<sqlite3.Cursor at 0x206647418f0>"
      ]
     },
     "execution_count": 11,
     "metadata": {},
     "output_type": "execute_result"
    }
   ],
   "source": [
    "cur.execute(\"\"\"\n",
    "    INSERT INTO movie VALUES\n",
    "        ('Monty Python and the Holy Grail', 1975, 8.2),\n",
    "        ('And Now for Something Completely Different', 1971, 7.5)\n",
    "\"\"\")"
   ]
  },
  {
   "cell_type": "markdown",
   "id": "c8c50227-560a-4b99-9d13-626acc8244ab",
   "metadata": {},
   "source": [
    "### Commit to db"
   ]
  },
  {
   "cell_type": "code",
   "execution_count": 12,
   "id": "754a4706-aa3a-4a75-9177-176d0fe4a9a9",
   "metadata": {},
   "outputs": [],
   "source": [
    "con.commit()"
   ]
  },
  {
   "cell_type": "markdown",
   "id": "1a19137d-49b4-4282-a885-76c818e86699",
   "metadata": {},
   "source": [
    "### Select all score from movie"
   ]
  },
  {
   "cell_type": "code",
   "execution_count": 24,
   "id": "b675132c-4d89-4079-851c-6fbfd0459979",
   "metadata": {},
   "outputs": [
    {
     "data": {
      "text/plain": [
       "[(8.2,),\n",
       " (7.5,),\n",
       " (7.9,),\n",
       " (7.5,),\n",
       " (8.0,),\n",
       " (7.9,),\n",
       " (7.5,),\n",
       " (8.0,),\n",
       " (7.9,),\n",
       " (7.5,),\n",
       " (8.0,)]"
      ]
     },
     "execution_count": 24,
     "metadata": {},
     "output_type": "execute_result"
    }
   ],
   "source": [
    "res = cur.execute(\"SELECT score FROM movie\")\n",
    "res.fetchall()\n",
    "# res.fetchone()"
   ]
  },
  {
   "cell_type": "markdown",
   "id": "dabe25b0-5848-46a5-8d2d-8d16be32a547",
   "metadata": {},
   "source": [
    "### Add data to db"
   ]
  },
  {
   "cell_type": "code",
   "execution_count": 23,
   "id": "0d789617-e361-404d-9bd8-786573274693",
   "metadata": {},
   "outputs": [],
   "source": [
    "data = [\n",
    "    (\"Monty Python Live at the Hollywood Bowl\", 1982, 7.9),\n",
    "    (\"Monty Python's The Meaning of Life\", 1983, 7.5),\n",
    "    (\"Monty Python's Life of Brian\", 1979, 8.0),\n",
    "]\n",
    "cur.executemany(\"INSERT INTO movie VALUES(?, ?, ?)\", data)\n",
    "con.commit()  # Remember to commit the transaction after executing INSERT."
   ]
  },
  {
   "cell_type": "markdown",
   "id": "03a3190a-0d63-43dc-859e-b4f5ef19abc9",
   "metadata": {},
   "source": [
    "### Print data in db"
   ]
  },
  {
   "cell_type": "code",
   "execution_count": 25,
   "id": "684fd32a-638d-4206-93c0-bd69f0fc5bf8",
   "metadata": {},
   "outputs": [
    {
     "name": "stdout",
     "output_type": "stream",
     "text": [
      "(1971, 'And Now for Something Completely Different')\n",
      "(1975, 'Monty Python and the Holy Grail')\n",
      "(1979, \"Monty Python's Life of Brian\")\n",
      "(1979, \"Monty Python's Life of Brian\")\n",
      "(1979, \"Monty Python's Life of Brian\")\n",
      "(1982, 'Monty Python Live at the Hollywood Bowl')\n",
      "(1982, 'Monty Python Live at the Hollywood Bowl')\n",
      "(1982, 'Monty Python Live at the Hollywood Bowl')\n",
      "(1983, \"Monty Python's The Meaning of Life\")\n",
      "(1983, \"Monty Python's The Meaning of Life\")\n",
      "(1983, \"Monty Python's The Meaning of Life\")\n"
     ]
    }
   ],
   "source": [
    "for row in cur.execute(\"SELECT year, title FROM movie ORDER BY year\"):\n",
    "    print(row)"
   ]
  },
  {
   "cell_type": "code",
   "execution_count": 31,
   "id": "7b337c8a-60cb-4d2b-bec8-82ff77191c39",
   "metadata": {},
   "outputs": [],
   "source": [
    "con.close()"
   ]
  },
  {
   "cell_type": "code",
   "execution_count": null,
   "id": "3464c856-6066-4cca-99e7-d90cc7869d5f",
   "metadata": {},
   "outputs": [],
   "source": []
  },
  {
   "cell_type": "code",
   "execution_count": null,
   "id": "a965a4df-347d-4d54-a263-097e18ca0b6b",
   "metadata": {},
   "outputs": [],
   "source": []
  },
  {
   "cell_type": "code",
   "execution_count": null,
   "id": "75313b04-e4da-4f9b-bd16-5f1fe9949f05",
   "metadata": {},
   "outputs": [],
   "source": []
  }
 ],
 "metadata": {
  "kernelspec": {
   "display_name": "Python 3 (ipykernel)",
   "language": "python",
   "name": "python3"
  },
  "language_info": {
   "codemirror_mode": {
    "name": "ipython",
    "version": 3
   },
   "file_extension": ".py",
   "mimetype": "text/x-python",
   "name": "python",
   "nbconvert_exporter": "python",
   "pygments_lexer": "ipython3",
   "version": "3.8.5"
  }
 },
 "nbformat": 4,
 "nbformat_minor": 5
}
