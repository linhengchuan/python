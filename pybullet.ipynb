{
 "cells": [
  {
   "cell_type": "code",
   "execution_count": 2,
   "id": "a5fd0c96-8b40-4bcd-be91-aaee80f8fbc0",
   "metadata": {},
   "outputs": [],
   "source": [
    "#!pip install pybullet"
   ]
  },
  {
   "cell_type": "code",
   "execution_count": 3,
   "id": "0e377993-f46e-4906-b100-a0ee73c89679",
   "metadata": {},
   "outputs": [
    {
     "name": "stdout",
     "output_type": "stream",
     "text": [
      "(-7.796719340753645e-06, 0.003534684283299119, 0.47082209505091976) (-1.0841278692072673e-05, 2.337115220860563e-06, -5.2982893878916695e-05, 0.9999999985349087)\n"
     ]
    }
   ],
   "source": [
    "import pybullet as p\n",
    "import time \n",
    "import pybullet_data \n",
    "\n",
    "physicsClient = p.connect(p.GUI)#or p.DIRECT for non-graphical version \n",
    "p.setAdditionalSearchPath(pybullet_data.getDataPath()) #optionally \n",
    "p.setGravity(0,0,-10) \n",
    "planeId = p.loadURDF(\"plane.urdf\") \n",
    "cubeStartPos = [0,0,1] \n",
    "cubeStartOrientation = p.getQuaternionFromEuler([0,0,0]) \n",
    "boxId = p.loadURDF(\"r2d2.urdf\",cubeStartPos, cubeStartOrientation) \n",
    "for i in range (10000):   \n",
    "    p.stepSimulation()   \n",
    "    time.sleep(1./240.) \n",
    "cubePos, cubeOrn = p.getBasePositionAndOrientation(boxId) \n",
    "print(cubePos,cubeOrn) \n",
    "p.disconnect()"
   ]
  },
  {
   "cell_type": "code",
   "execution_count": null,
   "id": "37591201-2c13-4269-bf9d-97697e37df07",
   "metadata": {},
   "outputs": [],
   "source": []
  }
 ],
 "metadata": {
  "kernelspec": {
   "display_name": "Python 3",
   "language": "python",
   "name": "python3"
  },
  "language_info": {
   "codemirror_mode": {
    "name": "ipython",
    "version": 3
   },
   "file_extension": ".py",
   "mimetype": "text/x-python",
   "name": "python",
   "nbconvert_exporter": "python",
   "pygments_lexer": "ipython3",
   "version": "3.6.6"
  }
 },
 "nbformat": 4,
 "nbformat_minor": 5
}
