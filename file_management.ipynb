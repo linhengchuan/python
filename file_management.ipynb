{
 "cells": [
  {
   "cell_type": "markdown",
   "id": "715b2944-8b44-4d0a-87d4-0e1743d83c8d",
   "metadata": {},
   "source": [
    "# File management\n",
    "### Refer to the site below for the mode to use.\n",
    "### https://stackoverflow.com/questions/6648493/how-to-open-a-file-for-both-reading-and-writing"
   ]
  },
  {
   "cell_type": "code",
   "execution_count": 16,
   "id": "d06cc698-1116-4112-8c1e-9ee37cce8fc1",
   "metadata": {},
   "outputs": [],
   "source": [
    "filename = \"file_management.txt\""
   ]
  },
  {
   "cell_type": "code",
   "execution_count": 17,
   "id": "6a1b3616-48cc-4658-99f7-b3f6ed80700f",
   "metadata": {},
   "outputs": [],
   "source": [
    "output = \"Hello World! \""
   ]
  },
  {
   "cell_type": "code",
   "execution_count": 18,
   "id": "d3831d07-4ed9-4ea4-b952-26077389f45d",
   "metadata": {},
   "outputs": [],
   "source": [
    "with open(filename, \"a+\") as f:\n",
    "    f.seek(0)\n",
    "    f.write(output)\n",
    "    f.truncate()"
   ]
  },
  {
   "cell_type": "code",
   "execution_count": 19,
   "id": "e5843391-5efd-48c5-92ee-de3de40b3617",
   "metadata": {},
   "outputs": [
    {
     "name": "stdout",
     "output_type": "stream",
     "text": [
      "Hello World!\n"
     ]
    }
   ],
   "source": [
    "with open(filename, \"r+\") as f:\n",
    "    print(f.read())"
   ]
  },
  {
   "cell_type": "markdown",
   "id": "6dd1fbf2-8092-4904-af24-4fe5f5a18bb4",
   "metadata": {},
   "source": [
    "### Remove the file"
   ]
  },
  {
   "cell_type": "code",
   "execution_count": 1,
   "id": "3900d299-7bfa-4e6b-b95b-4dad68a55e10",
   "metadata": {},
   "outputs": [
    {
     "ename": "NameError",
     "evalue": "name 'filename' is not defined",
     "output_type": "error",
     "traceback": [
      "\u001b[1;31m---------------------------------------------------------------------------\u001b[0m",
      "\u001b[1;31mNameError\u001b[0m                                 Traceback (most recent call last)",
      "Input \u001b[1;32mIn [1]\u001b[0m, in \u001b[0;36m<cell line: 2>\u001b[1;34m()\u001b[0m\n\u001b[0;32m      1\u001b[0m \u001b[38;5;28;01mimport\u001b[39;00m \u001b[38;5;21;01mos\u001b[39;00m\n\u001b[1;32m----> 2\u001b[0m \u001b[38;5;28;01mif\u001b[39;00m os\u001b[38;5;241m.\u001b[39mpath\u001b[38;5;241m.\u001b[39mexists(\u001b[43mfilename\u001b[49m):\n\u001b[0;32m      3\u001b[0m     os\u001b[38;5;241m.\u001b[39mremove(filename)\n",
      "\u001b[1;31mNameError\u001b[0m: name 'filename' is not defined"
     ]
    }
   ],
   "source": [
    "import os\n",
    "if os.path.exists(filename):\n",
    "    os.remove(filename)"
   ]
  },
  {
   "cell_type": "code",
   "execution_count": 2,
   "id": "60e35f66-4781-4b75-8e2f-448f16f51aa9",
   "metadata": {},
   "outputs": [
    {
     "data": {
      "text/plain": [
       "'C:\\\\Users\\\\linhe\\\\personal_projects\\\\python-practices'"
      ]
     },
     "execution_count": 2,
     "metadata": {},
     "output_type": "execute_result"
    }
   ],
   "source": [
    "os.getcwd()"
   ]
  },
  {
   "cell_type": "code",
   "execution_count": 33,
   "id": "19de6d79-03db-4993-8edc-4ef7dd16422d",
   "metadata": {},
   "outputs": [
    {
     "name": "stdout",
     "output_type": "stream",
     "text": [
      "dirpath: C:\\Users\\linhe\\personal_projects\\python\n",
      "\n",
      "dirnames: ['.git', '.ipynb_checkpoints']\n",
      "\n",
      "filenames: ['.gitignore', 'basics.ipynb', 'data_structure.ipynb', 'encoder.ipynb', 'enum.ipynb', 'file.log', 'file_management.ipynb', 'file_management.txt', 'housing.ipynb', 'logger.ipynb', 'metaclass.ipynb', 'multiprocess.ipynb', 'multithread.ipynb', 'pandas.ipynb', 'pep8_conventions.ipynb', 'pybullet.ipynb', 'pytest.ipynb', 'README.md', 'singleton.ipynb', 'snake_game.ipynb', 'state_machine.ipynb', 'tictactoe.ipynb', 'unit_test.ipynb', 'unit_test.py', 'ur_rtde.ipynb', 'vtk.ipynb']\n"
     ]
    }
   ],
   "source": [
    "mypath = os.getcwd()\n",
    "f = []\n",
    "for (dirpath, dirnames, filenames) in os.walk(mypath):\n",
    "    f.extend(filenames)\n",
    "    break        # break if only files and folders in the top directory required.\n",
    "print(f\"dirpath: {dirpath}\\n\")\n",
    "print(f\"dirnames: {dirnames}\\n\")\n",
    "print(f\"filenames: {filenames}\")"
   ]
  },
  {
   "cell_type": "code",
   "execution_count": 35,
   "id": "2aadc349-63a3-4046-927b-2b10a3e25b12",
   "metadata": {},
   "outputs": [
    {
     "data": {
      "text/plain": [
       "'C:\\\\Users\\\\linhe\\\\personal_projects\\\\python\\\\.gitignore'"
      ]
     },
     "execution_count": 35,
     "metadata": {},
     "output_type": "execute_result"
    }
   ],
   "source": [
    "os.path.join(mypath, filenames[0])"
   ]
  },
  {
   "cell_type": "code",
   "execution_count": null,
   "id": "6e8bdab3-7084-4843-bdc1-9e8ce3c0c624",
   "metadata": {},
   "outputs": [],
   "source": []
  },
  {
   "cell_type": "code",
   "execution_count": 9,
   "id": "3077d7e3-4321-4ea5-aac5-6c6a52b1c7f1",
   "metadata": {},
   "outputs": [],
   "source": [
    "import os\n",
    "items = os.listdir(os.getcwd())"
   ]
  },
  {
   "cell_type": "code",
   "execution_count": 11,
   "id": "f1263e0e-7f34-479f-8569-1d7d07c1b637",
   "metadata": {},
   "outputs": [
    {
     "name": "stdout",
     "output_type": "stream",
     "text": [
      "file_management.txt\n"
     ]
    }
   ],
   "source": [
    "for item in items:\n",
    "    if item.endswith(\".txt\"):\n",
    "        print(item)\n",
    "        # os.remove(os.path.join(dir_name, item))"
   ]
  },
  {
   "cell_type": "code",
   "execution_count": 19,
   "id": "e81a1ac9-e2a1-416d-bc1d-0514db7c7ec0",
   "metadata": {},
   "outputs": [
    {
     "name": "stdout",
     "output_type": "stream",
     "text": [
      "file_management.txt\n",
      "file_management-checkpoint.txt\n",
      "untitled.txt\n",
      "untitled-checkpoint.txt\n"
     ]
    }
   ],
   "source": [
    "for (dirpath, dirnames, filenames) in os.walk(os.getcwd()):\n",
    "    for filename in filenames:\n",
    "        if filename.endswith(\".txt\"):\n",
    "            print(filename)"
   ]
  },
  {
   "cell_type": "code",
   "execution_count": 21,
   "id": "e39fcf19-b779-4b7e-9287-535d2519cf0c",
   "metadata": {},
   "outputs": [
    {
     "name": "stdout",
     "output_type": "stream",
     "text": [
      "processing file: .gitignore\n",
      "processing file: basics.ipynb\n",
      "processing file: cluster_points.ipynb\n",
      "processing file: cmd_ping.ipynb\n",
      "processing file: data_structure.ipynb\n",
      "processing file: encoder.ipynb\n",
      "processing file: enum.ipynb\n",
      "processing file: file.log\n",
      "processing file: file_management.ipynb\n",
      "processing file: file_management.txt\n",
      "C:\\Users\\linhe\\personal_projects\\python-practices\\file_management.txt\n",
      "processing file: housing.ipynb\n",
      "processing file: logger.ipynb\n",
      "processing file: metaclass.ipynb\n",
      "processing file: multiprocess.ipynb\n",
      "processing file: multithread.ipynb\n",
      "processing file: numpy.ipynb\n",
      "processing file: pandas.ipynb\n",
      "processing file: pep8_conventions.ipynb\n",
      "processing file: pybullet.ipynb\n",
      "processing file: pyside.ipynb\n",
      "processing file: README.md\n",
      "processing file: scipy.ipynb\n",
      "processing file: singleton.ipynb\n",
      "processing file: snake_game.ipynb\n",
      "processing file: state_machine.ipynb\n",
      "processing file: test.csv\n",
      "processing file: test_class.py\n",
      "processing file: tictactoe.ipynb\n",
      "processing file: unit_test.py\n",
      "processing file: ur_rtde.ipynb\n",
      "processing file: vtk.ipynb\n",
      "processing file: COMMIT_EDITMSG\n",
      "processing file: config\n",
      "processing file: description\n",
      "processing file: FETCH_HEAD\n",
      "processing file: HEAD\n",
      "processing file: index\n",
      "processing file: ORIG_HEAD\n",
      "processing file: applypatch-msg.sample\n",
      "processing file: commit-msg.sample\n",
      "processing file: fsmonitor-watchman.sample\n",
      "processing file: post-update.sample\n",
      "processing file: pre-applypatch.sample\n",
      "processing file: pre-commit.sample\n",
      "processing file: pre-merge-commit.sample\n",
      "processing file: pre-push.sample\n",
      "processing file: pre-rebase.sample\n",
      "processing file: pre-receive.sample\n",
      "processing file: prepare-commit-msg.sample\n",
      "processing file: push-to-checkout.sample\n",
      "processing file: update.sample\n",
      "processing file: exclude\n",
      "processing file: HEAD\n",
      "processing file: main\n",
      "processing file: main\n",
      "processing file: 51ca6012d5a2a72d4d6043d8a315488266e248\n",
      "processing file: ee813764d87509b3b49e644d11d1af3077fb28\n",
      "processing file: 9e9a88239954a4510b3beb513fe97d608e49dc\n",
      "processing file: 66cba8632aaf7b76be0d98aadefecffc8ac62a\n",
      "processing file: e6f1dfcdc9dd03188efa445acc72325f130ab6\n",
      "processing file: 2f7f07c18c0b485ef8a409f60d6a596feb7fa3\n",
      "processing file: e7e34b79a7420459e32955dc3ceed67ed3eee9\n",
      "processing file: 2ab64d4675230460aa5614d8bad957fdba705f\n",
      "processing file: 0bb52d7bf07e855f3642c4b7ab946cdf53e797\n",
      "processing file: 4afd67ce2262efd35e64a449ef6b5f14fc4480\n",
      "processing file: bd2465c8760b824b27f2d2c47aabb0b41d2421\n",
      "processing file: 8bdd0cbcb21b78a6b644219a5ee970f137f057\n",
      "processing file: 9d65a07177541d6b1a9bde0e5c814aeceab8f4\n",
      "processing file: 413c7fab88a1c58eb6c5e35dfa0168945c5ce9\n",
      "processing file: e3dbc7794d8f2114264d7cec7ffe00af7dece6\n",
      "processing file: 3f521685c04a2af1905a23e30aa4a8b514de51\n",
      "processing file: e4e8fa51b681b1625276bea36a0d2ecaa6917f\n",
      "processing file: 59ddbd0cb41452d639c13b555c10fc9c421dea\n",
      "processing file: 3fc764dfad54b30525152ca73acccbb0728784\n",
      "processing file: 6b18940af2619c0f79e0eac28f40dd8c0a8730\n",
      "processing file: fed3445d4aec57a1945eaf827ff3e8d83113ff\n",
      "processing file: 8bf800e91f707652ecfd6a6c7b0139a7601cf8\n",
      "processing file: 998cd830a3509c0ab784414e090b216e808b82\n",
      "processing file: e5cc609ae072076d3c50c952b3330503f09a21\n",
      "processing file: bf64442ab9769a681531801c32cfd97e2fe22b\n",
      "processing file: 02a1c6d3130a0066edb8293de6b4a2835861d0\n",
      "processing file: dd564b0a98887e2ed2c1728214ba7157da05c5\n",
      "processing file: 2d7d2a7549f232a5603bc0b57dcd25c2e9734a\n",
      "processing file: 7fb958b32e8f524a194e8aec14009c91250d0d\n",
      "processing file: 8ed0826484704489da87f875902d315c969407\n",
      "processing file: aa33f1613f4943daeeed825912b3b0f762482b\n",
      "processing file: 7acdd38de8efb237a08ded8e221db1c8a266bd\n",
      "processing file: 1850e3151b2307514a2054f648f9cd7ef72004\n",
      "processing file: e8410c0c2b5e279be115df4ea91a4bf5b7e93d\n",
      "processing file: fad8eadb20a895f5b0646c4977c950d0564c51\n",
      "processing file: 55457c2593c69f315dbdf3a5769f8d730d5ef6\n",
      "processing file: d477f20170b91262adb520a085b434506da84a\n",
      "processing file: 56c10a8e45493e455fbb79b2427a49034310d6\n",
      "processing file: 915ddcc91d9ab5326fe4a671f4cde7d036fdb1\n",
      "processing file: 7919c49a2f68092e3772e5f8af3e04e9e23329\n",
      "processing file: ac24cca57857cb79a0a3a4399e605fb3f45bc1\n",
      "processing file: c94cb74d8c456ed5102e3661cbccd216c00710\n",
      "processing file: db9d61ebe1e4c0986386936b19ed18ccf37ce1\n",
      "processing file: ec7c0ad209003259b92a207b16d130a38a6816\n",
      "processing file: 1d2303028954ec6ae9eb1df97ad4ce34d2df1c\n",
      "processing file: c4b26cb6c5176d013ca8911bbc185f697afad8\n",
      "processing file: b802038bf504417ed21d405f83d7f38ee223e4\n",
      "processing file: 2da1712f68e520f1c635c35989a419c2436aa9\n",
      "processing file: 558769bbbd188c4eecd25c2d2e8c354f534e38\n",
      "processing file: 18ed08b958467d865ffe3d83d2bd6ab1158313\n",
      "processing file: 2790003baa3937292fb6f5f5aae7bb640e461b\n",
      "processing file: bb18260cccc75b95a5ca27c0e0993aa1d42e9d\n",
      "processing file: 91a630dad37dc631e584b3e5447c687815b5f0\n",
      "processing file: cdd0b085cb8449c1dd8885365720b2e192b146\n",
      "processing file: 2771c9d27a3c5ca9f88530522b2e7fe67a3d26\n",
      "processing file: 158d1d44b42eb1c24057a93f280ae67b90364e\n",
      "processing file: c8d02b26de171de1acee5d672c941641ddf1f5\n",
      "processing file: 44b5ea86888cb900e304d0ba28f58c8fe49999\n",
      "processing file: f14b21f13cc31b9f2b670043fbd132a02267f8\n",
      "processing file: 613adc8337dccd96a0f8703e6c311b75cecfe2\n",
      "processing file: 405f043d7060b9397eba5fc9fcbb7ddd6b3e9a\n",
      "processing file: main\n",
      "processing file: main\n",
      "processing file: basics-checkpoint.ipynb\n",
      "processing file: cluster_points-checkpoint.ipynb\n",
      "processing file: cmd_ping-checkpoint.ipynb\n",
      "processing file: data_structure-checkpoint.ipynb\n",
      "processing file: encoder-checkpoint.ipynb\n",
      "processing file: enum-checkpoint.ipynb\n",
      "processing file: file-checkpoint.log\n",
      "processing file: file_management-checkpoint.ipynb\n",
      "processing file: file_management-checkpoint.txt\n",
      "C:\\Users\\linhe\\personal_projects\\python-practices\\.ipynb_checkpoints\\file_management-checkpoint.txt\n",
      "processing file: housing-checkpoint.ipynb\n",
      "processing file: logger-checkpoint.ipynb\n",
      "processing file: metaclass-checkpoint.ipynb\n",
      "processing file: multiproceed-checkpoint.ipynb\n",
      "processing file: multiprocess-checkpoint.ipynb\n",
      "processing file: multithread-checkpoint.ipynb\n",
      "processing file: numpy-checkpoint.ipynb\n",
      "processing file: pandas-checkpoint.ipynb\n",
      "processing file: pep8_conventions-checkpoint.ipynb\n",
      "processing file: pybullet-checkpoint.ipynb\n",
      "processing file: pyside-checkpoint.ipynb\n",
      "processing file: pytest-checkpoint.ipynb\n",
      "processing file: README-checkpoint.md\n",
      "processing file: scipy-checkpoint.ipynb\n",
      "processing file: singleton-checkpoint.ipynb\n",
      "processing file: snake_game-checkpoint.ipynb\n",
      "processing file: state_machine-checkpoint.ipynb\n",
      "processing file: test-checkpoint.csv\n",
      "processing file: tictactoe-checkpoint.ipynb\n",
      "processing file: unit_test-checkpoint.ipynb\n",
      "processing file: unit_test-checkpoint.py\n",
      "processing file: ur_rtde-checkpoint.ipynb\n",
      "processing file: vtk-checkpoint.ipynb\n",
      "processing file: .gitignore\n",
      "processing file: CACHEDIR.TAG\n",
      "processing file: README.md\n",
      "processing file: lastfailed\n",
      "processing file: nodeids\n",
      "processing file: stepwise\n",
      "processing file: untitled.txt\n",
      "C:\\Users\\linhe\\personal_projects\\python-practices\\cython_pyinstaller\\untitled.txt\n",
      "processing file: untitled-checkpoint.txt\n",
      "C:\\Users\\linhe\\personal_projects\\python-practices\\cython_pyinstaller\\.ipynb_checkpoints\\untitled-checkpoint.txt\n",
      "processing file: test_class.cpython-39-pytest-7.1.2.pyc\n",
      "processing file: unit_test.cpython-39-pytest-7.1.2.pyc\n"
     ]
    }
   ],
   "source": [
    "import os\n",
    "\n",
    "def scandirs(path):\n",
    "    for root, dirs, files in os.walk(path):\n",
    "        for currentFile in files:\n",
    "            print(\"processing file: \" + currentFile)\n",
    "            exts = ('.txt', '.jpg')\n",
    "            if currentFile.lower().endswith(exts):\n",
    "                print(os.path.join(root, currentFile))\n",
    "                # os.remove(os.path.join(root, currentFile))\n",
    "scandirs(os.getcwd())"
   ]
  },
  {
   "cell_type": "code",
   "execution_count": null,
   "id": "11f3af59-0200-4e67-89d6-0704ef85eeb1",
   "metadata": {},
   "outputs": [],
   "source": []
  }
 ],
 "metadata": {
  "kernelspec": {
   "display_name": "Python 3 (ipykernel)",
   "language": "python",
   "name": "python3"
  },
  "language_info": {
   "codemirror_mode": {
    "name": "ipython",
    "version": 3
   },
   "file_extension": ".py",
   "mimetype": "text/x-python",
   "name": "python",
   "nbconvert_exporter": "python",
   "pygments_lexer": "ipython3",
   "version": "3.9.12"
  }
 },
 "nbformat": 4,
 "nbformat_minor": 5
}
