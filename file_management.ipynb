{
 "cells": [
  {
   "cell_type": "markdown",
   "id": "715b2944-8b44-4d0a-87d4-0e1743d83c8d",
   "metadata": {},
   "source": [
    "# File management\n",
    "### Refer to the site below for the mode to use.\n",
    "### https://stackoverflow.com/questions/6648493/how-to-open-a-file-for-both-reading-and-writing"
   ]
  },
  {
   "cell_type": "code",
   "execution_count": 16,
   "id": "d06cc698-1116-4112-8c1e-9ee37cce8fc1",
   "metadata": {},
   "outputs": [],
   "source": [
    "filename = \"file_management.txt\""
   ]
  },
  {
   "cell_type": "code",
   "execution_count": 17,
   "id": "6a1b3616-48cc-4658-99f7-b3f6ed80700f",
   "metadata": {},
   "outputs": [],
   "source": [
    "output = \"Hello World! \""
   ]
  },
  {
   "cell_type": "code",
   "execution_count": 18,
   "id": "d3831d07-4ed9-4ea4-b952-26077389f45d",
   "metadata": {},
   "outputs": [],
   "source": [
    "with open(filename, \"a+\") as f:\n",
    "    f.seek(0)\n",
    "    f.write(output)\n",
    "    f.truncate()"
   ]
  },
  {
   "cell_type": "code",
   "execution_count": 19,
   "id": "e5843391-5efd-48c5-92ee-de3de40b3617",
   "metadata": {},
   "outputs": [
    {
     "name": "stdout",
     "output_type": "stream",
     "text": [
      "Hello World!\n"
     ]
    }
   ],
   "source": [
    "with open(filename, \"r+\") as f:\n",
    "    print(f.read())"
   ]
  },
  {
   "cell_type": "markdown",
   "id": "6dd1fbf2-8092-4904-af24-4fe5f5a18bb4",
   "metadata": {},
   "source": [
    "### Remove the file"
   ]
  },
  {
   "cell_type": "code",
   "execution_count": 1,
   "id": "3900d299-7bfa-4e6b-b95b-4dad68a55e10",
   "metadata": {},
   "outputs": [
    {
     "ename": "NameError",
     "evalue": "name 'filename' is not defined",
     "output_type": "error",
     "traceback": [
      "\u001b[1;31m---------------------------------------------------------------------------\u001b[0m",
      "\u001b[1;31mNameError\u001b[0m                                 Traceback (most recent call last)",
      "Input \u001b[1;32mIn [1]\u001b[0m, in \u001b[0;36m<cell line: 2>\u001b[1;34m()\u001b[0m\n\u001b[0;32m      1\u001b[0m \u001b[38;5;28;01mimport\u001b[39;00m \u001b[38;5;21;01mos\u001b[39;00m\n\u001b[1;32m----> 2\u001b[0m \u001b[38;5;28;01mif\u001b[39;00m os\u001b[38;5;241m.\u001b[39mpath\u001b[38;5;241m.\u001b[39mexists(\u001b[43mfilename\u001b[49m):\n\u001b[0;32m      3\u001b[0m     os\u001b[38;5;241m.\u001b[39mremove(filename)\n",
      "\u001b[1;31mNameError\u001b[0m: name 'filename' is not defined"
     ]
    }
   ],
   "source": [
    "import os\n",
    "if os.path.exists(filename):\n",
    "    os.remove(filename)"
   ]
  },
  {
   "cell_type": "code",
   "execution_count": 2,
   "id": "60e35f66-4781-4b75-8e2f-448f16f51aa9",
   "metadata": {},
   "outputs": [
    {
     "data": {
      "text/plain": [
       "'C:\\\\Users\\\\linhe\\\\personal_projects\\\\python-practices'"
      ]
     },
     "execution_count": 2,
     "metadata": {},
     "output_type": "execute_result"
    }
   ],
   "source": [
    "os.getcwd()"
   ]
  },
  {
   "cell_type": "code",
   "execution_count": 33,
   "id": "19de6d79-03db-4993-8edc-4ef7dd16422d",
   "metadata": {},
   "outputs": [
    {
     "name": "stdout",
     "output_type": "stream",
     "text": [
      "dirpath: C:\\Users\\linhe\\personal_projects\\python\n",
      "\n",
      "dirnames: ['.git', '.ipynb_checkpoints']\n",
      "\n",
      "filenames: ['.gitignore', 'basics.ipynb', 'data_structure.ipynb', 'encoder.ipynb', 'enum.ipynb', 'file.log', 'file_management.ipynb', 'file_management.txt', 'housing.ipynb', 'logger.ipynb', 'metaclass.ipynb', 'multiprocess.ipynb', 'multithread.ipynb', 'pandas.ipynb', 'pep8_conventions.ipynb', 'pybullet.ipynb', 'pytest.ipynb', 'README.md', 'singleton.ipynb', 'snake_game.ipynb', 'state_machine.ipynb', 'tictactoe.ipynb', 'unit_test.ipynb', 'unit_test.py', 'ur_rtde.ipynb', 'vtk.ipynb']\n"
     ]
    }
   ],
   "source": [
    "mypath = os.getcwd()\n",
    "f = []\n",
    "for (dirpath, dirnames, filenames) in os.walk(mypath):\n",
    "    f.extend(filenames)\n",
    "    break        # break if only files and folders in the top directory required.\n",
    "print(f\"dirpath: {dirpath}\\n\")\n",
    "print(f\"dirnames: {dirnames}\\n\")\n",
    "print(f\"filenames: {filenames}\")"
   ]
  },
  {
   "cell_type": "code",
   "execution_count": 35,
   "id": "2aadc349-63a3-4046-927b-2b10a3e25b12",
   "metadata": {},
   "outputs": [
    {
     "data": {
      "text/plain": [
       "'C:\\\\Users\\\\linhe\\\\personal_projects\\\\python\\\\.gitignore'"
      ]
     },
     "execution_count": 35,
     "metadata": {},
     "output_type": "execute_result"
    }
   ],
   "source": [
    "os.path.join(mypath, filenames[0])"
   ]
  },
  {
   "cell_type": "code",
   "execution_count": null,
   "id": "6e8bdab3-7084-4843-bdc1-9e8ce3c0c624",
   "metadata": {},
   "outputs": [],
   "source": []
  },
  {
   "cell_type": "code",
   "execution_count": null,
   "id": "3077d7e3-4321-4ea5-aac5-6c6a52b1c7f1",
   "metadata": {},
   "outputs": [],
   "source": []
  }
 ],
 "metadata": {
  "kernelspec": {
   "display_name": "Python 3 (ipykernel)",
   "language": "python",
   "name": "python3"
  },
  "language_info": {
   "codemirror_mode": {
    "name": "ipython",
    "version": 3
   },
   "file_extension": ".py",
   "mimetype": "text/x-python",
   "name": "python",
   "nbconvert_exporter": "python",
   "pygments_lexer": "ipython3",
   "version": "3.9.12"
  }
 },
 "nbformat": 4,
 "nbformat_minor": 5
}
