{
 "cells": [
  {
   "cell_type": "code",
   "execution_count": 4,
   "id": "f76c7d9f-d9b8-4e17-81ac-289429722898",
   "metadata": {},
   "outputs": [],
   "source": [
    "CONSTANT = 1\n",
    "\n",
    "class Animal():\n",
    "    def __init__(self, color=\"black\"):\n",
    "        self._color = color\n",
    "\n",
    "    def set_color(self, color):\n",
    "        self._color = color\n",
    " \n",
    "    def get_color(self):\n",
    "        return self.color        #comment 2 tabs away from code\n",
    "\n",
    "class Dog(Animal):\n",
    "    def __init__(self, color):\n",
    "        super().__init__()\n",
    " \n"
   ]
  },
  {
   "cell_type": "code",
   "execution_count": 25,
   "id": "25aaa9c9-37e7-4e9c-8106-871306e47f67",
   "metadata": {},
   "outputs": [],
   "source": [
    "class A():\n",
    "    def __init__(self):\n",
    "        super().__init__()\n",
    "        print(\"Init A\")\n",
    "        \n",
    "class B():\n",
    "    def __init__(self):\n",
    "        super().__init__()\n",
    "        print(\"Init B\")\n",
    "        \n",
    "class C(A,B):\n",
    "    def __init__(self):\n",
    "        super().__init__()\n",
    "        print(\"Init C\")\n",
    "        \n",
    "class D(A,B):\n",
    "    def __init__(self):\n",
    "        print(\"Init D\")\n",
    "\n",
    "class E(A,B):\n",
    "    def __init__(self):\n",
    "        A.__init__(self)\n",
    "        print(\"Init E\")"
   ]
  },
  {
   "cell_type": "code",
   "execution_count": 26,
   "id": "8498d1d7-df7a-4117-bae9-1be9d4a29095",
   "metadata": {},
   "outputs": [
    {
     "name": "stdout",
     "output_type": "stream",
     "text": [
      "Init B\n",
      "Init A\n",
      "Init C\n"
     ]
    },
    {
     "data": {
      "text/plain": [
       "<__main__.C at 0x27522fb2070>"
      ]
     },
     "execution_count": 26,
     "metadata": {},
     "output_type": "execute_result"
    }
   ],
   "source": [
    "C()"
   ]
  },
  {
   "cell_type": "code",
   "execution_count": 27,
   "id": "e635c42c-5a06-4367-b84e-ca15159792a1",
   "metadata": {},
   "outputs": [
    {
     "name": "stdout",
     "output_type": "stream",
     "text": [
      "Init D\n"
     ]
    },
    {
     "data": {
      "text/plain": [
       "<__main__.D at 0x275247343d0>"
      ]
     },
     "execution_count": 27,
     "metadata": {},
     "output_type": "execute_result"
    }
   ],
   "source": [
    "D()"
   ]
  },
  {
   "cell_type": "code",
   "execution_count": 28,
   "id": "5c8e6138-1421-4499-b20d-e0abfa5429be",
   "metadata": {},
   "outputs": [
    {
     "name": "stdout",
     "output_type": "stream",
     "text": [
      "Init B\n",
      "Init A\n",
      "Init E\n"
     ]
    },
    {
     "data": {
      "text/plain": [
       "<__main__.E at 0x27524384d30>"
      ]
     },
     "execution_count": 28,
     "metadata": {},
     "output_type": "execute_result"
    }
   ],
   "source": [
    "E()"
   ]
  },
  {
   "cell_type": "code",
   "execution_count": null,
   "id": "0ea2c1c7-116c-4a1e-97c7-73c9beca6203",
   "metadata": {},
   "outputs": [],
   "source": []
  },
  {
   "cell_type": "code",
   "execution_count": null,
   "id": "a243ef0c-25ca-4dfb-b04a-50885305935f",
   "metadata": {},
   "outputs": [],
   "source": []
  },
  {
   "cell_type": "code",
   "execution_count": null,
   "id": "24d1d206-ef37-4156-af33-49bb30c96c46",
   "metadata": {},
   "outputs": [],
   "source": []
  }
 ],
 "metadata": {
  "kernelspec": {
   "display_name": "Python 3 (ipykernel)",
   "language": "python",
   "name": "python3"
  },
  "language_info": {
   "codemirror_mode": {
    "name": "ipython",
    "version": 3
   },
   "file_extension": ".py",
   "mimetype": "text/x-python",
   "name": "python",
   "nbconvert_exporter": "python",
   "pygments_lexer": "ipython3",
   "version": "3.9.12"
  }
 },
 "nbformat": 4,
 "nbformat_minor": 5
}
