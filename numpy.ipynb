{
 "cells": [
  {
   "cell_type": "code",
   "execution_count": 2,
   "id": "75a96efb-0cc4-465c-a16c-cea76143c539",
   "metadata": {},
   "outputs": [],
   "source": [
    "import numpy as np"
   ]
  },
  {
   "cell_type": "code",
   "execution_count": 2,
   "id": "9a764d89-7fe6-443b-9397-67a986c57dbf",
   "metadata": {},
   "outputs": [],
   "source": [
    "j1 = np.array([1,1,1,1,1,1])"
   ]
  },
  {
   "cell_type": "code",
   "execution_count": 8,
   "id": "2cf59494-c769-4c8b-94c6-7aec7099216e",
   "metadata": {},
   "outputs": [],
   "source": [
    "j2 = np.array([-1.1499504413306605, -2.5276477635487886, -0.7877716080698223, -0.3372901507005057, -3.755025135160846, -4.757863235315354])"
   ]
  },
  {
   "cell_type": "code",
   "execution_count": 9,
   "id": "5f9854b6-5e28-4baa-9b97-f31fd623327d",
   "metadata": {},
   "outputs": [
    {
     "data": {
      "text/plain": [
       "False"
      ]
     },
     "execution_count": 9,
     "metadata": {},
     "output_type": "execute_result"
    }
   ],
   "source": [
    "np.all(np.less(np.abs(j2),np.array([3.14,3.14,3.14,3.14,3.14,3.14])))"
   ]
  },
  {
   "cell_type": "code",
   "execution_count": 13,
   "id": "2d5d5142-a156-4ced-bdcd-9b7ff1693b43",
   "metadata": {},
   "outputs": [
    {
     "data": {
      "text/plain": [
       "1.5707963267948966"
      ]
     },
     "execution_count": 13,
     "metadata": {},
     "output_type": "execute_result"
    }
   ],
   "source": [
    "np.pi/2"
   ]
  },
  {
   "cell_type": "code",
   "execution_count": 18,
   "id": "bc0c7a5d-7a08-4447-b4bf-11a66f1886ff",
   "metadata": {},
   "outputs": [
    {
     "data": {
      "text/plain": [
       "array([1.57079633, 1.57079633, 1.57079633, 1.57079633, 1.57079633,\n",
       "       1.57079633])"
      ]
     },
     "execution_count": 18,
     "metadata": {},
     "output_type": "execute_result"
    }
   ],
   "source": [
    "np.full(6,[np.pi/2])"
   ]
  },
  {
   "cell_type": "markdown",
   "id": "ee2d9422-b877-4eaf-a35a-df46110dba85",
   "metadata": {},
   "source": [
    "### Shape"
   ]
  },
  {
   "cell_type": "code",
   "execution_count": 13,
   "id": "3116ea8f-d643-4aba-9119-60cce11be1b4",
   "metadata": {},
   "outputs": [],
   "source": [
    "data = np.arange(36, dtype='float32')\n",
    "data.resize((3,4,3))"
   ]
  },
  {
   "cell_type": "code",
   "execution_count": 14,
   "id": "fc1cdbee-8044-491f-930f-25e935e2be18",
   "metadata": {},
   "outputs": [
    {
     "data": {
      "text/plain": [
       "(3, 4, 3)"
      ]
     },
     "execution_count": 14,
     "metadata": {},
     "output_type": "execute_result"
    }
   ],
   "source": [
    "data.shape"
   ]
  },
  {
   "cell_type": "markdown",
   "id": "f8af365c-e80d-4733-ac58-eaad54fb7d50",
   "metadata": {
    "tags": []
   },
   "source": [
    "### MEMMAP"
   ]
  },
  {
   "cell_type": "code",
   "execution_count": 8,
   "id": "40957710-1a42-4046-84a6-43386173b4e6",
   "metadata": {},
   "outputs": [],
   "source": [
    "from tempfile import mkdtemp\n",
    "import os.path as path\n",
    "import numpy as np\n",
    "filename = path.join(mkdtemp(), 'temp.dat')"
   ]
  },
  {
   "cell_type": "code",
   "execution_count": 9,
   "id": "31bf8d9d-307d-40db-baf7-36e30d1eac07",
   "metadata": {},
   "outputs": [],
   "source": [
    "#writing\n",
    "data = np.arange(12, dtype='float32')\n",
    "data.resize((3,4))\n",
    "fp = np.memmap(filename, dtype='float32', mode='w+', shape=(3,4))\n",
    "fp[:] = data[:]\n",
    "fp.flush()"
   ]
  },
  {
   "cell_type": "code",
   "execution_count": 11,
   "id": "4d7ecf69-3f18-4fbd-94d4-03a27c1061c3",
   "metadata": {},
   "outputs": [
    {
     "data": {
      "text/plain": [
       "array([[ 0.,  1.,  2.,  3.],\n",
       "       [ 4.,  5.,  6.,  7.],\n",
       "       [ 8.,  9., 10., 11.]], dtype=float32)"
      ]
     },
     "execution_count": 11,
     "metadata": {},
     "output_type": "execute_result"
    }
   ],
   "source": [
    "#reading\n",
    "newfp = np.memmap(filename, dtype='float32', mode='r', shape=(3,4))\n",
    "np.array(newfp)"
   ]
  },
  {
   "cell_type": "code",
   "execution_count": null,
   "id": "d26930cb-666c-4707-8921-b4d6c4539aa1",
   "metadata": {},
   "outputs": [],
   "source": []
  },
  {
   "cell_type": "code",
   "execution_count": null,
   "id": "6113267f-0758-4331-b4d1-36f1ffd94f35",
   "metadata": {},
   "outputs": [],
   "source": []
  },
  {
   "cell_type": "code",
   "execution_count": null,
   "id": "f3b39e9c-6c2b-4589-bddb-a98e5b575949",
   "metadata": {},
   "outputs": [],
   "source": []
  },
  {
   "cell_type": "code",
   "execution_count": null,
   "id": "940ccb02-80d5-4d95-bfb6-ae8464c60245",
   "metadata": {},
   "outputs": [],
   "source": []
  },
  {
   "cell_type": "code",
   "execution_count": 97,
   "id": "be870783-755b-4752-b854-abc18d21384b",
   "metadata": {},
   "outputs": [],
   "source": [
    "tr = np.array([ [ 0.0, 0.0, 1.0, 0.0,], \n",
    "               [ 0.0, -1.0, 0.0, 0.06772,], \n",
    "               [ 1.0, 0.0, 0.0, 0.744,], \n",
    "               [ 0.0, 0.0, 0.0, 1.0,],])"
   ]
  },
  {
   "cell_type": "code",
   "execution_count": 98,
   "id": "3814895c-7448-4b38-a173-8858e672409d",
   "metadata": {},
   "outputs": [],
   "source": [
    "from scipy.spatial.transform import Rotation as R\n",
    "rot = R.from_euler('z', -45, degrees=True)"
   ]
  },
  {
   "cell_type": "code",
   "execution_count": 99,
   "id": "c56ed900-ddc7-4272-84d6-d517ec0c58f3",
   "metadata": {},
   "outputs": [
    {
     "data": {
      "text/plain": [
       "array([[ 0.70710678,  0.70710678,  0.        ],\n",
       "       [-0.70710678,  0.70710678, -0.        ],\n",
       "       [-0.        ,  0.        ,  1.        ]])"
      ]
     },
     "execution_count": 99,
     "metadata": {},
     "output_type": "execute_result"
    }
   ],
   "source": [
    "rot.as_matrix()"
   ]
  },
  {
   "cell_type": "code",
   "execution_count": 100,
   "id": "93350da6-3d50-4d1a-a4bd-25b49dc29258",
   "metadata": {},
   "outputs": [
    {
     "name": "stdout",
     "output_type": "stream",
     "text": [
      "[[ 0.70710678  0.70710678  0.          0.        ]\n",
      " [-0.70710678  0.70710678 -0.          0.        ]\n",
      " [-0.          0.          1.          0.        ]\n",
      " [ 0.          0.          0.          1.        ]]\n"
     ]
    }
   ],
   "source": [
    "a = np.eye(4)\n",
    "a[:3,:3]=rot.as_matrix()\n",
    "print(a)"
   ]
  },
  {
   "cell_type": "code",
   "execution_count": 101,
   "id": "5adbdbbd-394c-4941-869e-5908acdcbbae",
   "metadata": {},
   "outputs": [
    {
     "data": {
      "text/plain": [
       "array([[ 0.        , -0.70710678,  0.70710678,  0.04788527],\n",
       "       [ 0.        , -0.70710678, -0.70710678,  0.04788527],\n",
       "       [ 1.        ,  0.        ,  0.        ,  0.744     ],\n",
       "       [ 0.        ,  0.        ,  0.        ,  1.        ]])"
      ]
     },
     "execution_count": 101,
     "metadata": {},
     "output_type": "execute_result"
    }
   ],
   "source": [
    "a@tr"
   ]
  },
  {
   "cell_type": "code",
   "execution_count": 102,
   "id": "6a70fc7e-d7ad-429f-b7f7-dfb5b6952d10",
   "metadata": {},
   "outputs": [],
   "source": [
    "tr_final = tr[:3,:3]@rot.as_matrix()[:3,:3]"
   ]
  },
  {
   "cell_type": "code",
   "execution_count": 103,
   "id": "cc4a1ef3-045f-4dd7-a5a7-d7eaa0696200",
   "metadata": {},
   "outputs": [
    {
     "data": {
      "text/plain": [
       "array([[ 0.        ,  0.        ,  1.        ],\n",
       "       [ 0.70710678, -0.70710678,  0.        ],\n",
       "       [ 0.70710678,  0.70710678,  0.        ]])"
      ]
     },
     "execution_count": 103,
     "metadata": {},
     "output_type": "execute_result"
    }
   ],
   "source": [
    "tr_final"
   ]
  },
  {
   "cell_type": "code",
   "execution_count": null,
   "id": "a9575388-c2ff-4c83-89d5-9192806014ca",
   "metadata": {},
   "outputs": [],
   "source": []
  },
  {
   "cell_type": "code",
   "execution_count": 104,
   "id": "13f8770d-6871-47de-b0bb-8d740900f2f6",
   "metadata": {},
   "outputs": [],
   "source": [
    "r1 = R.from_matrix(tr_final)"
   ]
  },
  {
   "cell_type": "code",
   "execution_count": 105,
   "id": "b0cbda41-551b-4871-8f6d-bbb842cd7e9c",
   "metadata": {},
   "outputs": [
    {
     "data": {
      "text/plain": [
       "array([1.7599884 , 0.72901107, 1.7599884 ])"
      ]
     },
     "execution_count": 105,
     "metadata": {},
     "output_type": "execute_result"
    }
   ],
   "source": [
    "r1.as_rotvec()"
   ]
  },
  {
   "cell_type": "code",
   "execution_count": null,
   "id": "36f735be-67fc-418e-905a-55c023ab24e6",
   "metadata": {},
   "outputs": [],
   "source": []
  },
  {
   "cell_type": "code",
   "execution_count": 5,
   "id": "688d996c-0daf-41fd-b213-5f25a50a87f9",
   "metadata": {},
   "outputs": [
    {
     "data": {
      "text/plain": [
       "array([ -59.80430677, -113.05083999,  -82.14483418, -162.12774391,\n",
       "       -149.24275159, -129.56794069])"
      ]
     },
     "execution_count": 5,
     "metadata": {},
     "output_type": "execute_result"
    }
   ],
   "source": [
    "np.degrees(np.array([-1.04378206, -1.97310938, -1.43369782, -2.82966294, -2.6047774 ,\n",
    "       -2.26138717]))"
   ]
  },
  {
   "cell_type": "code",
   "execution_count": null,
   "id": "d83818e0-5e0a-4490-9919-10d4f724c044",
   "metadata": {},
   "outputs": [],
   "source": []
  }
 ],
 "metadata": {
  "kernelspec": {
   "display_name": "Python 3",
   "language": "python",
   "name": "python3"
  },
  "language_info": {
   "codemirror_mode": {
    "name": "ipython",
    "version": 3
   },
   "file_extension": ".py",
   "mimetype": "text/x-python",
   "name": "python",
   "nbconvert_exporter": "python",
   "pygments_lexer": "ipython3",
   "version": "3.6.6"
  }
 },
 "nbformat": 4,
 "nbformat_minor": 5
}
