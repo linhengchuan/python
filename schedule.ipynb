{
 "cells": [
  {
   "cell_type": "code",
   "execution_count": 2,
   "id": "6c6e171b-1cf3-4b40-b18f-a05c8d957b8e",
   "metadata": {},
   "outputs": [],
   "source": [
    "#!pip install schedule"
   ]
  },
  {
   "cell_type": "code",
   "execution_count": null,
   "id": "9b5288e2-e55d-4c4e-bd46-0fd6e227ba80",
   "metadata": {},
   "outputs": [
    {
     "name": "stdout",
     "output_type": "stream",
     "text": [
      "current time:  2023-08-15 20:54:17.356098\n",
      "Next schedule job run:  2023-08-15 20:55:00\n",
      "Running job\n"
     ]
    }
   ],
   "source": [
    "import schedule\n",
    "import time\n",
    "import datetime\n",
    "\n",
    "\n",
    "def job():\n",
    "    print(\"Running job\")\n",
    "\n",
    "# schedule.every(10).minutes.do(job)\n",
    "# schedule.every().hour.do(job)\n",
    "# schedule.every().day.at(\"10:30\").do(job)\n",
    "# schedule.every().monday.do(job)\n",
    "# schedule.every().wednesday.at(\"13:15\").do(job)\n",
    "# schedule.every().day.at(\"12:42\", \"Europe/Amsterdam\").do(job)\n",
    "# schedule.every().minute.at(\":17\").do(job)\n",
    "\n",
    "s = schedule.every().day.at(\"20:55\", \"Singapore\").do(job)\n",
    "ct = datetime.datetime.now()\n",
    "print(\"current time: \", ct)\n",
    "print(\"Next schedule job run: \", s.next_run)\n",
    "\n",
    "\n",
    "while True:\n",
    "    schedule.run_pending()\n",
    "    time.sleep(1)"
   ]
  },
  {
   "cell_type": "code",
   "execution_count": null,
   "id": "1c9ada7f-69d6-45ff-ae5d-9de0fb6cb350",
   "metadata": {},
   "outputs": [],
   "source": []
  }
 ],
 "metadata": {
  "kernelspec": {
   "display_name": "Python 3 (ipykernel)",
   "language": "python",
   "name": "python3"
  },
  "language_info": {
   "codemirror_mode": {
    "name": "ipython",
    "version": 3
   },
   "file_extension": ".py",
   "mimetype": "text/x-python",
   "name": "python",
   "nbconvert_exporter": "python",
   "pygments_lexer": "ipython3",
   "version": "3.9.12"
  }
 },
 "nbformat": 4,
 "nbformat_minor": 5
}
