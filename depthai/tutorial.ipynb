{
 "cells": [
  {
   "cell_type": "code",
   "execution_count": 2,
   "id": "0f65769c-1778-4d4a-967b-924661078684",
   "metadata": {},
   "outputs": [],
   "source": [
    "# !pip install numpy opencv-python depthai blobconverter"
   ]
  },
  {
   "cell_type": "code",
   "execution_count": 3,
   "id": "5324b1c8-e2d9-442f-b879-95c4ea839d82",
   "metadata": {},
   "outputs": [],
   "source": [
    "import numpy as np  # numpy - manipulate the packet data returned by depthai\n",
    "import cv2  # opencv - display the video stream\n",
    "import depthai  # depthai - access the camera and its data packets\n",
    "import blobconverter  # blobconverter - compile and download MyriadX neural network blobs"
   ]
  },
  {
   "cell_type": "code",
   "execution_count": 4,
   "id": "e09724f3-8d81-4e40-8e19-4680f57bb355",
   "metadata": {},
   "outputs": [],
   "source": [
    "pipeline = depthai.Pipeline()"
   ]
  },
  {
   "cell_type": "code",
   "execution_count": null,
   "id": "b430c2ed-b956-48e4-a740-899e293f9b50",
   "metadata": {},
   "outputs": [],
   "source": []
  },
  {
   "cell_type": "code",
   "execution_count": null,
   "id": "7dd42890-b531-4a6e-adfa-3a818511da25",
   "metadata": {},
   "outputs": [],
   "source": []
  }
 ],
 "metadata": {
  "kernelspec": {
   "display_name": "Python 3 (ipykernel)",
   "language": "python",
   "name": "python3"
  },
  "language_info": {
   "codemirror_mode": {
    "name": "ipython",
    "version": 3
   },
   "file_extension": ".py",
   "mimetype": "text/x-python",
   "name": "python",
   "nbconvert_exporter": "python",
   "pygments_lexer": "ipython3",
   "version": "3.9.0"
  }
 },
 "nbformat": 4,
 "nbformat_minor": 5
}
