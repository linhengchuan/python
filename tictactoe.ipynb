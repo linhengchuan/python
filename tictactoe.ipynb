{
 "cells": [
  {
   "cell_type": "code",
   "execution_count": 1,
   "id": "d6a19408-f36a-4e4e-86c7-1aab4249dea5",
   "metadata": {},
   "outputs": [],
   "source": [
    "import os\n",
    "import sys\n",
    "from PySide2.QtWidgets import (\n",
    "    QMainWindow, QApplication, QLabel, QVBoxLayout, QHBoxLayout, QPushButton, QWidget, QLineEdit, QTextEdit, QGridLayout, QButtonGroup\n",
    ")\n",
    "from PySide2.QtCore import Qt\n",
    "from PySide2.QtGui import QPalette, QColor\n",
    "import numpy as np"
   ]
  },
  {
   "cell_type": "code",
   "execution_count": 2,
   "id": "71c38cb4-1863-4b5e-adf4-f2a9df52eb83",
   "metadata": {},
   "outputs": [],
   "source": [
    "class Color(QWidget):\n",
    "\n",
    "    def __init__(self, color):\n",
    "        super(Color, self).__init__()\n",
    "        self.setAutoFillBackground(True)\n",
    "\n",
    "        palette = self.palette()\n",
    "        palette.setColor(QPalette.Window, QColor(color))\n",
    "        self.setPalette(palette)"
   ]
  },
  {
   "cell_type": "code",
   "execution_count": null,
   "id": "7d45372e-2dbe-43d3-a9bd-ee678b152010",
   "metadata": {},
   "outputs": [
    {
     "name": "stdout",
     "output_type": "stream",
     "text": [
      "row: 2\n",
      "column: 2\n",
      "row: 2\n",
      "column: 2\n"
     ]
    }
   ],
   "source": [
    "class MainWindow(QMainWindow):\n",
    "    def __init__(self):\n",
    "        super(MainWindow, self).__init__()\n",
    "        self.setWindowTitle(\"Heng Chuan's Tic Tac Toe\")\n",
    "        self.setGeometry(500, 500, 400, 300)\n",
    "        self._count = 0\n",
    "        self._side = 3\n",
    "        \n",
    "        glayout = QGridLayout()\n",
    "        \n",
    "        # group = QButtonGroup()\n",
    "        ls = []\n",
    "        for i in range(3):\n",
    "            for j in range(3):\n",
    "                btn = QPushButton(\"\")\n",
    "                # btn.clicked.connect(lambda: self.print_btn(i,j))\n",
    "                glayout.addWidget(btn, i, j)\n",
    "                ls.append(btn)\n",
    "                \n",
    "        for i in range(3):\n",
    "            for j in range(3):\n",
    "                btn = ls.pop(0)\n",
    "                btn.clicked.connect(lambda: self.print_btn(i,j))\n",
    "                \n",
    "                \n",
    "        # self._btn_1 = QPushButton(\"\")\n",
    "\n",
    "        widget = QWidget()\n",
    "        widget.setLayout(glayout)\n",
    "        self.setCentralWidget(widget)\n",
    "        self.show()\n",
    "        \n",
    "    def print_btn(self, i, j):\n",
    "        print(f\"row: {i}\")\n",
    "        print(f\"column: {j}\")\n",
    "        \n",
    "\n",
    "if not QApplication.instance():\n",
    "    app = QApplication(sys.argv)\n",
    "else:\n",
    "    app = QApplication.instance()\n",
    "w = MainWindow()\n",
    "app.exec_()"
   ]
  },
  {
   "cell_type": "code",
   "execution_count": 25,
   "id": "7a6cc822-9996-4ec3-8e6c-595e585dbe70",
   "metadata": {},
   "outputs": [
    {
     "data": {
      "text/plain": [
       "8"
      ]
     },
     "execution_count": 25,
     "metadata": {},
     "output_type": "execute_result"
    }
   ],
   "source": []
  },
  {
   "cell_type": "code",
   "execution_count": 15,
   "id": "04bda0dd-9376-43fe-9c55-4506ff53b6f3",
   "metadata": {},
   "outputs": [],
   "source": [
    "ls=[1,2,3]"
   ]
  },
  {
   "cell_type": "code",
   "execution_count": 16,
   "id": "02b13088-d211-4b3d-b6dd-a24d99b90f90",
   "metadata": {},
   "outputs": [
    {
     "data": {
      "text/plain": [
       "1"
      ]
     },
     "execution_count": 16,
     "metadata": {},
     "output_type": "execute_result"
    }
   ],
   "source": [
    "ls.pop(0)"
   ]
  },
  {
   "cell_type": "code",
   "execution_count": null,
   "id": "4fa84291-33d1-4ec7-96ae-2dc9ffe17138",
   "metadata": {},
   "outputs": [],
   "source": []
  }
 ],
 "metadata": {
  "kernelspec": {
   "display_name": "Python 3",
   "language": "python",
   "name": "python3"
  },
  "language_info": {
   "codemirror_mode": {
    "name": "ipython",
    "version": 3
   },
   "file_extension": ".py",
   "mimetype": "text/x-python",
   "name": "python",
   "nbconvert_exporter": "python",
   "pygments_lexer": "ipython3",
   "version": "3.6.6"
  }
 },
 "nbformat": 4,
 "nbformat_minor": 5
}
