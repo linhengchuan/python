{
 "cells": [
  {
   "cell_type": "code",
   "execution_count": null,
   "id": "af9b7729-1cee-40fc-9133-4f11bc743916",
   "metadata": {},
   "outputs": [],
   "source": []
  },
  {
   "cell_type": "markdown",
   "id": "cc150e30-41ac-4736-bf36-7e2637064882",
   "metadata": {},
   "source": [
    "### deque"
   ]
  },
  {
   "cell_type": "code",
   "execution_count": 5,
   "id": "fbe15ae9-659f-452d-9315-4101f78932a5",
   "metadata": {},
   "outputs": [
    {
     "name": "stdout",
     "output_type": "stream",
     "text": [
      "deque(['name', 'age', 'DOB'])\n"
     ]
    }
   ],
   "source": [
    "from collections import deque \n",
    "      \n",
    "queue = deque(['name','age','DOB'])  \n",
    "      \n",
    "print(queue)"
   ]
  },
  {
   "cell_type": "code",
   "execution_count": 6,
   "id": "5d1b4b2b-1643-4e35-9337-1bda2c579725",
   "metadata": {},
   "outputs": [
    {
     "name": "stdout",
     "output_type": "stream",
     "text": [
      "test\n",
      "name\n"
     ]
    }
   ],
   "source": [
    "queue.append(\"test\")\n",
    "queue.append(\"test\")\n",
    "print(queue.pop())\n",
    "print(queue.popleft())"
   ]
  },
  {
   "cell_type": "markdown",
   "id": "c53d5e94-93d1-42a9-a8a0-19cd63f0638e",
   "metadata": {},
   "source": [
    "### heapq is the priority queue"
   ]
  },
  {
   "cell_type": "code",
   "execution_count": 7,
   "id": "0543d661-c947-4fd0-9972-815fce27f093",
   "metadata": {},
   "outputs": [
    {
     "name": "stdout",
     "output_type": "stream",
     "text": [
      "The created heap is : [1, 3, 9, 7, 5]\n",
      "The modified heap after push is : [1, 3, 4, 7, 5, 9]\n",
      "The popped and smallest element is : 1\n"
     ]
    }
   ],
   "source": [
    "import heapq\n",
    "  \n",
    "# initializing list\n",
    "li = [5, 7, 9, 1, 3]\n",
    "  \n",
    "# using heapify to convert list into heap\n",
    "heapq.heapify(li)\n",
    "  \n",
    "# printing created heap\n",
    "print (\"The created heap is : \",end=\"\")\n",
    "print (list(li))\n",
    "  \n",
    "# using heappush() to push elements into heap\n",
    "# pushes 4\n",
    "heapq.heappush(li,4)\n",
    "  \n",
    "# printing modified heap\n",
    "print (\"The modified heap after push is : \",end=\"\")\n",
    "print (list(li))\n",
    "  \n",
    "# using heappop() to pop smallest element\n",
    "print (\"The popped and smallest element is : \",end=\"\")\n",
    "print (heapq.heappop(li))"
   ]
  },
  {
   "cell_type": "code",
   "execution_count": null,
   "id": "81f5d6be-6b7a-435d-b11d-5dc44c866c1e",
   "metadata": {},
   "outputs": [],
   "source": []
  },
  {
   "cell_type": "code",
   "execution_count": null,
   "id": "66d2af5d-9cc9-405b-8167-f572e5bb026c",
   "metadata": {},
   "outputs": [],
   "source": []
  },
  {
   "cell_type": "code",
   "execution_count": null,
   "id": "322968c3-48c3-4586-941d-552f4538fb11",
   "metadata": {},
   "outputs": [],
   "source": []
  }
 ],
 "metadata": {
  "kernelspec": {
   "display_name": "Python 3 (ipykernel)",
   "language": "python",
   "name": "python3"
  },
  "language_info": {
   "codemirror_mode": {
    "name": "ipython",
    "version": 3
   },
   "file_extension": ".py",
   "mimetype": "text/x-python",
   "name": "python",
   "nbconvert_exporter": "python",
   "pygments_lexer": "ipython3",
   "version": "3.9.12"
  }
 },
 "nbformat": 4,
 "nbformat_minor": 5
}
