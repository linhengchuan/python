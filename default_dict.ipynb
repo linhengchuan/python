{
 "cells": [
  {
   "cell_type": "code",
   "execution_count": 37,
   "id": "740ef617-3559-4d55-8274-cabfbb0916d0",
   "metadata": {},
   "outputs": [],
   "source": [
    "from collections import defaultdict\n",
    "from typing import DefaultDict, Dict, Any"
   ]
  },
  {
   "cell_type": "code",
   "execution_count": 38,
   "id": "18f4866a-1ece-4872-aa19-8f9846c1ef08",
   "metadata": {},
   "outputs": [
    {
     "name": "stdout",
     "output_type": "stream",
     "text": [
      "defaultdict(<function <lambda> at 0x000001F8B6F993A0>, {})\n",
      "{'NAME': 'test', 'DICT': defaultdict(<function <lambda>.<locals>.<lambda> at 0x000001F8B92A6AF0>, {})}\n"
     ]
    }
   ],
   "source": [
    "_dict: Dict[int, Dict[str, Any]] = defaultdict(lambda: {'NAME': 'test', 'DICT': defaultdict(lambda: None)})\n",
    "print(_dict)\n",
    "print(_dict[1])"
   ]
  },
  {
   "cell_type": "code",
   "execution_count": 39,
   "id": "57e1c97c-a2ab-46ac-b449-461bcdcce05a",
   "metadata": {},
   "outputs": [
    {
     "name": "stdout",
     "output_type": "stream",
     "text": [
      "defaultdict(<function <lambda>.<locals>.<lambda> at 0x000001F8B92A6AF0>, {1: 1, 2: 3, 3: 5})\n",
      "1\n",
      "3\n"
     ]
    }
   ],
   "source": [
    "_dict[1][\"DICT\"][1] = 1\n",
    "_dict[1][\"DICT\"][2] = 3\n",
    "_dict[1][\"DICT\"][3] = 5\n",
    "print(_dict[1][\"DICT\"])\n",
    "print(len(_dict))\n",
    "print(len(_dict[1][\"DICT\"]))"
   ]
  },
  {
   "cell_type": "code",
   "execution_count": 40,
   "id": "1b2b10a4-ad2d-486f-b5ea-768a711fc5ad",
   "metadata": {},
   "outputs": [
    {
     "name": "stdout",
     "output_type": "stream",
     "text": [
      "2\n"
     ]
    }
   ],
   "source": [
    "del _dict[1][\"DICT\"][3]\n",
    "print(len(_dict[1][\"DICT\"]))"
   ]
  },
  {
   "cell_type": "code",
   "execution_count": 41,
   "id": "79db14b4-969d-4f0d-87be-07e05f8622aa",
   "metadata": {},
   "outputs": [
    {
     "name": "stdout",
     "output_type": "stream",
     "text": [
      "0\n"
     ]
    }
   ],
   "source": [
    "_dict[1][\"DICT\"].clear()\n",
    "print(len(_dict[1][\"DICT\"]))"
   ]
  },
  {
   "cell_type": "code",
   "execution_count": null,
   "id": "f55cc619-2f08-4340-990e-58a600601c51",
   "metadata": {},
   "outputs": [],
   "source": []
  }
 ],
 "metadata": {
  "kernelspec": {
   "display_name": "Python 3 (ipykernel)",
   "language": "python",
   "name": "python3"
  },
  "language_info": {
   "codemirror_mode": {
    "name": "ipython",
    "version": 3
   },
   "file_extension": ".py",
   "mimetype": "text/x-python",
   "name": "python",
   "nbconvert_exporter": "python",
   "pygments_lexer": "ipython3",
   "version": "3.9.12"
  }
 },
 "nbformat": 4,
 "nbformat_minor": 5
}
