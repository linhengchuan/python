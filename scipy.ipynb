{
 "cells": [
  {
   "cell_type": "code",
   "execution_count": 1,
   "id": "2c018540-f963-414e-a641-c66a2b676a81",
   "metadata": {},
   "outputs": [],
   "source": [
    "from scipy.spatial.transform import Rotation as R\n",
    "import numpy as np"
   ]
  },
  {
   "cell_type": "code",
   "execution_count": 8,
   "id": "b80f907b-10a4-4185-9b5f-9ef9aa80d9fe",
   "metadata": {},
   "outputs": [],
   "source": [
    "tr = np.array([[0, 0, 1, 0],\n",
    "               [0, 1, 0, 1],\n",
    "               [1, 0, 0, 1],\n",
    "               [0, 0, 0, 1]]) "
   ]
  },
  {
   "cell_type": "code",
   "execution_count": 9,
   "id": "8b4e527d-f826-4cb7-82c5-4b658342ba1d",
   "metadata": {},
   "outputs": [
    {
     "data": {
      "text/plain": [
       "array([[0, 0, 1, 0],\n",
       "       [0, 1, 0, 1],\n",
       "       [1, 0, 0, 1],\n",
       "       [0, 0, 0, 1]])"
      ]
     },
     "execution_count": 9,
     "metadata": {},
     "output_type": "execute_result"
    }
   ],
   "source": [
    "tr"
   ]
  },
  {
   "cell_type": "code",
   "execution_count": 10,
   "id": "ec82ec11-80cb-4c9b-897f-04aad166dc34",
   "metadata": {},
   "outputs": [
    {
     "data": {
      "text/plain": [
       "array([[ 0.,  1.,  0.,  0.],\n",
       "       [-1.,  0., -0.,  0.],\n",
       "       [-0.,  0.,  1.,  0.],\n",
       "       [ 0.,  0.,  0.,  1.]])"
      ]
     },
     "execution_count": 10,
     "metadata": {},
     "output_type": "execute_result"
    }
   ],
   "source": [
    "rot = R.from_euler('z', -90, degrees=True)\n",
    "tr_offset = np.eye(4)\n",
    "tr_offset[:3,:3] = rot.as_matrix()\n",
    "tr_offset"
   ]
  },
  {
   "cell_type": "code",
   "execution_count": 11,
   "id": "60f3c2fb-0a10-48f1-9b9f-3ae668a09f7f",
   "metadata": {},
   "outputs": [
    {
     "name": "stdout",
     "output_type": "stream",
     "text": [
      "[[ 0.  1.  0.  1.]\n",
      " [ 0.  0. -1.  0.]\n",
      " [ 1.  0.  0.  1.]\n",
      " [ 0.  0.  0.  1.]]\n"
     ]
    }
   ],
   "source": [
    "tr_eef = tr_offset @ tr\n",
    "print(tr_eef)"
   ]
  },
  {
   "cell_type": "code",
   "execution_count": null,
   "id": "4027e303-92ff-4e3d-8a82-8caeaeeae93d",
   "metadata": {},
   "outputs": [],
   "source": []
  },
  {
   "cell_type": "code",
   "execution_count": null,
   "id": "5415f0fb-135c-40ec-b726-c65136eaa14f",
   "metadata": {},
   "outputs": [],
   "source": []
  },
  {
   "cell_type": "code",
   "execution_count": 43,
   "id": "f1f452be-8540-48cf-9d5a-c7697954a01b",
   "metadata": {},
   "outputs": [],
   "source": [
    "tr = np.array([[0, 0, 1, 0],\n",
    "               [0, -1, 0, 0.06772],\n",
    "               [1, 0, 0, 0.744],\n",
    "               [0, 0, 0, 1]]) "
   ]
  },
  {
   "cell_type": "code",
   "execution_count": 51,
   "id": "08191986-d6c4-4215-a70f-173cf60d158f",
   "metadata": {},
   "outputs": [
    {
     "data": {
      "text/plain": [
       "array([[ 0.70710678,  0.70710678,  0.        ,  0.        ],\n",
       "       [-0.70710678,  0.70710678, -0.        ,  0.        ],\n",
       "       [-0.        ,  0.        ,  1.        ,  0.        ],\n",
       "       [ 0.        ,  0.        ,  0.        ,  1.        ]])"
      ]
     },
     "execution_count": 51,
     "metadata": {},
     "output_type": "execute_result"
    }
   ],
   "source": [
    "rot = R.from_euler('z', -45, degrees=True)\n",
    "tr_offset = np.eye(4)\n",
    "tr_offset[:3,:3] = rot.as_matrix()\n",
    "tr_offset"
   ]
  },
  {
   "cell_type": "code",
   "execution_count": 52,
   "id": "9c851195-9355-4d2f-a072-435bef52f55a",
   "metadata": {},
   "outputs": [
    {
     "name": "stdout",
     "output_type": "stream",
     "text": [
      "[[ 0.         -0.70710678  0.70710678  0.04788527]\n",
      " [ 0.         -0.70710678 -0.70710678  0.04788527]\n",
      " [ 1.          0.          0.          0.744     ]\n",
      " [ 0.          0.          0.          1.        ]]\n"
     ]
    }
   ],
   "source": [
    "tr_eef = tr_offset @ tr\n",
    "print(tr_eef)"
   ]
  },
  {
   "cell_type": "code",
   "execution_count": 53,
   "id": "ef03ecda-dc09-4bd5-9bf6-1c047a83c3e0",
   "metadata": {},
   "outputs": [
    {
     "data": {
      "text/plain": [
       "array([ 1.7599884 , -0.72901107,  1.7599884 ])"
      ]
     },
     "execution_count": 53,
     "metadata": {},
     "output_type": "execute_result"
    }
   ],
   "source": [
    "R.from_matrix(tr_eef[:3,:3]).as_rotvec()"
   ]
  },
  {
   "cell_type": "code",
   "execution_count": 54,
   "id": "c6233550-8e9f-4110-b4c3-57cd9b3c4688",
   "metadata": {},
   "outputs": [
    {
     "data": {
      "text/plain": [
       "array([[ 0.        , -0.70710678,  0.70710678,  0.04788527],\n",
       "       [ 0.        , -0.70710678, -0.70710678,  0.04788527],\n",
       "       [ 1.        ,  0.        ,  0.        ,  0.744     ],\n",
       "       [ 0.        ,  0.        ,  0.        ,  1.        ]])"
      ]
     },
     "execution_count": 54,
     "metadata": {},
     "output_type": "execute_result"
    }
   ],
   "source": [
    "tr_eef"
   ]
  },
  {
   "cell_type": "code",
   "execution_count": 56,
   "id": "19701ac6-007b-4e7c-9f89-db2d5eda97b7",
   "metadata": {},
   "outputs": [
    {
     "ename": "ValueError",
     "evalue": "Expected `matrix` to have shape (3, 3) or (N, 3, 3), got (4, 4)",
     "output_type": "error",
     "traceback": [
      "\u001b[1;31m---------------------------------------------------------------------------\u001b[0m",
      "\u001b[1;31mValueError\u001b[0m                                Traceback (most recent call last)",
      "Input \u001b[1;32mIn [56]\u001b[0m, in \u001b[0;36m<cell line: 1>\u001b[1;34m()\u001b[0m\n\u001b[1;32m----> 1\u001b[0m \u001b[43mr\u001b[49m\u001b[38;5;241;43m.\u001b[39;49m\u001b[43mfrom_matrix\u001b[49m\u001b[43m(\u001b[49m\u001b[43mtr_eef\u001b[49m\u001b[43m)\u001b[49m\n",
      "File \u001b[1;32m_rotation.pyx:729\u001b[0m, in \u001b[0;36mscipy.spatial.transform._rotation.Rotation.from_matrix\u001b[1;34m()\u001b[0m\n",
      "\u001b[1;31mValueError\u001b[0m: Expected `matrix` to have shape (3, 3) or (N, 3, 3), got (4, 4)"
     ]
    }
   ],
   "source": [
    "r.from_matrix(tr_eef)"
   ]
  },
  {
   "cell_type": "code",
   "execution_count": 2,
   "id": "f3520947-69ce-4c74-a4a0-e70afdded0ca",
   "metadata": {},
   "outputs": [
    {
     "data": {
      "text/plain": [
       "array([[[-0.99944341,  0.01482313, -0.02988543],\n",
       "        [-0.02883491,  0.06663226,  0.99736086],\n",
       "        [ 0.01677534,  0.99766749, -0.06616775]]])"
      ]
     },
     "execution_count": 2,
     "metadata": {},
     "output_type": "execute_result"
    }
   ],
   "source": [
    "rot = R.from_quat([[-0.004797831177711487, 0.7301101684570312, 0.6831257939338684, -0.01597730442881584]])\n",
    "rot.as_matrix()"
   ]
  },
  {
   "cell_type": "code",
   "execution_count": 7,
   "id": "6205fa71-c8a9-4d70-afb5-76c03881d0d4",
   "metadata": {},
   "outputs": [
    {
     "data": {
      "text/plain": [
       "4.722241781250002"
      ]
     },
     "execution_count": 7,
     "metadata": {},
     "output_type": "execute_result"
    }
   ],
   "source": [
    "3.7*(1.05**5)"
   ]
  },
  {
   "cell_type": "code",
   "execution_count": 6,
   "id": "ab5d62e4-6dd2-4e56-9e4d-1d069aee7765",
   "metadata": {},
   "outputs": [
    {
     "data": {
      "text/plain": [
       "0.04"
      ]
     },
     "execution_count": 6,
     "metadata": {},
     "output_type": "execute_result"
    }
   ],
   "source": []
  },
  {
   "cell_type": "code",
   "execution_count": null,
   "id": "d0e3f44a-6baf-48a6-8fcc-5ded110dbbd8",
   "metadata": {},
   "outputs": [],
   "source": []
  }
 ],
 "metadata": {
  "kernelspec": {
   "display_name": "Python 3 (ipykernel)",
   "language": "python",
   "name": "python3"
  },
  "language_info": {
   "codemirror_mode": {
    "name": "ipython",
    "version": 3
   },
   "file_extension": ".py",
   "mimetype": "text/x-python",
   "name": "python",
   "nbconvert_exporter": "python",
   "pygments_lexer": "ipython3",
   "version": "3.9.12"
  }
 },
 "nbformat": 4,
 "nbformat_minor": 5
}
