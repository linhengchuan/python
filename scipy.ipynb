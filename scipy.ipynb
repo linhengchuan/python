{
 "cells": [
  {
   "cell_type": "code",
   "execution_count": 11,
   "id": "2c018540-f963-414e-a641-c66a2b676a81",
   "metadata": {},
   "outputs": [],
   "source": [
    "from scipy.spatial.transform import Rotation as R\n",
    "import numpy as np"
   ]
  },
  {
   "cell_type": "code",
   "execution_count": 43,
   "id": "f1f452be-8540-48cf-9d5a-c7697954a01b",
   "metadata": {},
   "outputs": [],
   "source": [
    "tr = np.array([[0, 0, 1, 0],\n",
    "               [0, -1, 0, 0.06772],\n",
    "               [1, 0, 0, 0.744],\n",
    "               [0, 0, 0, 1]]) "
   ]
  },
  {
   "cell_type": "code",
   "execution_count": 51,
   "id": "08191986-d6c4-4215-a70f-173cf60d158f",
   "metadata": {},
   "outputs": [
    {
     "data": {
      "text/plain": [
       "array([[ 0.70710678,  0.70710678,  0.        ,  0.        ],\n",
       "       [-0.70710678,  0.70710678, -0.        ,  0.        ],\n",
       "       [-0.        ,  0.        ,  1.        ,  0.        ],\n",
       "       [ 0.        ,  0.        ,  0.        ,  1.        ]])"
      ]
     },
     "execution_count": 51,
     "metadata": {},
     "output_type": "execute_result"
    }
   ],
   "source": [
    "rot = R.from_euler('z', -45, degrees=True)\n",
    "tr_offset = np.eye(4)\n",
    "tr_offset[:3,:3] = rot.as_matrix()\n",
    "tr_offset"
   ]
  },
  {
   "cell_type": "code",
   "execution_count": 52,
   "id": "9c851195-9355-4d2f-a072-435bef52f55a",
   "metadata": {},
   "outputs": [
    {
     "name": "stdout",
     "output_type": "stream",
     "text": [
      "[[ 0.         -0.70710678  0.70710678  0.04788527]\n",
      " [ 0.         -0.70710678 -0.70710678  0.04788527]\n",
      " [ 1.          0.          0.          0.744     ]\n",
      " [ 0.          0.          0.          1.        ]]\n"
     ]
    }
   ],
   "source": [
    "tr_eef = tr_offset @ tr\n",
    "print(tr_eef)"
   ]
  },
  {
   "cell_type": "code",
   "execution_count": 53,
   "id": "ef03ecda-dc09-4bd5-9bf6-1c047a83c3e0",
   "metadata": {},
   "outputs": [
    {
     "data": {
      "text/plain": [
       "array([ 1.7599884 , -0.72901107,  1.7599884 ])"
      ]
     },
     "execution_count": 53,
     "metadata": {},
     "output_type": "execute_result"
    }
   ],
   "source": [
    "R.from_matrix(tr_eef[:3,:3]).as_rotvec()"
   ]
  },
  {
   "cell_type": "code",
   "execution_count": 54,
   "id": "c6233550-8e9f-4110-b4c3-57cd9b3c4688",
   "metadata": {},
   "outputs": [
    {
     "data": {
      "text/plain": [
       "array([[ 0.        , -0.70710678,  0.70710678,  0.04788527],\n",
       "       [ 0.        , -0.70710678, -0.70710678,  0.04788527],\n",
       "       [ 1.        ,  0.        ,  0.        ,  0.744     ],\n",
       "       [ 0.        ,  0.        ,  0.        ,  1.        ]])"
      ]
     },
     "execution_count": 54,
     "metadata": {},
     "output_type": "execute_result"
    }
   ],
   "source": [
    "tr_eef"
   ]
  },
  {
   "cell_type": "code",
   "execution_count": 56,
   "id": "19701ac6-007b-4e7c-9f89-db2d5eda97b7",
   "metadata": {},
   "outputs": [
    {
     "ename": "ValueError",
     "evalue": "Expected `matrix` to have shape (3, 3) or (N, 3, 3), got (4, 4)",
     "output_type": "error",
     "traceback": [
      "\u001b[1;31m---------------------------------------------------------------------------\u001b[0m",
      "\u001b[1;31mValueError\u001b[0m                                Traceback (most recent call last)",
      "Input \u001b[1;32mIn [56]\u001b[0m, in \u001b[0;36m<cell line: 1>\u001b[1;34m()\u001b[0m\n\u001b[1;32m----> 1\u001b[0m \u001b[43mr\u001b[49m\u001b[38;5;241;43m.\u001b[39;49m\u001b[43mfrom_matrix\u001b[49m\u001b[43m(\u001b[49m\u001b[43mtr_eef\u001b[49m\u001b[43m)\u001b[49m\n",
      "File \u001b[1;32m_rotation.pyx:729\u001b[0m, in \u001b[0;36mscipy.spatial.transform._rotation.Rotation.from_matrix\u001b[1;34m()\u001b[0m\n",
      "\u001b[1;31mValueError\u001b[0m: Expected `matrix` to have shape (3, 3) or (N, 3, 3), got (4, 4)"
     ]
    }
   ],
   "source": [
    "r.from_matrix(tr_eef)"
   ]
  },
  {
   "cell_type": "code",
   "execution_count": null,
   "id": "f3520947-69ce-4c74-a4a0-e70afdded0ca",
   "metadata": {},
   "outputs": [],
   "source": []
  }
 ],
 "metadata": {
  "kernelspec": {
   "display_name": "Python 3 (ipykernel)",
   "language": "python",
   "name": "python3"
  },
  "language_info": {
   "codemirror_mode": {
    "name": "ipython",
    "version": 3
   },
   "file_extension": ".py",
   "mimetype": "text/x-python",
   "name": "python",
   "nbconvert_exporter": "python",
   "pygments_lexer": "ipython3",
   "version": "3.9.12"
  }
 },
 "nbformat": 4,
 "nbformat_minor": 5
}
