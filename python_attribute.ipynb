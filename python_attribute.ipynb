{
 "cells": [
  {
   "cell_type": "code",
   "execution_count": 3,
   "id": "8495dd93-733e-42c5-8547-b9686c664841",
   "metadata": {
    "tags": []
   },
   "outputs": [
    {
     "name": "stdout",
     "output_type": "stream",
     "text": [
      "['__abs__', '__add__', '__and__', '__bool__', '__ceil__', '__class__', '__delattr__', '__dir__', '__divmod__', '__doc__', '__eq__', '__float__', '__floor__', '__floordiv__', '__format__', '__ge__', '__getattribute__', '__getnewargs__', '__gt__', '__hash__', '__index__', '__init__', '__init_subclass__', '__int__', '__invert__', '__le__', '__lshift__', '__lt__', '__mod__', '__mul__', '__ne__', '__neg__', '__new__', '__or__', '__pos__', '__pow__', '__radd__', '__rand__', '__rdivmod__', '__reduce__', '__reduce_ex__', '__repr__', '__rfloordiv__', '__rlshift__', '__rmod__', '__rmul__', '__ror__', '__round__', '__rpow__', '__rrshift__', '__rshift__', '__rsub__', '__rtruediv__', '__rxor__', '__setattr__', '__sizeof__', '__str__', '__sub__', '__subclasshook__', '__truediv__', '__trunc__', '__xor__', 'as_integer_ratio', 'bit_length', 'conjugate', 'denominator', 'from_bytes', 'imag', 'numerator', 'real', 'to_bytes']\n"
     ]
    }
   ],
   "source": [
    "print(dir(1))"
   ]
  },
  {
   "cell_type": "code",
   "execution_count": 54,
   "id": "9de25539-621b-4cec-8644-9a982afe456e",
   "metadata": {},
   "outputs": [],
   "source": [
    "class LengthUnit():\n",
    "    M = \"M\"\n",
    "    MM = \"MM\"\n",
    "    CM = \"CM\"\n",
    "    UNIT_NUMERICAL = {\"M\":1,\n",
    "                     \"MM\":0.001,\n",
    "                     \"CM\":0.01,}\n",
    "    \n",
    "class Length():\n",
    "    def __init__(self, length:'float'=0.0, unit:'LengthUnit'=LengthUnit.M):\n",
    "        self._length = length\n",
    "        self._unit = unit\n",
    "    \n",
    "    def get_length(self, unit:'LengthUnit'=LengthUnit.M) ->'float' :\n",
    "        print(f\"{self._convert_unit(self._length, unit)} {unit}\")\n",
    "        return self._convert_unit(self._length, unit)\n",
    "    \n",
    "    def set_length(self, length:'float'=0.0, unit:'LengthUnit'=LengthUnit.M):\n",
    "        self._length = length\n",
    "        self._unit = unit\n",
    "    \n",
    "    def _convert_unit(self, length:'float', unit:'LengthUnit'):\n",
    "        return length*(LengthUnit.UNIT_NUMERICAL[self._unit]/LengthUnit.UNIT_NUMERICAL[unit])\n",
    "        \n",
    "    def __add__(self, length: 'Length'):\n",
    "        return Length(self._length+length.get_length(self._unit))\n",
    "    \n",
    "    def __sub__(self, length: 'Length'):\n",
    "        return Length(self._length-length.get_length(self._unit))\n",
    "    \n",
    "    def __str__(self):\n",
    "        return (f\"{self._length} {self._unit}\")\n",
    "        "
   ]
  },
  {
   "cell_type": "code",
   "execution_count": 56,
   "id": "8c7854ff-0e00-4099-891c-51658cba00d7",
   "metadata": {},
   "outputs": [
    {
     "name": "stdout",
     "output_type": "stream",
     "text": [
      "0.001 M\n",
      "4000.0 MM\n",
      "\n",
      "0.001 M\n",
      "4.001 M\n",
      "\n",
      "0.001 M\n",
      "3.999 M\n",
      "['__add__', '__class__', '__delattr__', '__dict__', '__dir__', '__doc__', '__eq__', '__format__', '__ge__', '__getattribute__', '__gt__', '__hash__', '__init__', '__init_subclass__', '__le__', '__lt__', '__module__', '__ne__', '__new__', '__reduce__', '__reduce_ex__', '__repr__', '__setattr__', '__sizeof__', '__str__', '__sub__', '__subclasshook__', '__weakref__', '_convert_unit', 'get_length', 'set_length']\n"
     ]
    }
   ],
   "source": [
    "a = Length(1,LengthUnit.MM)\n",
    "a.get_length()\n",
    "a.set_length(4)\n",
    "a.get_length(LengthUnit.MM)\n",
    "print()\n",
    "b = Length(1,LengthUnit.MM)\n",
    "c = a+b\n",
    "c.get_length()\n",
    "print()\n",
    "d = a-b\n",
    "print(d)\n",
    "\n",
    "print(dir(Length))"
   ]
  },
  {
   "cell_type": "code",
   "execution_count": null,
   "id": "a3fd34e3-f328-485e-bd4b-84944fc75e49",
   "metadata": {},
   "outputs": [],
   "source": []
  }
 ],
 "metadata": {
  "kernelspec": {
   "display_name": "Python 3 (ipykernel)",
   "language": "python",
   "name": "python3"
  },
  "language_info": {
   "codemirror_mode": {
    "name": "ipython",
    "version": 3
   },
   "file_extension": ".py",
   "mimetype": "text/x-python",
   "name": "python",
   "nbconvert_exporter": "python",
   "pygments_lexer": "ipython3",
   "version": "3.8.5"
  }
 },
 "nbformat": 4,
 "nbformat_minor": 5
}
