{
 "cells": [
  {
   "cell_type": "code",
   "execution_count": 420,
   "id": "cc3f7a10-f369-4061-9384-ebb642b69c2a",
   "metadata": {
    "tags": []
   },
   "outputs": [],
   "source": [
    "def sum_digits_in_list(numbers):\n",
    "    result = []\n",
    "    for number in numbers:\n",
    "        digits = list(str(number))\n",
    "        sum = 0\n",
    "        for digit in digits:\n",
    "            sum += int(digit)\n",
    "        result.append(sum)\n",
    "    return result\n",
    "\n",
    "def sum_last_4_digits_in_list(numbers):\n",
    "    result = []\n",
    "    for number in numbers:\n",
    "        digits = list(str(number))[4:]\n",
    "        sum = 0\n",
    "        for digit in digits:\n",
    "            sum += int(digit)\n",
    "        result.append(sum)\n",
    "    return result"
   ]
  },
  {
   "cell_type": "code",
   "execution_count": 421,
   "id": "30f54e7f-77f4-400b-b169-7f8c44e855f9",
   "metadata": {},
   "outputs": [],
   "source": [
    "ls = [\n",
    "]\n",
    "good_num_81 = [1,3,5,11,13,15,16,21,23,24,29,31,33,39,41,47,48,52,61,63,67,68,81]\n",
    "good_num_81_p = [13,23,31,41,68]"
   ]
  },
  {
   "cell_type": "code",
   "execution_count": 422,
   "id": "dbec4a07-b947-4cde-8b84-35fa00879f48",
   "metadata": {},
   "outputs": [],
   "source": [
    "result_p = sum_digits_in_list(ls)\n",
    "result = sum_last_4_digits_in_list(ls)\n",
    "for i in range(len(ls)):\n",
    "    if (result[i] in good_num_81) and (result_p[i] in good_num_81_p):\n",
    "        print(ls[i])\n",
    "        print(result[i])\n",
    "        print(result_p[i])"
   ]
  },
  {
   "cell_type": "code",
   "execution_count": null,
   "id": "09911337-4a6f-4df5-88e2-02d0ed6db234",
   "metadata": {},
   "outputs": [],
   "source": []
  },
  {
   "cell_type": "code",
   "execution_count": null,
   "id": "8fb50385-5b42-4d68-8aa9-c5713a94ab2a",
   "metadata": {},
   "outputs": [],
   "source": []
  }
 ],
 "metadata": {
  "kernelspec": {
   "display_name": "Python 3 (ipykernel)",
   "language": "python",
   "name": "python3"
  },
  "language_info": {
   "codemirror_mode": {
    "name": "ipython",
    "version": 3
   },
   "file_extension": ".py",
   "mimetype": "text/x-python",
   "name": "python",
   "nbconvert_exporter": "python",
   "pygments_lexer": "ipython3",
   "version": "3.9.0"
  }
 },
 "nbformat": 4,
 "nbformat_minor": 5
}
