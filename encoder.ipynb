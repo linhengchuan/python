{
 "cells": [
  {
   "cell_type": "code",
   "execution_count": 3,
   "id": "df9efc56-a884-4e7e-9778-1b3c1ada7a11",
   "metadata": {},
   "outputs": [],
   "source": [
    "# !pip install PySide2"
   ]
  },
  {
   "cell_type": "code",
   "execution_count": 3,
   "id": "6c9884da-57d6-4a2e-a472-b821c5935d18",
   "metadata": {},
   "outputs": [
    {
     "data": {
      "text/plain": [
       "0"
      ]
     },
     "execution_count": 3,
     "metadata": {},
     "output_type": "execute_result"
    }
   ],
   "source": [
    "import os\n",
    "import sys\n",
    "from PySide2.QtWidgets import (\n",
    "    QMainWindow, QApplication, QLabel, QVBoxLayout, QHBoxLayout, QPushButton, QWidget, QLineEdit, QTextEdit\n",
    ")\n",
    "from PySide2.QtCore import Qt\n",
    "\n",
    "class MainWindow(QMainWindow):\n",
    "    def __init__(self):\n",
    "        super(MainWindow, self).__init__()\n",
    "        self.setWindowTitle(\"Encryptor/Decryptor\")\n",
    "        self.setGeometry(500, 500, 400, 300)\n",
    "        \n",
    "        hlayout = QHBoxLayout()\n",
    "        \n",
    "        vlayout_left = QVBoxLayout()\n",
    "        vlayout_left.addWidget(QLabel(\"Input: \"))\n",
    "        self.input_box = QTextEdit()\n",
    "        vlayout_left.addWidget(self.input_box)\n",
    "        hlayout.addLayout(vlayout_left)\n",
    "        \n",
    "        vlayout_mid = QVBoxLayout()\n",
    "        vlayout_mid.addStretch(1)\n",
    "        self._btn_encrypt = QPushButton(\"Encrypt\")\n",
    "        self._btn_encrypt.clicked.connect(self._encrypt)\n",
    "        self._btn_decrypt = QPushButton(\"Decrypt\")\n",
    "        self._btn_decrypt.clicked.connect(self._decrypt)\n",
    "        vlayout_mid.addWidget(self._btn_encrypt)\n",
    "        vlayout_mid.addWidget(self._btn_decrypt)\n",
    "        vlayout_mid.addWidget(QLabel(\"Key(1 character): \"))\n",
    "        self.key_box = QLineEdit()\n",
    "        self.key_box.setMaxLength(1)\n",
    "        vlayout_mid.addWidget(self.key_box)\n",
    "        vlayout_mid.addStretch(1)\n",
    "        hlayout.addLayout(vlayout_mid)\n",
    "        \n",
    "        vlayout_right = QVBoxLayout()\n",
    "        vlayout_right.addWidget(QLabel(\"Output: \"))\n",
    "        self.output_box = QTextEdit()\n",
    "        vlayout_right.addWidget(self.output_box)\n",
    "        hlayout.addLayout(vlayout_right)\n",
    "\n",
    "        widget = QWidget()\n",
    "        widget.setLayout(hlayout)\n",
    "        self.setCentralWidget(widget)\n",
    "        self.show()\n",
    "\n",
    "    def _encrypt(self):\n",
    "        text = self.input_box.toPlainText()\n",
    "        key = self.key_box.displayText()\n",
    "        if len(key)==0 or len(text)==0:\n",
    "            self.output_box.setText(text)\n",
    "        else:\n",
    "            unicode_key = ord(key)\n",
    "            new_text = \"\"\n",
    "            for char in text:\n",
    "                unicode_char = ord(char)\n",
    "                new_text+= (chr(unicode_char+unicode_key))\n",
    "            self.output_box.setText(new_text)\n",
    "    \n",
    "    def _decrypt(self):\n",
    "        text = self.output_box.toPlainText()\n",
    "        key = self.key_box.displayText()\n",
    "        if len(key)==0 or len(text)==0:\n",
    "            self.input_box.setText(text)\n",
    "        else:\n",
    "            unicode_key = ord(key)\n",
    "            new_text = \"\"\n",
    "            for char in text:\n",
    "                if char==' ':\n",
    "                    unicode_char = 160\n",
    "                else:\n",
    "                    unicode_char = ord(char)\n",
    "                new_text+= (chr(unicode_char-unicode_key))\n",
    "            self.input_box.setText(new_text)\n",
    "\n",
    "if not QApplication.instance():\n",
    "    app = QApplication(sys.argv)\n",
    "else:\n",
    "    app = QApplication.instance()\n",
    "w = MainWindow()\n",
    "app.exec_()"
   ]
  },
  {
   "cell_type": "code",
   "execution_count": null,
   "id": "2f7b04a1-3e3f-49b5-b136-a326a3d7316e",
   "metadata": {},
   "outputs": [],
   "source": []
  }
 ],
 "metadata": {
  "kernelspec": {
   "display_name": "Python 3 (ipykernel)",
   "language": "python",
   "name": "python3"
  },
  "language_info": {
   "codemirror_mode": {
    "name": "ipython",
    "version": 3
   },
   "file_extension": ".py",
   "mimetype": "text/x-python",
   "name": "python",
   "nbconvert_exporter": "python",
   "pygments_lexer": "ipython3",
   "version": "3.9.12"
  }
 },
 "nbformat": 4,
 "nbformat_minor": 5
}
