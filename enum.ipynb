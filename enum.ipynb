{
 "cells": [
  {
   "cell_type": "code",
   "execution_count": 24,
   "id": "cbf81e06-357a-4c10-a441-17c304e89ec6",
   "metadata": {},
   "outputs": [],
   "source": [
    "from enum import Enum, auto"
   ]
  },
  {
   "cell_type": "code",
   "execution_count": 25,
   "id": "5f4be722-448b-4075-8bd1-dc409a754e89",
   "metadata": {},
   "outputs": [],
   "source": [
    "class Color(Enum):\n",
    "    RED = 1\n",
    "    BLUE = 2\n",
    "    GREEN = auto()\n",
    "    YELLOW = auto()"
   ]
  },
  {
   "cell_type": "code",
   "execution_count": 26,
   "id": "ab81c445-dfab-4649-9fad-60c019a11bf3",
   "metadata": {},
   "outputs": [
    {
     "data": {
      "text/plain": [
       "<Color.YELLOW: 4>"
      ]
     },
     "execution_count": 26,
     "metadata": {},
     "output_type": "execute_result"
    }
   ],
   "source": [
    "Color.YELLOW"
   ]
  },
  {
   "cell_type": "code",
   "execution_count": 27,
   "id": "d366c7a0-c458-4fd3-9025-f50a02ed5a8d",
   "metadata": {},
   "outputs": [
    {
     "data": {
      "text/plain": [
       "3"
      ]
     },
     "execution_count": 27,
     "metadata": {},
     "output_type": "execute_result"
    }
   ],
   "source": [
    "Color.GREEN.value"
   ]
  },
  {
   "cell_type": "code",
   "execution_count": null,
   "id": "2099e172-dac8-4224-9594-effc5692e8d6",
   "metadata": {},
   "outputs": [],
   "source": []
  },
  {
   "cell_type": "code",
   "execution_count": 28,
   "id": "fdcf1395-06dd-47f5-93fd-ea0df92142da",
   "metadata": {},
   "outputs": [
    {
     "name": "stdout",
     "output_type": "stream",
     "text": [
      "0: RED\n",
      "1: GREEN\n",
      "2: BLUE\n"
     ]
    }
   ],
   "source": [
    "colors = [\"RED\",\"GREEN\", \"BLUE\"]\n",
    "\n",
    "for count , color in enumerate(colors):\n",
    "    print(f\"{count}: {color}\")"
   ]
  },
  {
   "cell_type": "code",
   "execution_count": null,
   "id": "edd49cfd-5594-4779-bd5c-88dd65156a80",
   "metadata": {},
   "outputs": [],
   "source": []
  }
 ],
 "metadata": {
  "kernelspec": {
   "display_name": "Python 3 (ipykernel)",
   "language": "python",
   "name": "python3"
  },
  "language_info": {
   "codemirror_mode": {
    "name": "ipython",
    "version": 3
   },
   "file_extension": ".py",
   "mimetype": "text/x-python",
   "name": "python",
   "nbconvert_exporter": "python",
   "pygments_lexer": "ipython3",
   "version": "3.9.12"
  }
 },
 "nbformat": 4,
 "nbformat_minor": 5
}
