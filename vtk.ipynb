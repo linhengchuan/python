{
 "cells": [
  {
   "cell_type": "code",
   "execution_count": 3,
   "id": "ef15966d-bca4-475e-af4c-95dc7015c1c0",
   "metadata": {},
   "outputs": [],
   "source": [
    "import vtk"
   ]
  },
  {
   "cell_type": "code",
   "execution_count": 4,
   "id": "5bbdd221-3817-4160-b914-44b3f1518093",
   "metadata": {},
   "outputs": [],
   "source": [
    "# data\n",
    "cone = vtk.vtkConeSource()"
   ]
  },
  {
   "cell_type": "code",
   "execution_count": 5,
   "id": "1f5f099a-4e57-4644-92ac-59b587bec5a8",
   "metadata": {},
   "outputs": [],
   "source": [
    "# To use data like polygon mesh, we need actor which requires mapper as an intermediate step.\n",
    "mapper = vtk.vtkPolyDataMapper()\n",
    "mapper.SetInputConnection(cone.GetOutputPort())\n",
    "actor = vtk.vtkActor()\n",
    "actor.SetMapper(mapper)"
   ]
  },
  {
   "cell_type": "code",
   "execution_count": null,
   "id": "cf85f562-540b-4d73-89e3-17e39e35e78c",
   "metadata": {},
   "outputs": [
    {
     "name": "stdout",
     "output_type": "stream",
     "text": [
      "Right was pressed\n",
      "Right was pressed\n",
      "Up was pressed\n",
      "Left was pressed\n",
      "Down was pressed\n",
      "Left was pressed\n",
      "Right was pressed\n",
      "Left was pressed\n",
      "Down was pressed\n",
      "Up was pressed\n",
      "Up was pressed\n",
      "Up was pressed\n",
      "Left was pressed\n",
      "Down was pressed\n",
      "Right was pressed\n",
      "Down was pressed\n",
      "Down was pressed\n",
      "Down was pressed\n",
      "Down was pressed\n",
      "Down was pressed\n",
      "Down was pressed\n",
      "Down was pressed\n",
      "Down was pressed\n",
      "Down was pressed\n",
      "Down was pressed\n",
      "Down was pressed\n",
      "Down was pressed\n",
      "Up was pressed\n",
      "Up was pressed\n",
      "Up was pressed\n",
      "Up was pressed\n"
     ]
    }
   ],
   "source": [
    "def keypress_callback(obj, ev):\n",
    "    key = obj.GetKeySym()\n",
    "    print(key, 'was pressed')\n",
    "\n",
    "window = vtk.vtkRenderWindow()\n",
    "# Sets the pixel width, length of the window.\n",
    "window.SetSize(500, 500)\n",
    "\n",
    "interactor = vtk.vtkRenderWindowInteractor()\n",
    "interactor.SetRenderWindow(window)\n",
    "\n",
    "interactor.AddObserver('KeyPressEvent', keypress_callback, 1.0)\n",
    "\n",
    "renderer = vtk.vtkRenderer()\n",
    "window.AddRenderer(renderer)\n",
    "\n",
    "renderer.AddActor(actor)\n",
    "# Setting the background to blue.\n",
    "renderer.SetBackground(0.1, 0.1, 0.4)\n",
    "\n",
    "window.Render()\n",
    "interactor.Start()"
   ]
  },
  {
   "cell_type": "code",
   "execution_count": null,
   "id": "b97a415d-e69a-4cc0-8ad7-e1f8ba18abff",
   "metadata": {},
   "outputs": [],
   "source": []
  },
  {
   "cell_type": "code",
   "execution_count": null,
   "id": "7a93661f-a7c3-4207-98aa-facd40132845",
   "metadata": {
    "tags": []
   },
   "outputs": [],
   "source": []
  },
  {
   "cell_type": "code",
   "execution_count": null,
   "id": "da6a3a04-ba9a-4aaa-85ac-49da8c4b6390",
   "metadata": {},
   "outputs": [],
   "source": []
  }
 ],
 "metadata": {
  "kernelspec": {
   "display_name": "Python 3 (ipykernel)",
   "language": "python",
   "name": "python3"
  },
  "language_info": {
   "codemirror_mode": {
    "name": "ipython",
    "version": 3
   },
   "file_extension": ".py",
   "mimetype": "text/x-python",
   "name": "python",
   "nbconvert_exporter": "python",
   "pygments_lexer": "ipython3",
   "version": "3.9.12"
  }
 },
 "nbformat": 4,
 "nbformat_minor": 5
}
