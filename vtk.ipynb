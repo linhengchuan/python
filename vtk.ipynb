{
 "cells": [
  {
   "cell_type": "code",
   "execution_count": 2,
   "id": "5bbdd221-3817-4160-b914-44b3f1518093",
   "metadata": {},
   "outputs": [],
   "source": [
    "import vtk\n",
    "# data\n",
    "cone = vtk.vtkConeSource()\n",
    "# To use data like polygon mesh, we need actor which requires mapper as an intermediate step.\n",
    "mapper = vtk.vtkPolyDataMapper()\n",
    "mapper.SetInputConnection(cone.GetOutputPort())\n",
    "actor = vtk.vtkActor()\n",
    "actor.SetMapper(mapper)\n",
    "\n",
    "def keypress_callback(obj, ev):\n",
    "    key = obj.GetKeySym()\n",
    "    print(key, 'was pressed')\n",
    "\n",
    "window = vtk.vtkRenderWindow()\n",
    "# Sets the pixel width, length of the window.\n",
    "window.SetSize(500, 500)\n",
    "\n",
    "interactor = vtk.vtkRenderWindowInteractor()\n",
    "interactor.SetRenderWindow(window)\n",
    "\n",
    "interactor.AddObserver('KeyPressEvent', keypress_callback, 1.0)\n",
    "\n",
    "renderer = vtk.vtkRenderer()\n",
    "window.AddRenderer(renderer)\n",
    "\n",
    "renderer.AddActor(actor)\n",
    "# Setting the background to blue.\n",
    "renderer.SetBackground(0.1, 0.1, 0.4)\n",
    "\n",
    "window.Render()\n",
    "interactor.Start()"
   ]
  },
  {
   "cell_type": "code",
   "execution_count": null,
   "id": "9426f52a-22e2-47b4-b3a2-44c081c9a9ad",
   "metadata": {},
   "outputs": [],
   "source": []
  },
  {
   "cell_type": "markdown",
   "id": "79953e5e-3817-4046-8b6f-9da3ea3b13ea",
   "metadata": {},
   "source": [
    "# Get a slice of a 3d vtkpolydata"
   ]
  },
  {
   "cell_type": "code",
   "execution_count": 23,
   "id": "28bd7b2a-acc1-49f4-8d12-4d5399b38506",
   "metadata": {},
   "outputs": [],
   "source": [
    "import vtk\n",
    "\n",
    "# data\n",
    "sphere_source = vtk.vtkSphereSource()\n",
    "sphere_source.SetRadius(10.0)  # Set the radius of the sphere\n",
    "sphere_source.SetCenter(0.0, 0.0, 0.0)  # Set the center coordinates of the sphere\n",
    "sphere_source.SetThetaResolution(50)  # Set the number of points in the azimuthal direction\n",
    "sphere_source.SetPhiResolution(50)  # Set the number of points in the polar direction\n",
    "sphere_source.Update()\n",
    "\n",
    "# Define the cutting plane\n",
    "cutting_plane = vtk.vtkPlane()\n",
    "cutting_plane.SetOrigin(1.0, 0.0, 0.0)  # Set the origin of the cutting plane\n",
    "cutting_plane.SetNormal(1.0, 0.0, 0.0)  # Set the normal vector of the cutting plane\n",
    "\n",
    "# Create the vtkCutter object and set its properties\n",
    "cutter = vtk.vtkCutter()\n",
    "cutter.SetInputData(sphere_source.GetOutput())  # Set the input polydata\n",
    "cutter.SetCutFunction(cutting_plane)  # Set the cutting plane\n",
    "\n",
    "# Generate the cut output\n",
    "cutter.Update()\n",
    "\n",
    "# Get the cut output polydata\n",
    "cut_polydata = cutter.GetOutput()\n",
    "\n",
    "# Create a mapper and actor for the cut polydata\n",
    "mapper = vtk.vtkPolyDataMapper()\n",
    "mapper.SetInputData(cut_polydata)\n",
    "\n",
    "actor = vtk.vtkActor()\n",
    "actor.SetMapper(mapper)\n",
    "\n",
    "# Create a renderer, render window, and interactor\n",
    "renderer = vtk.vtkRenderer()\n",
    "renderer.AddActor(actor)\n",
    "renderer.SetBackground(0.1, 0.1, 0.4)\n",
    "\n",
    "render_window = vtk.vtkRenderWindow()\n",
    "render_window.AddRenderer(renderer)\n",
    "\n",
    "interactor = vtk.vtkRenderWindowInteractor()\n",
    "interactor.SetRenderWindow(render_window)\n",
    "\n",
    "# Initialize the interactor and start the rendering loop\n",
    "interactor.Initialize()\n",
    "render_window.Render()\n",
    "interactor.Start()"
   ]
  },
  {
   "cell_type": "code",
   "execution_count": null,
   "id": "7ddbc711-286b-4db3-bda5-c071fd345258",
   "metadata": {},
   "outputs": [],
   "source": []
  }
 ],
 "metadata": {
  "kernelspec": {
   "display_name": "Python 3 (ipykernel)",
   "language": "python",
   "name": "python3"
  },
  "language_info": {
   "codemirror_mode": {
    "name": "ipython",
    "version": 3
   },
   "file_extension": ".py",
   "mimetype": "text/x-python",
   "name": "python",
   "nbconvert_exporter": "python",
   "pygments_lexer": "ipython3",
   "version": "3.9.12"
  }
 },
 "nbformat": 4,
 "nbformat_minor": 5
}
