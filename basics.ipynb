{
 "cells": [
  {
   "cell_type": "markdown",
   "id": "5cb779a7-30f7-4c98-bbc3-488317c0f317",
   "metadata": {},
   "source": [
    "### Operation"
   ]
  },
  {
   "cell_type": "code",
   "execution_count": 30,
   "id": "6d9f434e-b4df-40d0-9ec8-c8d3ed031e36",
   "metadata": {},
   "outputs": [
    {
     "name": "stdout",
     "output_type": "stream",
     "text": [
      "Additional and subtraction\n",
      "7\n",
      "3\n",
      "Multiplication and division\n",
      "2\n",
      "2.5\n",
      "10\n",
      "1\n",
      "Power operation\n",
      "100\n",
      "Order of operation\n",
      "8\n"
     ]
    }
   ],
   "source": [
    "print(\"Additional and subtraction\")\n",
    "print(5+2)\n",
    "print(5-2)\n",
    "\n",
    "print(\"Multiplication and division\")\n",
    "print(5//2)\n",
    "print(5/2)\n",
    "print(5*2)\n",
    "print(10%3)\n",
    "\n",
    "print(\"Power operation\")\n",
    "print(10**2)\n",
    "\n",
    "# multiplication division before add and subtraction\n",
    "print(\"Order of operation\")\n",
    "print(5*2-2)"
   ]
  },
  {
   "cell_type": "markdown",
   "id": "487846d7-75ca-4f89-b7fa-0dc54881e5eb",
   "metadata": {},
   "source": [
    "### Data"
   ]
  },
  {
   "cell_type": "code",
   "execution_count": 64,
   "id": "79112442-8a65-4531-aa77-f32b7d465732",
   "metadata": {},
   "outputs": [
    {
     "name": "stdout",
     "output_type": "stream",
     "text": [
      "True\n",
      "abc\n",
      "Tuple cannot be modified: (1, 2, 3, 3) but can be overwritten\n",
      "Set contains no duplicate: {1, 2, 3}\n",
      "[1, 2]\n",
      "value\n"
     ]
    }
   ],
   "source": [
    "boo = True\n",
    "string = \"abc\"\n",
    "ls = [1,2,3,4,5,6]\n",
    "tuple_ = (1,2,3,3)\n",
    "set_ = {1,2,3,3}\n",
    "dic = {\"key\":\"value\"}\n",
    "print(boo)\n",
    "print(string)\n",
    "print(f\"Tuple cannot be modified: {tuple_} but can be overwritten\")\n",
    "print(f\"Set contains no duplicate: {set_}\")\n",
    "print(ls[0:2])\n",
    "print(dic[\"key\"])"
   ]
  },
  {
   "cell_type": "code",
   "execution_count": 59,
   "id": "31e9017e-8baf-40ad-a99f-e2cb525a0f34",
   "metadata": {},
   "outputs": [
    {
     "data": {
      "text/plain": [
       "[2, 4, 6]"
      ]
     },
     "execution_count": 59,
     "metadata": {},
     "output_type": "execute_result"
    }
   ],
   "source": [
    "[x for x in ls if x%2==0]"
   ]
  },
  {
   "cell_type": "markdown",
   "id": "4b5108c0-f593-4247-a4dc-f74697f404b2",
   "metadata": {},
   "source": [
    "### Input output"
   ]
  },
  {
   "cell_type": "code",
   "execution_count": 68,
   "id": "7f28a52c-f868-4074-8945-eb80ec3fedc9",
   "metadata": {},
   "outputs": [
    {
     "name": "stdin",
     "output_type": "stream",
     "text": [
      " 1\n"
     ]
    },
    {
     "name": "stdout",
     "output_type": "stream",
     "text": [
      "1\n"
     ]
    }
   ],
   "source": [
    "a = input()\n",
    "print(a)"
   ]
  },
  {
   "cell_type": "markdown",
   "id": "5e361919-bf72-47b4-ae62-bc7f24533af6",
   "metadata": {},
   "source": [
    "### Control flow"
   ]
  },
  {
   "cell_type": "code",
   "execution_count": 72,
   "id": "33380d3e-97e1-40ef-9bef-8ed6b743fba1",
   "metadata": {},
   "outputs": [
    {
     "name": "stdin",
     "output_type": "stream",
     "text": [
      " 1\n"
     ]
    },
    {
     "name": "stdout",
     "output_type": "stream",
     "text": [
      "One\n"
     ]
    }
   ],
   "source": [
    "a = input()\n",
    "if a==\"1\":\n",
    "    print(\"One\")\n",
    "elif a==\"2\":\n",
    "    print(\"Two\")\n",
    "else:\n",
    "    print(\"Others\")"
   ]
  },
  {
   "cell_type": "code",
   "execution_count": 65,
   "id": "5f3c577b-265e-4925-bdc7-3b0d66e73c2e",
   "metadata": {},
   "outputs": [
    {
     "name": "stdout",
     "output_type": "stream",
     "text": [
      "True\n"
     ]
    }
   ],
   "source": [
    "# [on_true] if [expression] else [on_false] \n",
    "print(\"True\") if 5>1 else print(\"False\")"
   ]
  },
  {
   "cell_type": "markdown",
   "id": "ccd5dfef-4f02-4384-b583-d901cce40161",
   "metadata": {},
   "source": [
    "### Loops"
   ]
  },
  {
   "cell_type": "code",
   "execution_count": 66,
   "id": "f63ab120-6239-4c2d-9909-3d60841668ed",
   "metadata": {},
   "outputs": [
    {
     "name": "stdout",
     "output_type": "stream",
     "text": [
      "1\n",
      "2\n",
      "3\n"
     ]
    }
   ],
   "source": [
    "count=0\n",
    "while (count<3):\n",
    "    count+=1\n",
    "    print(count)"
   ]
  },
  {
   "cell_type": "code",
   "execution_count": 67,
   "id": "055e1de8-df03-41a5-8a9e-273a8c34d46c",
   "metadata": {},
   "outputs": [
    {
     "name": "stdout",
     "output_type": "stream",
     "text": [
      "0\n",
      "1\n",
      "2\n"
     ]
    }
   ],
   "source": [
    "for i in range(3):\n",
    "    print(i)"
   ]
  },
  {
   "cell_type": "code",
   "execution_count": 75,
   "id": "678c2c0e-b35e-4fe4-9972-404b07d74b70",
   "metadata": {},
   "outputs": [
    {
     "name": "stdout",
     "output_type": "stream",
     "text": [
      "3\n",
      "4\n"
     ]
    }
   ],
   "source": [
    "for i in range(5):\n",
    "    if i <3:\n",
    "        continue\n",
    "    print(i)"
   ]
  },
  {
   "cell_type": "markdown",
   "id": "6e554888-753a-4f68-9209-fcd0df2cc4fc",
   "metadata": {},
   "source": [
    "### Overloading functions"
   ]
  },
  {
   "cell_type": "code",
   "execution_count": 18,
   "id": "b498dfe1-9414-4e17-a252-2a2160dcef7a",
   "metadata": {},
   "outputs": [],
   "source": [
    "#Overloading function\n",
    "class A:\n",
    "    def __init__(self, a):\n",
    "        self.a = a\n",
    "  \n",
    "    def __add__(self, o):\n",
    "        print(f\"{self.a} + {o.a} = {self.a + o.a}\")"
   ]
  },
  {
   "cell_type": "code",
   "execution_count": 17,
   "id": "5893aa18-ef40-499d-9128-370885579896",
   "metadata": {},
   "outputs": [
    {
     "name": "stdout",
     "output_type": "stream",
     "text": [
      "5 + 4 = 9\n"
     ]
    }
   ],
   "source": [
    "a = A(5)\n",
    "b = A(4)\n",
    "a+b"
   ]
  },
  {
   "cell_type": "markdown",
   "id": "a5003e93-e361-4e07-8986-656fd81e714d",
   "metadata": {},
   "source": [
    "### Function"
   ]
  },
  {
   "cell_type": "code",
   "execution_count": 88,
   "id": "ef835503-4fd0-4667-ad45-c03f294b8e6e",
   "metadata": {},
   "outputs": [],
   "source": [
    "def add(num1: int, num2: int) -> int:\n",
    "    return num1 + num2"
   ]
  },
  {
   "cell_type": "code",
   "execution_count": 87,
   "id": "93a50b84-79a7-4a01-ae51-63c2d1d169d5",
   "metadata": {},
   "outputs": [
    {
     "data": {
      "text/plain": [
       "5"
      ]
     },
     "execution_count": 87,
     "metadata": {},
     "output_type": "execute_result"
    }
   ],
   "source": [
    "add(1,4)"
   ]
  },
  {
   "cell_type": "code",
   "execution_count": 97,
   "id": "08621638-6493-4282-8c15-5a1694662a62",
   "metadata": {},
   "outputs": [],
   "source": [
    "def func(*argv, **kwarg):\n",
    "    for arg in argv:\n",
    "        print(arg)\n",
    "    for k,v in kwarg.items():\n",
    "        print(f\"Key:{k} and value:{v}\")"
   ]
  },
  {
   "cell_type": "code",
   "execution_count": 101,
   "id": "868a12f9-fdef-4dfa-83f9-ece4a930ccd0",
   "metadata": {},
   "outputs": [
    {
     "name": "stdout",
     "output_type": "stream",
     "text": [
      "a\n",
      "b\n",
      "c\n",
      "Key:first and value:Geeks\n",
      "Key:mid and value:for\n"
     ]
    }
   ],
   "source": [
    "func(\"a\",\"b\",\"c\",first='Geeks', mid='for')"
   ]
  },
  {
   "cell_type": "code",
   "execution_count": 107,
   "id": "71a1dbb9-d846-45c1-9494-5a58e92abd30",
   "metadata": {},
   "outputs": [],
   "source": [
    "def simpleGeneratorFun():\n",
    "    yield 1\n",
    "    yield 2\n",
    "    yield 3"
   ]
  },
  {
   "cell_type": "code",
   "execution_count": 109,
   "id": "759dd382-c811-41d3-8c09-545d8dadb622",
   "metadata": {},
   "outputs": [
    {
     "name": "stdout",
     "output_type": "stream",
     "text": [
      "1\n",
      "2\n",
      "3\n"
     ]
    }
   ],
   "source": [
    "for value in simpleGeneratorFun():\n",
    "    print(value)"
   ]
  },
  {
   "cell_type": "code",
   "execution_count": 114,
   "id": "d487597d-972d-465a-ae2d-443ccb39d572",
   "metadata": {},
   "outputs": [
    {
     "name": "stdout",
     "output_type": "stream",
     "text": [
      "1\n",
      "4\n",
      "9\n",
      "16\n",
      "25\n"
     ]
    }
   ],
   "source": [
    "def nextSquare():\n",
    "    i = 1\n",
    "    while True:\n",
    "        yield i*i\n",
    "        i += 1  \n",
    "for num in nextSquare():\n",
    "    if num>30:\n",
    "        break\n",
    "    print(num)"
   ]
  },
  {
   "cell_type": "code",
   "execution_count": 118,
   "id": "c9d9accd-5d95-4838-8c31-da97fd6b1dbd",
   "metadata": {},
   "outputs": [
    {
     "name": "stdout",
     "output_type": "stream",
     "text": [
      "0\n",
      "1\n",
      "1\n",
      "2\n",
      "3\n",
      "\n",
      "Using for in loop\n",
      "0\n",
      "1\n",
      "1\n",
      "2\n",
      "3\n"
     ]
    }
   ],
   "source": [
    "def fib(limit):\n",
    "    a, b = 0, 1\n",
    "    while a < limit:\n",
    "        yield a\n",
    "        a, b = b, a + b\n",
    "        \n",
    "x = fib(5)\n",
    "print(x.__next__())\n",
    "print(x.__next__())\n",
    "print(x.__next__())\n",
    "print(x.__next__())\n",
    "print(x.__next__())\n",
    "\n",
    "print(\"\\nUsing for in loop\")\n",
    "for i in fib(5): \n",
    "    print(i)"
   ]
  },
  {
   "cell_type": "markdown",
   "id": "adc789e7-5770-4ecd-8856-9deb3027248b",
   "metadata": {},
   "source": [
    "### Lambda fucntions"
   ]
  },
  {
   "cell_type": "code",
   "execution_count": 129,
   "id": "3139e726-acb5-46ea-a9b3-84afab957428",
   "metadata": {},
   "outputs": [
    {
     "name": "stdout",
     "output_type": "stream",
     "text": [
      "GeeksforGeeks\n"
     ]
    }
   ],
   "source": [
    "x = \"GeeksforGeeks\"\n",
    "func = lambda x: print(x)\n",
    "func(x)"
   ]
  },
  {
   "cell_type": "code",
   "execution_count": 130,
   "id": "a1f8cc9e-1a8a-4202-ade9-bb0f052cef40",
   "metadata": {},
   "outputs": [
    {
     "name": "stdout",
     "output_type": "stream",
     "text": [
      "[100, 2, 8, 60, 4, 10]\n"
     ]
    }
   ],
   "source": [
    "a = [100, 2, 8, 60, 5, 4, 3, 31, 10, 11]\n",
    "\n",
    "filtered = filter (lambda x: x % 2 == 0, a)\n",
    "print(list(filtered))"
   ]
  },
  {
   "cell_type": "markdown",
   "id": "995ce9fe-edd8-44c3-8eed-2354d241546e",
   "metadata": {},
   "source": [
    "### Decorator"
   ]
  },
  {
   "cell_type": "code",
   "execution_count": 150,
   "id": "8ce77afa-a815-4a0f-9c0a-1072f086fec4",
   "metadata": {},
   "outputs": [
    {
     "name": "stdout",
     "output_type": "stream",
     "text": [
      "before Execution\n",
      "Inside the function\n",
      "after Execution\n",
      "Sum = 3\n"
     ]
    }
   ],
   "source": [
    "def hello_decorator(func):\n",
    "    def inner1(*args, **kwargs):\n",
    "        print(\"before Execution\")\n",
    "        returned_value = func(*args, **kwargs)\n",
    "        print(\"after Execution\")\n",
    "        return returned_value\n",
    "    return inner1\n",
    " \n",
    "@hello_decorator\n",
    "def sum_two_numbers(a, b):\n",
    "    print(\"Inside the function\")\n",
    "    return a + b\n",
    " \n",
    "print(\"Sum =\", sum_two_numbers(1, 2))"
   ]
  },
  {
   "cell_type": "markdown",
   "id": "2516f175-24bf-48c0-ab92-8c288e377b5f",
   "metadata": {},
   "source": [
    "### Memoization"
   ]
  },
  {
   "cell_type": "code",
   "execution_count": 152,
   "id": "d1fc0572-77ce-4d84-81af-9b24d4ff2294",
   "metadata": {},
   "outputs": [
    {
     "name": "stdout",
     "output_type": "stream",
     "text": [
      "result saved in memory\n",
      "result saved in memory\n",
      "result saved in memory\n",
      "result saved in memory\n",
      "result saved in memory\n",
      "120\n",
      "returning result from saved memory\n",
      "120\n"
     ]
    }
   ],
   "source": [
    "memory = {}\n",
    "def memoize_factorial(f):\n",
    "    def inner(num):\n",
    "        if num not in memory:\n",
    "            memory[num] = f(num)\n",
    "            print('result saved in memory')\n",
    "        else:\n",
    "            print('returning result from saved memory')\n",
    "        return memory[num]\n",
    "    return inner\n",
    "     \n",
    "@memoize_factorial\n",
    "def facto(num):\n",
    "    if num == 1:\n",
    "        return 1\n",
    "    else:\n",
    "        return num * facto(num-1)\n",
    "\n",
    "print(facto(5))\n",
    "print(facto(5))"
   ]
  },
  {
   "cell_type": "code",
   "execution_count": null,
   "id": "54ee87f4-0af8-4776-a18f-192074492de5",
   "metadata": {},
   "outputs": [],
   "source": []
  },
  {
   "cell_type": "code",
   "execution_count": null,
   "id": "fc84958c-bd4c-4e55-a7a1-9319dbc0b5d7",
   "metadata": {},
   "outputs": [],
   "source": [
    "class Animal:\n",
    "    def __init__(self, breed, color):\n",
    "    self._breed = breed\n",
    "    self._color = color\n",
    "    self._no_of_legs = no_of_legs"
   ]
  },
  {
   "cell_type": "code",
   "execution_count": 154,
   "id": "1bc6c688-b7cb-4d9d-b4f2-8756cfebd2f4",
   "metadata": {},
   "outputs": [
    {
     "name": "stdout",
     "output_type": "stream",
     "text": [
      "brown\n"
     ]
    }
   ],
   "source": [
    "class Dog:\n",
    "    animal = 'dog'\n",
    "    def __init__(self, breed, color):\n",
    "        self.breed = breed\n",
    "        self.color = color\n",
    " \n",
    "    def setColor(self, color):\n",
    "        self.color = color\n",
    " \n",
    "    def getColor(self):\n",
    "        return self.color\n",
    "\n",
    "Rodger = Dog(\"pug\", \"brown\")\n",
    "# Rodger.setColor(\"brown\")\n",
    "print(Rodger.getColor())"
   ]
  },
  {
   "cell_type": "markdown",
   "id": "be2de571-e433-4ec7-a542-3a6b20dee07e",
   "metadata": {},
   "source": [
    "### class vs static methods"
   ]
  },
  {
   "cell_type": "code",
   "execution_count": 158,
   "id": "597ecfed-39ac-43c8-9475-40a72bf20449",
   "metadata": {},
   "outputs": [
    {
     "name": "stdout",
     "output_type": "stream",
     "text": [
      "21\n",
      "26\n",
      "True\n"
     ]
    }
   ],
   "source": [
    "from datetime import date\n",
    "\n",
    "class Person:\n",
    "    def __init__(self, name, age):\n",
    "        self.name = name\n",
    "        self.age = age\n",
    " \n",
    "    # a class method to create a Person object by birth year.\n",
    "    @classmethod\n",
    "    def fromBirthYear(cls, name, year):\n",
    "        return cls(name, date.today().year - year)\n",
    " \n",
    "    # a static method to check if a Person is adult or not. static function is just a normal function placed here because it makes sense\n",
    "    @staticmethod\n",
    "    def isAdult(age):\n",
    "        return age > 18\n",
    " \n",
    " \n",
    "person1 = Person('mayank', 21)\n",
    "person2 = Person.fromBirthYear('mayank', 1996)\n",
    " \n",
    "print(person1.age)\n",
    "print(person2.age)\n",
    " \n",
    "# print the result\n",
    "print(Person.isAdult(22))"
   ]
  },
  {
   "cell_type": "markdown",
   "id": "c5a1874a-f6de-44e9-a15f-147fd5a6c56c",
   "metadata": {},
   "source": [
    "### Exception"
   ]
  },
  {
   "cell_type": "code",
   "execution_count": 159,
   "id": "c0600c74-d6f1-464a-865b-989f426fb8d6",
   "metadata": {},
   "outputs": [
    {
     "name": "stdout",
     "output_type": "stream",
     "text": [
      "ZeroDivisionError Occurred and Handled\n"
     ]
    }
   ],
   "source": [
    "def fun(a):\n",
    "    if a < 4:\n",
    "  \n",
    "        # throws ZeroDivisionError for a = 3\n",
    "        b = a/(a-3)\n",
    "  \n",
    "    # throws NameError if a >= 4\n",
    "    print(\"Value of b = \", b)\n",
    "      \n",
    "try:\n",
    "    fun(3)\n",
    "    fun(5)\n",
    "except ZeroDivisionError:\n",
    "    print(\"ZeroDivisionError Occurred and Handled\")\n",
    "except NameError:\n",
    "    print(\"NameError Occurred and Handled\")"
   ]
  },
  {
   "cell_type": "code",
   "execution_count": null,
   "id": "e4800d03-ff93-4902-a5ec-9199250c7cc3",
   "metadata": {},
   "outputs": [],
   "source": []
  },
  {
   "cell_type": "code",
   "execution_count": 160,
   "id": "3e25b022-cfce-4883-9c51-eca4bb378a5e",
   "metadata": {},
   "outputs": [
    {
     "ename": "CustomError",
     "evalue": "Example of Custom Exceptions in Python",
     "output_type": "error",
     "traceback": [
      "\u001b[1;31m---------------------------------------------------------------------------\u001b[0m",
      "\u001b[1;31mCustomError\u001b[0m                               Traceback (most recent call last)",
      "Input \u001b[1;32mIn [160]\u001b[0m, in \u001b[0;36m<cell line: 4>\u001b[1;34m()\u001b[0m\n\u001b[0;32m      1\u001b[0m \u001b[38;5;28;01mclass\u001b[39;00m \u001b[38;5;21;01mCustomError\u001b[39;00m(\u001b[38;5;167;01mException\u001b[39;00m):\n\u001b[0;32m      2\u001b[0m     \u001b[38;5;28;01mpass\u001b[39;00m\n\u001b[1;32m----> 4\u001b[0m \u001b[38;5;28;01mraise\u001b[39;00m CustomError(\u001b[38;5;124m\"\u001b[39m\u001b[38;5;124mExample of Custom Exceptions in Python\u001b[39m\u001b[38;5;124m\"\u001b[39m)\n",
      "\u001b[1;31mCustomError\u001b[0m: Example of Custom Exceptions in Python"
     ]
    }
   ],
   "source": [
    "\n"
   ]
  },
  {
   "cell_type": "markdown",
   "id": "f51d1577-ef86-4653-ad71-26873b54452a",
   "metadata": {},
   "source": [
    "### default dic"
   ]
  },
  {
   "cell_type": "code",
   "execution_count": 161,
   "id": "72d82afd-894f-4fb0-951d-ed357f28abc0",
   "metadata": {},
   "outputs": [
    {
     "name": "stdout",
     "output_type": "stream",
     "text": [
      "1\n",
      "2\n",
      "Not Present\n"
     ]
    }
   ],
   "source": [
    "from collections import defaultdict\n",
    "  \n",
    "      \n",
    "# Defining the dict and passing \n",
    "# lambda as default_factory argument\n",
    "d = defaultdict(lambda: \"Not Present\")\n",
    "d[\"a\"] = 1\n",
    "d[\"b\"] = 2\n",
    "  \n",
    "print(d[\"a\"])\n",
    "print(d[\"b\"])\n",
    "print(d[\"c\"])"
   ]
  },
  {
   "cell_type": "code",
   "execution_count": null,
   "id": "4c7d7054-cee1-4869-8cea-fe7e63bee6f4",
   "metadata": {},
   "outputs": [],
   "source": []
  }
 ],
 "metadata": {
  "kernelspec": {
   "display_name": "Python 3 (ipykernel)",
   "language": "python",
   "name": "python3"
  },
  "language_info": {
   "codemirror_mode": {
    "name": "ipython",
    "version": 3
   },
   "file_extension": ".py",
   "mimetype": "text/x-python",
   "name": "python",
   "nbconvert_exporter": "python",
   "pygments_lexer": "ipython3",
   "version": "3.9.12"
  }
 },
 "nbformat": 4,
 "nbformat_minor": 5
}
