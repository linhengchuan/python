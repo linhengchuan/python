{
 "cells": [
  {
   "cell_type": "code",
   "execution_count": 15,
   "id": "11e5cc9d-8e62-49c9-9009-8fb1221141fd",
   "metadata": {},
   "outputs": [],
   "source": [
    "# !pip install python-statemachine\n",
    "# https://www.askpython.com/python-modules/state-machines-python"
   ]
  },
  {
   "cell_type": "code",
   "execution_count": 19,
   "id": "fe205da8-a5e4-473c-9c4a-0d1fc16f6f65",
   "metadata": {},
   "outputs": [
    {
     "name": "stdout",
     "output_type": "stream",
     "text": [
      "State('off', identifier='offState', value='offState', initial=True)\n"
     ]
    }
   ],
   "source": [
    "from statemachine import StateMachine, State\n",
    " \n",
    "class LightBulb(StateMachine):\n",
    " \n",
    "    # creating states\n",
    "    offState = State(\"off\", initial = True)\n",
    "    onState = State(\"on\")\n",
    "      \n",
    "    # transitions of the state\n",
    "    switchOn = offState.to(onState)\n",
    "    switchOff = onState.to(offState)\n",
    "     \n",
    "         \n",
    "bulb = LightBulb()\n",
    "# bulb.switchOn()\n",
    "print(bulb.current_state)"
   ]
  },
  {
   "cell_type": "code",
   "execution_count": 20,
   "id": "00096a4d-898a-401d-bc80-03b1dbe7f817",
   "metadata": {},
   "outputs": [
    {
     "data": {
      "text/plain": [
       "True"
      ]
     },
     "execution_count": 20,
     "metadata": {},
     "output_type": "execute_result"
    }
   ],
   "source": [
    "bulb.is_offState"
   ]
  },
  {
   "cell_type": "code",
   "execution_count": 21,
   "id": "e2cf04b3-a553-416a-a090-eb9ccdd48c9e",
   "metadata": {},
   "outputs": [
    {
     "name": "stdout",
     "output_type": "stream",
     "text": [
      "['offState', 'onState']\n"
     ]
    }
   ],
   "source": [
    "# keeping track of all current states\n",
    "a = [s.identifier for s in bulb.states]\n",
    "print(a)"
   ]
  },
  {
   "cell_type": "code",
   "execution_count": null,
   "id": "8b1338cb-8163-4f76-b1c9-08eb1f5bbcd4",
   "metadata": {},
   "outputs": [],
   "source": []
  },
  {
   "cell_type": "code",
   "execution_count": null,
   "id": "a0fec1ec-2e9d-4f42-b9b1-a1b846e3affd",
   "metadata": {},
   "outputs": [],
   "source": [
    "from statemachine import StateMachine, State\n",
    " \n",
    "class VendingMachine(StateMachine):\n",
    " \n",
    "    # creating states\n",
    "    offState = State(\"off\", initial = True)\n",
    "    onState = State(\"on\")\n",
    "      \n",
    "    # transitions of the state\n",
    "    switchOn = offState.to(onState)\n",
    "    switchOff = onState.to(offState)\n",
    "     \n",
    "         \n",
    "bulb = LightBulb()\n",
    "# bulb.switchOn()\n",
    "print(bulb.current_state)"
   ]
  },
  {
   "cell_type": "code",
   "execution_count": null,
   "id": "882228e6-12d7-46a2-bc94-a074e43ea0d3",
   "metadata": {},
   "outputs": [],
   "source": []
  },
  {
   "cell_type": "code",
   "execution_count": null,
   "id": "9a50fd63-10b5-4f52-a533-d6276b2e9620",
   "metadata": {},
   "outputs": [],
   "source": []
  },
  {
   "cell_type": "code",
   "execution_count": null,
   "id": "d31b7705-c242-4a66-92b1-ec4e9a91158a",
   "metadata": {},
   "outputs": [],
   "source": []
  },
  {
   "cell_type": "code",
   "execution_count": null,
   "id": "8ae2ee03-5fc4-454c-964f-9412eb0bc072",
   "metadata": {},
   "outputs": [],
   "source": []
  }
 ],
 "metadata": {
  "kernelspec": {
   "display_name": "Python 3 (ipykernel)",
   "language": "python",
   "name": "python3"
  },
  "language_info": {
   "codemirror_mode": {
    "name": "ipython",
    "version": 3
   },
   "file_extension": ".py",
   "mimetype": "text/x-python",
   "name": "python",
   "nbconvert_exporter": "python",
   "pygments_lexer": "ipython3",
   "version": "3.9.12"
  }
 },
 "nbformat": 4,
 "nbformat_minor": 5
}
