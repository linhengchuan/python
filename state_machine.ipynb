{
 "cells": [
  {
   "cell_type": "code",
   "execution_count": 3,
   "id": "11e5cc9d-8e62-49c9-9009-8fb1221141fd",
   "metadata": {},
   "outputs": [],
   "source": [
    "# !pip install python-statemachine\n",
    "# https://www.askpython.com/python-modules/state-machines-python"
   ]
  },
  {
   "cell_type": "code",
   "execution_count": 19,
   "id": "fe205da8-a5e4-473c-9c4a-0d1fc16f6f65",
   "metadata": {},
   "outputs": [
    {
     "name": "stdout",
     "output_type": "stream",
     "text": [
      "State('off', identifier='offState', value='offState', initial=True)\n"
     ]
    }
   ],
   "source": [
    "from statemachine import StateMachine, State\n",
    " \n",
    "class LightBulb(StateMachine):\n",
    " \n",
    "    # creating states\n",
    "    offState = State(\"off\", initial = True)\n",
    "    onState = State(\"on\")\n",
    "      \n",
    "    # transitions of the state\n",
    "    switchOn = offState.to(onState)\n",
    "    switchOff = onState.to(offState)\n",
    "     \n",
    "         \n",
    "bulb = LightBulb()\n",
    "# bulb.switchOn()\n",
    "print(bulb.current_state)"
   ]
  },
  {
   "cell_type": "code",
   "execution_count": 20,
   "id": "00096a4d-898a-401d-bc80-03b1dbe7f817",
   "metadata": {},
   "outputs": [
    {
     "data": {
      "text/plain": [
       "True"
      ]
     },
     "execution_count": 20,
     "metadata": {},
     "output_type": "execute_result"
    }
   ],
   "source": [
    "bulb.is_offState"
   ]
  },
  {
   "cell_type": "code",
   "execution_count": 21,
   "id": "e2cf04b3-a553-416a-a090-eb9ccdd48c9e",
   "metadata": {},
   "outputs": [
    {
     "name": "stdout",
     "output_type": "stream",
     "text": [
      "['offState', 'onState']\n"
     ]
    }
   ],
   "source": [
    "# keeping track of all current states\n",
    "a = [s.identifier for s in bulb.states]\n",
    "print(a)"
   ]
  },
  {
   "cell_type": "code",
   "execution_count": null,
   "id": "8b1338cb-8163-4f76-b1c9-08eb1f5bbcd4",
   "metadata": {},
   "outputs": [],
   "source": []
  },
  {
   "cell_type": "code",
   "execution_count": null,
   "id": "a0fec1ec-2e9d-4f42-b9b1-a1b846e3affd",
   "metadata": {},
   "outputs": [],
   "source": [
    "from statemachine import StateMachine, State\n",
    " \n",
    "class VendingMachine(StateMachine):\n",
    " \n",
    "    # creating states\n",
    "    offState = State(\"off\", initial = True)\n",
    "    onState = State(\"on\")\n",
    "      \n",
    "    # transitions of the state\n",
    "    switchOn = offState.to(onState)\n",
    "    switchOff = onState.to(offState)\n",
    "     \n",
    "         \n",
    "bulb = LightBulb()\n",
    "# bulb.switchOn()\n",
    "print(bulb.current_state)"
   ]
  },
  {
   "cell_type": "code",
   "execution_count": null,
   "id": "882228e6-12d7-46a2-bc94-a074e43ea0d3",
   "metadata": {},
   "outputs": [],
   "source": []
  },
  {
   "cell_type": "code",
   "execution_count": 4,
   "id": "9a50fd63-10b5-4f52-a533-d6276b2e9620",
   "metadata": {},
   "outputs": [],
   "source": [
    "from statemachine import StateMachine, State\n",
    " \n",
    "class Machine(StateMachine):\n",
    "    state_a = State(\"a\", initial = True)\n",
    "    state_b = State(\"b\")    \n",
    "    state_c = State(\"c\")\n",
    "    \n",
    "    a_to_b = state_a.to(state_b)\n",
    "    b_to_c = state_b.to(state_c)\n",
    "    c_to_a = state_c.to(state_a)\n",
    "    "
   ]
  },
  {
   "cell_type": "code",
   "execution_count": 5,
   "id": "d31b7705-c242-4a66-92b1-ec4e9a91158a",
   "metadata": {},
   "outputs": [],
   "source": [
    "test = Machine()"
   ]
  },
  {
   "cell_type": "code",
   "execution_count": 6,
   "id": "8ae2ee03-5fc4-454c-964f-9412eb0bc072",
   "metadata": {},
   "outputs": [
    {
     "data": {
      "text/plain": [
       "State('a', identifier='state_a', value='state_a', initial=True)"
      ]
     },
     "execution_count": 6,
     "metadata": {},
     "output_type": "execute_result"
    }
   ],
   "source": [
    "test.current_state"
   ]
  },
  {
   "cell_type": "code",
   "execution_count": 7,
   "id": "ea9566fa-3f85-42df-87e0-b27e848d9188",
   "metadata": {},
   "outputs": [
    {
     "data": {
      "text/plain": [
       "True"
      ]
     },
     "execution_count": 7,
     "metadata": {},
     "output_type": "execute_result"
    }
   ],
   "source": [
    "test.current_state==Machine.state_a"
   ]
  },
  {
   "cell_type": "code",
   "execution_count": 8,
   "id": "2eeb431b-8637-4eab-afbb-3909a10f04ed",
   "metadata": {},
   "outputs": [],
   "source": [
    "test.a_to_b()"
   ]
  },
  {
   "cell_type": "code",
   "execution_count": 9,
   "id": "f6dc282a-ade0-4d97-9af6-6c3f508dc383",
   "metadata": {},
   "outputs": [
    {
     "data": {
      "text/plain": [
       "State('b', identifier='state_b', value='state_b', initial=False)"
      ]
     },
     "execution_count": 9,
     "metadata": {},
     "output_type": "execute_result"
    }
   ],
   "source": [
    "test.current_state"
   ]
  },
  {
   "cell_type": "code",
   "execution_count": null,
   "id": "6708d13a-4aef-4f16-a999-7672d8731378",
   "metadata": {},
   "outputs": [],
   "source": []
  },
  {
   "cell_type": "code",
   "execution_count": null,
   "id": "dd91eabd-ba92-4708-869b-3e87ee67e84a",
   "metadata": {},
   "outputs": [],
   "source": []
  },
  {
   "cell_type": "code",
   "execution_count": null,
   "id": "9de5a81a-1a5b-4af4-9d6f-9f6244b7ff73",
   "metadata": {},
   "outputs": [],
   "source": []
  },
  {
   "cell_type": "code",
   "execution_count": null,
   "id": "19a47c27-2482-4629-884b-fe3042e61a4e",
   "metadata": {},
   "outputs": [],
   "source": []
  },
  {
   "cell_type": "code",
   "execution_count": 4,
   "id": "30a31a23-c92d-42e2-a851-cc89edfa55c2",
   "metadata": {},
   "outputs": [],
   "source": [
    "from statemachine import StateMachine, State\n",
    " \n",
    "class statemachine(StateMachine):\n",
    "    main_menu = State(\"main_menu\", initial = True)\n",
    "    setup_menu = State(\"setup_menu\")    \n",
    "    operation_menu = State(\"operation_menu\")    \n",
    "    analysis_menu = State(\"analysis_menu\")\n",
    "    \n",
    "    enter_main_menu = setup_menu.to(main_menu) | operation_menu.to(main_menu) | analysis_menu.to(main_menu)\n",
    "    enter_setup_menu = main_menu.to(setup_menu)\n",
    "    enter_operation_menu = main_menu.to(operation_menu)\n",
    "    enter_analysis_menu = main_menu.to(analysis_menu)"
   ]
  },
  {
   "cell_type": "code",
   "execution_count": 5,
   "id": "a98afb3c-dd3e-443d-ab65-2bd16bfea59f",
   "metadata": {},
   "outputs": [],
   "source": [
    "a = statemachine()"
   ]
  },
  {
   "cell_type": "code",
   "execution_count": 14,
   "id": "407a78f8-0c78-43ee-9db4-0845d301f5f0",
   "metadata": {},
   "outputs": [
    {
     "name": "stdout",
     "output_type": "stream",
     "text": [
      "True\n",
      "False\n",
      "False\n",
      "False\n"
     ]
    }
   ],
   "source": [
    "print(a.is_main_menu)\n",
    "print(a.is_setup_menu)\n",
    "print(a.is_operation_menu)\n",
    "print(a.is_analysis_menu)"
   ]
  },
  {
   "cell_type": "code",
   "execution_count": 15,
   "id": "dfa6f3c2-09c5-4132-9889-e4c9a0f8b1ff",
   "metadata": {
    "tags": []
   },
   "outputs": [],
   "source": [
    "a.enter_setup_menu()"
   ]
  },
  {
   "cell_type": "code",
   "execution_count": 13,
   "id": "d35f2c57-22b4-4913-a375-5ebde4ac8435",
   "metadata": {},
   "outputs": [],
   "source": [
    "a.enter_main_menu()"
   ]
  },
  {
   "cell_type": "code",
   "execution_count": 16,
   "id": "c03b6096-d287-4fcd-bab8-7ee3137ecc2b",
   "metadata": {
    "collapsed": true,
    "jupyter": {
     "outputs_hidden": true
    },
    "tags": []
   },
   "outputs": [
    {
     "ename": "TransitionNotAllowed",
     "evalue": "Can't enter_operation_menu when in setup_menu.",
     "output_type": "error",
     "traceback": [
      "\u001b[1;31m---------------------------------------------------------------------------\u001b[0m",
      "\u001b[1;31mTransitionNotAllowed\u001b[0m                      Traceback (most recent call last)",
      "\u001b[1;32m<ipython-input-16-abd904977950>\u001b[0m in \u001b[0;36m<module>\u001b[1;34m\u001b[0m\n\u001b[1;32m----> 1\u001b[1;33m \u001b[0ma\u001b[0m\u001b[1;33m.\u001b[0m\u001b[0menter_operation_menu\u001b[0m\u001b[1;33m(\u001b[0m\u001b[1;33m)\u001b[0m\u001b[1;33m\u001b[0m\u001b[0m\n\u001b[0m",
      "\u001b[1;32m~\\.conda\\envs\\antc\\lib\\site-packages\\statemachine\\statemachine.py\u001b[0m in \u001b[0;36m__call__\u001b[1;34m(self, *args, **kwargs)\u001b[0m\n\u001b[0;32m     59\u001b[0m \u001b[1;33m\u001b[0m\u001b[0m\n\u001b[0;32m     60\u001b[0m     \u001b[1;32mdef\u001b[0m \u001b[0m__call__\u001b[0m\u001b[1;33m(\u001b[0m\u001b[0mself\u001b[0m\u001b[1;33m,\u001b[0m \u001b[1;33m*\u001b[0m\u001b[0margs\u001b[0m\u001b[1;33m,\u001b[0m \u001b[1;33m**\u001b[0m\u001b[0mkwargs\u001b[0m\u001b[1;33m)\u001b[0m\u001b[1;33m:\u001b[0m\u001b[1;33m\u001b[0m\u001b[0m\n\u001b[1;32m---> 61\u001b[1;33m         \u001b[1;32mreturn\u001b[0m \u001b[0mself\u001b[0m\u001b[1;33m.\u001b[0m\u001b[0mfunc\u001b[0m\u001b[1;33m(\u001b[0m\u001b[1;33m*\u001b[0m\u001b[0margs\u001b[0m\u001b[1;33m,\u001b[0m \u001b[1;33m**\u001b[0m\u001b[0mkwargs\u001b[0m\u001b[1;33m)\u001b[0m\u001b[1;33m\u001b[0m\u001b[0m\n\u001b[0m\u001b[0;32m     62\u001b[0m \u001b[1;33m\u001b[0m\u001b[0m\n\u001b[0;32m     63\u001b[0m \u001b[1;33m\u001b[0m\u001b[0m\n",
      "\u001b[1;32m~\\.conda\\envs\\antc\\lib\\site-packages\\statemachine\\statemachine.py\u001b[0m in \u001b[0;36mtransition_callback\u001b[1;34m(*args, **kwargs)\u001b[0m\n\u001b[0;32m     83\u001b[0m     \u001b[1;32mdef\u001b[0m \u001b[0m__get__\u001b[0m\u001b[1;33m(\u001b[0m\u001b[0mself\u001b[0m\u001b[1;33m,\u001b[0m \u001b[0mmachine\u001b[0m\u001b[1;33m,\u001b[0m \u001b[0mowner\u001b[0m\u001b[1;33m)\u001b[0m\u001b[1;33m:\u001b[0m\u001b[1;33m\u001b[0m\u001b[0m\n\u001b[0;32m     84\u001b[0m         \u001b[1;32mdef\u001b[0m \u001b[0mtransition_callback\u001b[0m\u001b[1;33m(\u001b[0m\u001b[1;33m*\u001b[0m\u001b[0margs\u001b[0m\u001b[1;33m,\u001b[0m \u001b[1;33m**\u001b[0m\u001b[0mkwargs\u001b[0m\u001b[1;33m)\u001b[0m\u001b[1;33m:\u001b[0m\u001b[1;33m\u001b[0m\u001b[0m\n\u001b[1;32m---> 85\u001b[1;33m             \u001b[1;32mreturn\u001b[0m \u001b[0mself\u001b[0m\u001b[1;33m.\u001b[0m\u001b[0m_run\u001b[0m\u001b[1;33m(\u001b[0m\u001b[0mmachine\u001b[0m\u001b[1;33m,\u001b[0m \u001b[1;33m*\u001b[0m\u001b[0margs\u001b[0m\u001b[1;33m,\u001b[0m \u001b[1;33m**\u001b[0m\u001b[0mkwargs\u001b[0m\u001b[1;33m)\u001b[0m\u001b[1;33m\u001b[0m\u001b[0m\n\u001b[0m\u001b[0;32m     86\u001b[0m \u001b[1;33m\u001b[0m\u001b[0m\n\u001b[0;32m     87\u001b[0m         \u001b[1;32mreturn\u001b[0m \u001b[0mCallableInstance\u001b[0m\u001b[1;33m(\u001b[0m\u001b[0mself\u001b[0m\u001b[1;33m,\u001b[0m \u001b[0mfunc\u001b[0m\u001b[1;33m=\u001b[0m\u001b[0mtransition_callback\u001b[0m\u001b[1;33m)\u001b[0m\u001b[1;33m\u001b[0m\u001b[0m\n",
      "\u001b[1;32m~\\.conda\\envs\\antc\\lib\\site-packages\\statemachine\\statemachine.py\u001b[0m in \u001b[0;36m_run\u001b[1;34m(self, machine, *args, **kwargs)\u001b[0m\n\u001b[0;32m    110\u001b[0m \u001b[1;33m\u001b[0m\u001b[0m\n\u001b[0;32m    111\u001b[0m     \u001b[1;32mdef\u001b[0m \u001b[0m_run\u001b[0m\u001b[1;33m(\u001b[0m\u001b[0mself\u001b[0m\u001b[1;33m,\u001b[0m \u001b[0mmachine\u001b[0m\u001b[1;33m,\u001b[0m \u001b[1;33m*\u001b[0m\u001b[0margs\u001b[0m\u001b[1;33m,\u001b[0m \u001b[1;33m**\u001b[0m\u001b[0mkwargs\u001b[0m\u001b[1;33m)\u001b[0m\u001b[1;33m:\u001b[0m\u001b[1;33m\u001b[0m\u001b[0m\n\u001b[1;32m--> 112\u001b[1;33m         \u001b[0mself\u001b[0m\u001b[1;33m.\u001b[0m\u001b[0m_verify_can_run\u001b[0m\u001b[1;33m(\u001b[0m\u001b[0mmachine\u001b[0m\u001b[1;33m)\u001b[0m\u001b[1;33m\u001b[0m\u001b[0m\n\u001b[0m\u001b[0;32m    113\u001b[0m         \u001b[0mself\u001b[0m\u001b[1;33m.\u001b[0m\u001b[0m_validate\u001b[0m\u001b[1;33m(\u001b[0m\u001b[1;33m*\u001b[0m\u001b[0margs\u001b[0m\u001b[1;33m,\u001b[0m \u001b[1;33m**\u001b[0m\u001b[0mkwargs\u001b[0m\u001b[1;33m)\u001b[0m\u001b[1;33m\u001b[0m\u001b[0m\n\u001b[0;32m    114\u001b[0m         \u001b[1;32mreturn\u001b[0m \u001b[0mmachine\u001b[0m\u001b[1;33m.\u001b[0m\u001b[0m_activate\u001b[0m\u001b[1;33m(\u001b[0m\u001b[0mself\u001b[0m\u001b[1;33m,\u001b[0m \u001b[1;33m*\u001b[0m\u001b[0margs\u001b[0m\u001b[1;33m,\u001b[0m \u001b[1;33m**\u001b[0m\u001b[0mkwargs\u001b[0m\u001b[1;33m)\u001b[0m\u001b[1;33m\u001b[0m\u001b[0m\n",
      "\u001b[1;32m~\\.conda\\envs\\antc\\lib\\site-packages\\statemachine\\statemachine.py\u001b[0m in \u001b[0;36m_verify_can_run\u001b[1;34m(self, machine)\u001b[0m\n\u001b[0;32m    106\u001b[0m         \u001b[0mtransition\u001b[0m \u001b[1;33m=\u001b[0m \u001b[0mself\u001b[0m\u001b[1;33m.\u001b[0m\u001b[0m_can_run\u001b[0m\u001b[1;33m(\u001b[0m\u001b[0mmachine\u001b[0m\u001b[1;33m)\u001b[0m\u001b[1;33m\u001b[0m\u001b[0m\n\u001b[0;32m    107\u001b[0m         \u001b[1;32mif\u001b[0m \u001b[1;32mnot\u001b[0m \u001b[0mtransition\u001b[0m\u001b[1;33m:\u001b[0m\u001b[1;33m\u001b[0m\u001b[0m\n\u001b[1;32m--> 108\u001b[1;33m             \u001b[1;32mraise\u001b[0m \u001b[0mTransitionNotAllowed\u001b[0m\u001b[1;33m(\u001b[0m\u001b[0mself\u001b[0m\u001b[1;33m,\u001b[0m \u001b[0mmachine\u001b[0m\u001b[1;33m.\u001b[0m\u001b[0mcurrent_state\u001b[0m\u001b[1;33m)\u001b[0m\u001b[1;33m\u001b[0m\u001b[0m\n\u001b[0m\u001b[0;32m    109\u001b[0m         \u001b[1;32mreturn\u001b[0m \u001b[0mtransition\u001b[0m\u001b[1;33m\u001b[0m\u001b[0m\n\u001b[0;32m    110\u001b[0m \u001b[1;33m\u001b[0m\u001b[0m\n",
      "\u001b[1;31mTransitionNotAllowed\u001b[0m: Can't enter_operation_menu when in setup_menu."
     ]
    }
   ],
   "source": [
    "a.enter_operation_menu()"
   ]
  },
  {
   "cell_type": "code",
   "execution_count": 9,
   "id": "eb3f20f3-2eee-41d1-a1f9-ca645342b91e",
   "metadata": {},
   "outputs": [],
   "source": []
  }
 ],
 "metadata": {
  "kernelspec": {
   "display_name": "Python 3",
   "language": "python",
   "name": "python3"
  },
  "language_info": {
   "codemirror_mode": {
    "name": "ipython",
    "version": 3
   },
   "file_extension": ".py",
   "mimetype": "text/x-python",
   "name": "python",
   "nbconvert_exporter": "python",
   "pygments_lexer": "ipython3",
   "version": "3.6.6"
  }
 },
 "nbformat": 4,
 "nbformat_minor": 5
}
