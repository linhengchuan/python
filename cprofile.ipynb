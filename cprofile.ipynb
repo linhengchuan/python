{
 "cells": [
  {
   "cell_type": "code",
   "execution_count": 1,
   "id": "1726237f-0640-41d4-8002-ec9cabced57e",
   "metadata": {},
   "outputs": [],
   "source": [
    "import cProfile"
   ]
  },
  {
   "cell_type": "code",
   "execution_count": 2,
   "id": "50342e25-2732-400c-b67a-44412cec0e2f",
   "metadata": {},
   "outputs": [
    {
     "name": "stdout",
     "output_type": "stream",
     "text": [
      "TEST\n",
      "         90 function calls in 0.000 seconds\n",
      "\n",
      "   Ordered by: standard name\n",
      "\n",
      "   ncalls  tottime  percall  cumtime  percall filename:lineno(function)\n",
      "        1    0.000    0.000    0.000    0.000 3348047815.py:3(<cell line: 3>)\n",
      "        1    0.000    0.000    0.000    0.000 3348047815.py:4(<cell line: 4>)\n",
      "        2    0.000    0.000    0.000    0.000 codeop.py:142(__call__)\n",
      "        4    0.000    0.000    0.000    0.000 compilerop.py:174(extra_flags)\n",
      "        2    0.000    0.000    0.000    0.000 contextlib.py:114(__enter__)\n",
      "        2    0.000    0.000    0.000    0.000 contextlib.py:123(__exit__)\n",
      "        2    0.000    0.000    0.000    0.000 contextlib.py:261(helper)\n",
      "        2    0.000    0.000    0.000    0.000 contextlib.py:86(__init__)\n",
      "        4    0.000    0.000    0.000    0.000 dis.py:449(findlinestarts)\n",
      "        2    0.000    0.000    0.000    0.000 interactiveshell.py:1192(user_global_ns)\n",
      "        2    0.000    0.000    0.000    0.000 interactiveshell.py:3215(_update_code_co_name)\n",
      "        2    0.000    0.000    0.000    0.000 interactiveshell.py:3313(compare)\n",
      "        2    0.000    0.000    0.000    0.000 interactiveshell.py:3362(run_code)\n",
      "        3    0.000    0.000    0.000    0.000 iostream.py:208(schedule)\n",
      "        2    0.000    0.000    0.000    0.000 iostream.py:420(_is_master_process)\n",
      "        2    0.000    0.000    0.000    0.000 iostream.py:439(_schedule_flush)\n",
      "        2    0.000    0.000    0.000    0.000 iostream.py:502(write)\n",
      "        3    0.000    0.000    0.000    0.000 iostream.py:97(_event_pipe)\n",
      "        3    0.000    0.000    0.000    0.000 socket.py:543(send)\n",
      "        3    0.000    0.000    0.000    0.000 threading.py:1059(_wait_for_tstate_lock)\n",
      "        3    0.000    0.000    0.000    0.000 threading.py:1126(is_alive)\n",
      "        3    0.000    0.000    0.000    0.000 threading.py:529(is_set)\n",
      "        2    0.000    0.000    0.000    0.000 traitlets.py:535(get)\n",
      "        2    0.000    0.000    0.000    0.000 traitlets.py:566(__get__)\n",
      "        2    0.000    0.000    0.000    0.000 {built-in method builtins.compile}\n",
      "        2    0.000    0.000    0.000    0.000 {built-in method builtins.exec}\n",
      "        4    0.000    0.000    0.000    0.000 {built-in method builtins.getattr}\n",
      "        2    0.000    0.000    0.000    0.000 {built-in method builtins.hasattr}\n",
      "        2    0.000    0.000    0.000    0.000 {built-in method builtins.isinstance}\n",
      "        4    0.000    0.000    0.000    0.000 {built-in method builtins.len}\n",
      "        6    0.000    0.000    0.000    0.000 {built-in method builtins.next}\n",
      "        1    0.000    0.000    0.000    0.000 {built-in method builtins.print}\n",
      "        2    0.000    0.000    0.000    0.000 {built-in method nt.getpid}\n",
      "        3    0.000    0.000    0.000    0.000 {method 'acquire' of '_thread.lock' objects}\n",
      "        3    0.000    0.000    0.000    0.000 {method 'append' of 'collections.deque' objects}\n",
      "        1    0.000    0.000    0.000    0.000 {method 'disable' of '_lsprof.Profiler' objects}\n",
      "        2    0.000    0.000    0.000    0.000 {method 'replace' of 'code' objects}\n",
      "\n",
      "\n"
     ]
    }
   ],
   "source": [
    "profiler = cProfile.Profile()\n",
    "profiler.enable()\n",
    "print(\"TEST\")\n",
    "profiler.disable()\n",
    "profiler.print_stats()"
   ]
  },
  {
   "cell_type": "code",
   "execution_count": null,
   "id": "95ce2aa5-a198-44b2-8840-f9bb41479689",
   "metadata": {},
   "outputs": [],
   "source": []
  }
 ],
 "metadata": {
  "kernelspec": {
   "display_name": "Python 3 (ipykernel)",
   "language": "python",
   "name": "python3"
  },
  "language_info": {
   "codemirror_mode": {
    "name": "ipython",
    "version": 3
   },
   "file_extension": ".py",
   "mimetype": "text/x-python",
   "name": "python",
   "nbconvert_exporter": "python",
   "pygments_lexer": "ipython3",
   "version": "3.9.12"
  }
 },
 "nbformat": 4,
 "nbformat_minor": 5
}
