{
 "cells": [
  {
   "cell_type": "code",
   "execution_count": 1,
   "id": "978d009c-0c6d-4898-a8d1-9b56656e67ee",
   "metadata": {},
   "outputs": [],
   "source": [
    "import PySide2\n",
    "from PySide2.QtWidgets import (\n",
    "    QMainWindow, QApplication, QVBoxLayout, QPushButton, QWidget, \n",
    ")\n",
    "import sys\n"
   ]
  },
  {
   "cell_type": "code",
   "execution_count": 4,
   "id": "7caa72a3-a6e6-4e55-9a7c-0e81af972148",
   "metadata": {},
   "outputs": [],
   "source": [
    "class MainWindow(QMainWindow):\n",
    "    def __init__(self):\n",
    "        super(MainWindow, self).__init__()\n",
    "        self.setWindowTitle(\"Window\")\n",
    "        self.setGeometry(500, 500, 500, 200)\n",
    "        \n",
    "        vlayout = QVBoxLayout()\n",
    "\n",
    "        self._btn_a = QPushButton(\"Button A\")\n",
    "        self._btn_a.clicked.connect(self.btn_a)\n",
    "        self._btn_a.setEnabled(True)\n",
    "        vlayout.addWidget(self._btn_a)\n",
    "        \n",
    "    def btn_a(self):\n",
    "        print(\"a\")\n"
   ]
  },
  {
   "cell_type": "code",
   "execution_count": null,
   "id": "9f70c32e-df7e-49df-a842-300ef7dd69b0",
   "metadata": {},
   "outputs": [],
   "source": [
    "if not QApplication.instance():\n",
    "    app = QApplication(sys.argv)\n",
    "else:\n",
    "    app = QApplication.instance()\n",
    "w = MainWindow()\n",
    "app.exec_()"
   ]
  },
  {
   "cell_type": "code",
   "execution_count": null,
   "id": "8925fcdb-e670-4234-a4d5-1c51388d5103",
   "metadata": {},
   "outputs": [],
   "source": [
    "# db.unlockProtectiveStop()"
   ]
  }
 ],
 "metadata": {
  "kernelspec": {
   "display_name": "Python 3 (ipykernel)",
   "language": "python",
   "name": "python3"
  },
  "language_info": {
   "codemirror_mode": {
    "name": "ipython",
    "version": 3
   },
   "file_extension": ".py",
   "mimetype": "text/x-python",
   "name": "python",
   "nbconvert_exporter": "python",
   "pygments_lexer": "ipython3",
   "version": "3.9.12"
  }
 },
 "nbformat": 4,
 "nbformat_minor": 5
}
