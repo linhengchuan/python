{
 "cells": [
  {
   "cell_type": "code",
   "execution_count": 11,
   "id": "978d009c-0c6d-4898-a8d1-9b56656e67ee",
   "metadata": {},
   "outputs": [],
   "source": [
    "import PySide2\n",
    "from PySide2.QtWidgets import (\n",
    "    QMainWindow, QApplication, QVBoxLayout, QPushButton, QWidget, \n",
    ")\n",
    "import sys"
   ]
  },
  {
   "cell_type": "code",
   "execution_count": 12,
   "id": "7caa72a3-a6e6-4e55-9a7c-0e81af972148",
   "metadata": {},
   "outputs": [],
   "source": [
    "class MainWindow(QMainWindow):\n",
    "    def __init__(self):\n",
    "        super(MainWindow, self).__init__()\n",
    "        self.setWindowTitle(\"Window\")\n",
    "        self.setGeometry(500, 500, 500, 200)\n",
    "        \n",
    "        vlayout = QVBoxLayout()\n",
    "\n",
    "        self._btn_a = QPushButton(\"Button A\")\n",
    "        self._btn_a.clicked.connect(self.btn_a)\n",
    "        self._btn_a.setEnabled(True)\n",
    "        self._btn_b = QPushButton(\"Button B\")\n",
    "        self._btn_b.clicked.connect(self.btn_b)\n",
    "        self._btn_b.setEnabled(True)\n",
    "        vlayout.addWidget(self._btn_a)\n",
    "        vlayout.addWidget(self._btn_b)\n",
    "                                  \n",
    "        widget = QWidget()\n",
    "        widget.setLayout(vlayout)\n",
    "        self.setCentralWidget(widget)\n",
    "        self.show()\n",
    "        \n",
    "    def btn_a(self):\n",
    "        print(\"a\")\n",
    "        \n",
    "    def btn_b(self):\n",
    "        print(\"b\")"
   ]
  },
  {
   "cell_type": "code",
   "execution_count": 13,
   "id": "9f70c32e-df7e-49df-a842-300ef7dd69b0",
   "metadata": {
    "tags": []
   },
   "outputs": [
    {
     "data": {
      "text/plain": [
       "0"
      ]
     },
     "execution_count": 13,
     "metadata": {},
     "output_type": "execute_result"
    }
   ],
   "source": [
    "if not QApplication.instance():\n",
    "    app = QApplication(sys.argv)\n",
    "else:\n",
    "    app = QApplication.instance()\n",
    "w = MainWindow()\n",
    "app.exec_()"
   ]
  },
  {
   "cell_type": "code",
   "execution_count": null,
   "id": "aeb73898-e99e-41b4-91cb-5a1cc1112fdc",
   "metadata": {},
   "outputs": [],
   "source": []
  }
 ],
 "metadata": {
  "kernelspec": {
   "display_name": "Python 3 (ipykernel)",
   "language": "python",
   "name": "python3"
  },
  "language_info": {
   "codemirror_mode": {
    "name": "ipython",
    "version": 3
   },
   "file_extension": ".py",
   "mimetype": "text/x-python",
   "name": "python",
   "nbconvert_exporter": "python",
   "pygments_lexer": "ipython3",
   "version": "3.9.12"
  }
 },
 "nbformat": 4,
 "nbformat_minor": 5
}
