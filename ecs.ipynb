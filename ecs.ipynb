{
 "cells": [
  {
   "cell_type": "markdown",
   "id": "af129e11-f307-4e81-a096-0fc274adb96a",
   "metadata": {},
   "source": [
    "\n",
    "# Entity Component System"
   ]
  },
  {
   "cell_type": "markdown",
   "id": "0b74cd77-f22f-4991-a609-4925f5245a7a",
   "metadata": {},
   "source": [
    "<h5> An entity represents one \"thing\" in a video game, a distinct object representing an actor in a simulated space, typically expressed as a unique integer value. The entity gains behavior through the changes in component states.\n",
    "<h5> Components are datatypes consisting of a unique behavior assigned to an entity. They are reusable modules that programmers attach to the entities, providing behavior, functionality, and appearance, forming an entity. The components listen to system events, then update their state.\n",
    "<h5> Systems iterate components to perform low-level functions like performing physics calculations or rendering graphics. Systems provide global scope, services, and management for component classes. It’s basically the logic that operates on the components. The system listens to outside events and publishes updates to the components."
   ]
  },
  {
   "cell_type": "code",
   "execution_count": 5,
   "id": "b74e0ab7-ec27-4fa6-a850-9cd224081b10",
   "metadata": {},
   "outputs": [],
   "source": [
    "import time"
   ]
  },
  {
   "cell_type": "code",
   "execution_count": 1,
   "id": "c5759d0a-35f7-4348-ac37-c4014d863bf8",
   "metadata": {
    "tags": []
   },
   "outputs": [],
   "source": [
    "class Entity:\n",
    "    def __init__(self, name):\n",
    "        self.name = name\n",
    "        self.components = {}\n",
    "\n",
    "    def add_component(self, component):\n",
    "        self.components[type(component).__name__] = component\n",
    "\n",
    "    def remove_component(self, component_class):\n",
    "        del self.components[component_class.__name__]\n",
    "\n",
    "    def get_component(self, component_class):\n",
    "        return self.components.get(component_class.__name__)"
   ]
  },
  {
   "cell_type": "code",
   "execution_count": 2,
   "id": "218b7641-81bf-4560-9ae9-dfc73db8c919",
   "metadata": {},
   "outputs": [],
   "source": [
    "class Position:\n",
    "    def __init__(self, x, y):\n",
    "        self.x = x\n",
    "        self.y = y\n",
    "\n",
    "class Sprite:\n",
    "    def __init__(self, image_path):\n",
    "        self.image_path = image_path"
   ]
  },
  {
   "cell_type": "code",
   "execution_count": 3,
   "id": "c736aefd-e89c-4e4a-b1d5-22b222e19100",
   "metadata": {},
   "outputs": [],
   "source": [
    "class MovementSystem:\n",
    "    def update(self, entities):\n",
    "        for entity in entities:\n",
    "            position = entity.get_component(Position)\n",
    "            if position:\n",
    "                position.x += 1\n",
    "                position.y += 1\n",
    "\n",
    "class RenderingSystem:\n",
    "    def update(self, entities):\n",
    "        for entity in entities:\n",
    "            position = entity.get_component(Position)\n",
    "            sprite = entity.get_component(Sprite)\n",
    "            if position and sprite:\n",
    "                print(f\"Rendering {sprite.image_path} at ({position.x}, {position.y})\")\n"
   ]
  },
  {
   "cell_type": "code",
   "execution_count": 8,
   "id": "af860796-a8ea-4829-b5f5-84b50b11e955",
   "metadata": {},
   "outputs": [
    {
     "name": "stdout",
     "output_type": "stream",
     "text": [
      "Rendering player.png at (1, 1)\n",
      "Rendering enemy.png at (11, 11)\n",
      "Rendering player.png at (2, 2)\n",
      "Rendering enemy.png at (12, 12)\n",
      "Rendering player.png at (3, 3)\n",
      "Rendering enemy.png at (13, 13)\n",
      "Rendering player.png at (4, 4)\n",
      "Rendering enemy.png at (14, 14)\n"
     ]
    },
    {
     "ename": "KeyboardInterrupt",
     "evalue": "",
     "output_type": "error",
     "traceback": [
      "\u001b[1;31m---------------------------------------------------------------------------\u001b[0m",
      "\u001b[1;31mKeyboardInterrupt\u001b[0m                         Traceback (most recent call last)",
      "Input \u001b[1;32mIn [8]\u001b[0m, in \u001b[0;36m<cell line: 16>\u001b[1;34m()\u001b[0m\n\u001b[0;32m     16\u001b[0m movement_system\u001b[38;5;241m.\u001b[39mupdate(entities)\n\u001b[0;32m     17\u001b[0m rendering_system\u001b[38;5;241m.\u001b[39mupdate(entities)\n\u001b[1;32m---> 19\u001b[0m \u001b[43mtime\u001b[49m\u001b[38;5;241;43m.\u001b[39;49m\u001b[43msleep\u001b[49m\u001b[43m(\u001b[49m\u001b[38;5;241;43m1\u001b[39;49m\u001b[43m)\u001b[49m\n",
      "\u001b[1;31mKeyboardInterrupt\u001b[0m: "
     ]
    }
   ],
   "source": [
    "# Game loop\n",
    "player = Entity(\"Player\")\n",
    "player.add_component(Position(0, 0))\n",
    "player.add_component(Sprite(\"player.png\"))\n",
    "\n",
    "enemy = Entity(\"Enemy\")\n",
    "enemy.add_component(Position(10, 10))\n",
    "enemy.add_component(Sprite(\"enemy.png\"))\n",
    "\n",
    "entities = [player, enemy]\n",
    "movement_system = MovementSystem()\n",
    "rendering_system = RenderingSystem()\n",
    "\n",
    "while True:\n",
    "    # Update systems\n",
    "    movement_system.update(entities)\n",
    "    rendering_system.update(entities)\n",
    "\n",
    "    time.sleep(1)"
   ]
  },
  {
   "cell_type": "code",
   "execution_count": null,
   "id": "412eb2f7-ccb6-4b40-bd37-a796169a780f",
   "metadata": {},
   "outputs": [],
   "source": []
  },
  {
   "cell_type": "code",
   "execution_count": null,
   "id": "112a9046-ee16-4b6a-9d40-ace27d4dcfe9",
   "metadata": {},
   "outputs": [],
   "source": []
  },
  {
   "cell_type": "code",
   "execution_count": null,
   "id": "97941712-59e9-454d-81f7-5b93e7e4ff2c",
   "metadata": {},
   "outputs": [],
   "source": []
  },
  {
   "cell_type": "code",
   "execution_count": null,
   "id": "f413a8c2-881d-446c-bbce-087a20b50e2f",
   "metadata": {},
   "outputs": [],
   "source": []
  },
  {
   "cell_type": "code",
   "execution_count": null,
   "id": "78bde44d-80d7-4e9d-a134-2a9055fa08b3",
   "metadata": {},
   "outputs": [],
   "source": []
  },
  {
   "cell_type": "code",
   "execution_count": null,
   "id": "ad43831b-bb9a-4d4e-beaf-453adad6a1ee",
   "metadata": {},
   "outputs": [],
   "source": []
  },
  {
   "cell_type": "code",
   "execution_count": null,
   "id": "c0b06cb7-485e-4167-ac68-0d0710d3e5b5",
   "metadata": {},
   "outputs": [],
   "source": []
  },
  {
   "cell_type": "code",
   "execution_count": null,
   "id": "5545b862-5990-447c-a9dd-2996d4a96f9b",
   "metadata": {},
   "outputs": [],
   "source": []
  },
  {
   "cell_type": "code",
   "execution_count": null,
   "id": "0e86a15c-be82-4de2-94c6-f95ff04c2ed4",
   "metadata": {},
   "outputs": [],
   "source": []
  },
  {
   "cell_type": "code",
   "execution_count": null,
   "id": "5f8f84ff-ee90-4d4a-9b39-a253a8240ef8",
   "metadata": {},
   "outputs": [],
   "source": []
  }
 ],
 "metadata": {
  "kernelspec": {
   "display_name": "Python 3 (ipykernel)",
   "language": "python",
   "name": "python3"
  },
  "language_info": {
   "codemirror_mode": {
    "name": "ipython",
    "version": 3
   },
   "file_extension": ".py",
   "mimetype": "text/x-python",
   "name": "python",
   "nbconvert_exporter": "python",
   "pygments_lexer": "ipython3",
   "version": "3.9.12"
  }
 },
 "nbformat": 4,
 "nbformat_minor": 5
}
