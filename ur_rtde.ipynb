{
 "cells": [
  {
   "cell_type": "code",
   "execution_count": 9,
   "id": "48506225-cac8-4f90-a03f-fda332763201",
   "metadata": {},
   "outputs": [
    {
     "name": "stdout",
     "output_type": "stream",
     "text": [
      "Collecting ur-rtde==1.4.9"
     ]
    },
    {
     "name": "stderr",
     "output_type": "stream",
     "text": [
      "ERROR: Could not install packages due to an OSError: [WinError 5] Access is denied: 'C:\\\\Users\\\\linhe\\\\AppData\\\\Local\\\\Temp\\\\pip-uninstall-wx9r881n\\\\dashboard_client.cp39-win_amd64.pyd'\n",
      "Consider using the `--user` option or check the permissions.\n",
      "\n"
     ]
    },
    {
     "name": "stdout",
     "output_type": "stream",
     "text": [
      "\n",
      "  Downloading ur_rtde-1.4.9-cp39-cp39-win_amd64.whl (2.1 MB)\n",
      "     ---------------------------------------- 2.1/2.1 MB 5.3 MB/s eta 0:00:00\n",
      "Installing collected packages: ur-rtde\n",
      "  Attempting uninstall: ur-rtde\n",
      "    Found existing installation: ur-rtde 1.5.1\n",
      "    Uninstalling ur-rtde-1.5.1:\n",
      "      Successfully uninstalled ur-rtde-1.5.1\n"
     ]
    }
   ],
   "source": [
    "!pip install ur-rtde==1.4.9"
   ]
  },
  {
   "cell_type": "code",
   "execution_count": 1,
   "id": "73bcff8b-2076-4636-ab78-7ad1c82b70f0",
   "metadata": {},
   "outputs": [],
   "source": [
    "import socket\n",
    "import struct\n",
    "import time \n",
    "\n",
    "class UrIO:\n",
    "    def __init__(self, ip, port=30001):\n",
    "        self._socket = None\n",
    "        self._ip = ip\n",
    "        self._port = port\n",
    "    \n",
    "    def connect(self):\n",
    "        TIMEOUT = 1 # seconds\n",
    "        print (\"Attempting to connect to %s on port %s\" % (self._ip, self._port))\n",
    "        try:\n",
    "            self._socket = socket.socket(socket.AF_INET, socket.SOCK_STREAM)\n",
    "            self._socket.settimeout(TIMEOUT)\n",
    "            self._socket.connect((self._ip, self._port))\n",
    "            print (\"Connected to %s on port %s\" % (self._ip, self._port))\n",
    "        except socket.error as error:\n",
    "            print(\"Connection to %s on port %s failed: %s\" % (self._ip, self._port, error))\n",
    "        \n",
    "    def send_URScript(self, msg, recno = 1116):\n",
    "        if not self._socket is None:\n",
    "            try:\n",
    "                self._socket.send(msg)\n",
    "                data = self._socket.recv(recno)\n",
    "                return True, data\n",
    "            except:\n",
    "                print(\"Error sending.. \\n\")\n",
    "                return False, \"Error sending data\"\n",
    "    \n",
    "    def set_digital_out(self, n, state) -> bool:\n",
    "        if (n >= 0 and n <= 9) and (state in [True, False]):\n",
    "            msgs = f'sec set_std_DOUT():\\n\\tset_digital_out({n}, {state})\\nend\\n'\n",
    "            msgb = msgs.encode()\n",
    "            res, data = self.send_URScript(msgb)\n",
    "            # print(f\"res:{res} data:{data}\")\n",
    "            return res\n"
   ]
  },
  {
   "cell_type": "code",
   "execution_count": 1,
   "id": "20a45e28-cd6a-4064-9110-d5bc483de7fa",
   "metadata": {},
   "outputs": [],
   "source": [
    "import numpy as np\n",
    "from dashboard_client import DashboardClient\n",
    "from rtde_io import RTDEIOInterface as RTDEIO\n",
    "from rtde_receive import RTDEReceiveInterface as RTDEReceive\n",
    "from rtde_control import RTDEControlInterface as RTDEControl\n",
    "\n",
    "ip = \"192.168.1.30\"\n"
   ]
  },
  {
   "cell_type": "code",
   "execution_count": 3,
   "id": "87ecbf41-997a-461b-8a36-92be29ebd209",
   "metadata": {},
   "outputs": [],
   "source": [
    "class URRobot():\n",
    "    def __init__(self):\n",
    "        self.rtde_db = None\n",
    "        self.rtde_rec = None\n",
    "        self.rtde_ctrl = None\n",
    "        self.rtde_io = None\n",
    "        \n",
    "    def connect(self):\n",
    "        db_status = None\n",
    "        rec_status = None\n",
    "        ctrl_status = None\n",
    "        io_status = None\n",
    "        db_status = self.connect_db()\n",
    "        if db_status:\n",
    "            rec_status = self.connect_rec()\n",
    "            if rec_status:\n",
    "                ctrl_status = self.connect_ctrl()\n",
    "                # if ctrl_status:\n",
    "                #     io_status = self.connect_io()\n",
    "        print(f\"db: {db_status} rec: {rec_status} ctrl: {ctrl_status} io: \")\n",
    "            \n",
    "    def connect_db(self):\n",
    "        self.rtde_db = DashboardClient(ip)\n",
    "        try:\n",
    "            self.rtde_db.connect()\n",
    "        except:\n",
    "            return False\n",
    "        if self.rtde_db.isConnected():\n",
    "            print(\"db is connected.\")\n",
    "            return True\n",
    "        else:\n",
    "            print(\"db is not connected.\")\n",
    "            return False\n",
    "    \n",
    "    def connect_rec(self):\n",
    "        try:\n",
    "            self.rtde_rec = RTDEReceive(ip)\n",
    "            return True\n",
    "        except Exception as e:\n",
    "            print(f\"fail {e}\")\n",
    "            return False\n",
    "\n",
    "    \n",
    "    def connect_ctrl(self):\n",
    "        try:\n",
    "            RTDEControl(ip).disconnect()\n",
    "            self.rtde_ctrl = RTDEControl(ip)\n",
    "            return True\n",
    "        except:\n",
    "            print(f\"fail ctrl\")\n",
    "            return False\n",
    "\n",
    "        \n",
    "    def connect_io(self):\n",
    "        try:\n",
    "            print(\"connect2io\")\n",
    "            self.rtde_io = UrIO(ip)\n",
    "            self.rtde_io.connect()\n",
    "            return True\n",
    "        except Exception as e:\n",
    "            print(f\"fail {e}\")\n",
    "\n",
    "\n",
    "    def get_status(self):\n",
    "        dic_robot_status = {\n",
    "            0: \"Is power on\",\n",
    "            1: \"Is program running\",\n",
    "            2: \"Is teach button pressed\",\n",
    "            3: \"Is power button pressed\",\n",
    "            7: \"Freedrive\"\n",
    "        }\n",
    "        robot_status = self.rtde_rec.getRobotStatus()\n",
    "        dic_safety_bit = {\n",
    "            0: \"Is normal mode\",\n",
    "            1: \"Is reduced mode\",\n",
    "            2: \"Is protective stopped\",\n",
    "            3: \"Is recovery mode\",\n",
    "            4: \"Is safeguard stopped\",\n",
    "            5: \"Is system emergency stopped\",\n",
    "            6: \"Is robot emergency stopped\",\n",
    "            7: \"Is emergency stopped\",\n",
    "            8: \"Is violation\",\n",
    "            9: \"Is fault\",\n",
    "            10: \"Is stopped due to safety\",\n",
    "            1216: \"Emergency\",\n",
    "        }\n",
    "        safety_status_bit = self.rtde_rec.getSafetyStatusBits()\n",
    "        dic_mode_bit={\n",
    "            -1: \"ROBOT_MODE_NO_CONTROLLER\",\n",
    "            0: \"ROBOT_MODE_DISCONNECTED\",\n",
    "            1: \"ROBOT_MODE_CONFIRM_SAFETY\",\n",
    "            2: \"ROBOT_MODE_BOOTING\",\n",
    "            3: \"ROBOT_MODE_POWER_OFF\",\n",
    "            4: \"ROBOT_MODE_POWER_ON\",\n",
    "            5: \"ROBOT_MODE_IDLE\",\n",
    "            6: \"ROBOT_MODE_BACKDRIVE\",\n",
    "            7: \"ROBOT_MODE_RUNNING\",\n",
    "            8: \"ROBOT_MODE_UPDATING_FIRMWAR\",\n",
    "        }\n",
    "        robot_mode_bit = self.rtde_rec.getRobotMode()\n",
    "        return [robot_status, safety_status_bit, robot_mode_bit]"
   ]
  },
  {
   "cell_type": "code",
   "execution_count": 4,
   "id": "fd5e255a-8e88-42d9-b861-0ab96c87d927",
   "metadata": {},
   "outputs": [],
   "source": [
    "a = URRobot()"
   ]
  },
  {
   "cell_type": "markdown",
   "id": "38875210-0410-4cf0-aa62-f9069c53aabf",
   "metadata": {},
   "source": [
    "# DB"
   ]
  },
  {
   "cell_type": "code",
   "execution_count": 74,
   "id": "01f9816a-af73-4ed4-a3be-adb7430cef09",
   "metadata": {},
   "outputs": [
    {
     "data": {
      "text/plain": [
       "False"
      ]
     },
     "execution_count": 74,
     "metadata": {},
     "output_type": "execute_result"
    }
   ],
   "source": [
    "a.connect_db()"
   ]
  },
  {
   "cell_type": "code",
   "execution_count": 52,
   "id": "2414222b-231b-4333-957e-cdafe1b5c3fc",
   "metadata": {},
   "outputs": [],
   "source": [
    "a.rtde_db.unlockProtectiveStop()"
   ]
  },
  {
   "cell_type": "code",
   "execution_count": 8,
   "id": "f46fa088-97a3-4466-b18b-4ba3a11913bc",
   "metadata": {},
   "outputs": [
    {
     "name": "stdout",
     "output_type": "stream",
     "text": [
      "done\n"
     ]
    }
   ],
   "source": [
    "try:\n",
    "    a.rtde_db.closeSafetyPopup()\n",
    "    a.rtde_db.restartSafety()\n",
    "    print(\"done\")\n",
    "except:\n",
    "    print(\"reconnect db\")"
   ]
  },
  {
   "cell_type": "code",
   "execution_count": 20,
   "id": "92e89d54-d491-4ca4-a832-927baff3a5aa",
   "metadata": {},
   "outputs": [
    {
     "name": "stdout",
     "output_type": "stream",
     "text": [
      "reconnect db\n"
     ]
    }
   ],
   "source": [
    "try:\n",
    "    a.rtde_db.powerOn()\n",
    "    a.rtde_db.brakeRelease()\n",
    "    print(\"done\")\n",
    "except:\n",
    "    print(\"reconnect db\")"
   ]
  },
  {
   "cell_type": "markdown",
   "id": "da73d26c-c6a1-483d-9946-da264af953a8",
   "metadata": {},
   "source": [
    "# RECEIVE"
   ]
  },
  {
   "cell_type": "code",
   "execution_count": 14,
   "id": "7b4a7bee-2bd3-46b3-a3af-2dcf0ebd7238",
   "metadata": {},
   "outputs": [
    {
     "data": {
      "text/plain": [
       "True"
      ]
     },
     "execution_count": 14,
     "metadata": {},
     "output_type": "execute_result"
    }
   ],
   "source": [
    "a.connect_rec()"
   ]
  },
  {
   "cell_type": "code",
   "execution_count": 61,
   "id": "eb743c4a-00e8-45f5-a2b4-5b2aad86a0f4",
   "metadata": {},
   "outputs": [
    {
     "data": {
      "text/plain": [
       "[-1.55931264558901,\n",
       " -1.1305913788131257,\n",
       " -2.6331331729888916,\n",
       " -0.1187775892070313,\n",
       " -1.609955135975973,\n",
       " 0.8753644824028015]"
      ]
     },
     "execution_count": 61,
     "metadata": {},
     "output_type": "execute_result"
    }
   ],
   "source": [
    "a.rtde_rec.getActualQ()"
   ]
  },
  {
   "cell_type": "code",
   "execution_count": 15,
   "id": "c15815be-f13d-4cb1-b02f-3ab92baeef85",
   "metadata": {},
   "outputs": [
    {
     "data": {
      "text/plain": [
       "[0, 1536, 3]"
      ]
     },
     "execution_count": 15,
     "metadata": {},
     "output_type": "execute_result"
    }
   ],
   "source": [
    "a.get_status()"
   ]
  }
 ],
 "metadata": {
  "kernelspec": {
   "display_name": "Python 3 (ipykernel)",
   "language": "python",
   "name": "python3"
  },
  "language_info": {
   "codemirror_mode": {
    "name": "ipython",
    "version": 3
   },
   "file_extension": ".py",
   "mimetype": "text/x-python",
   "name": "python",
   "nbconvert_exporter": "python",
   "pygments_lexer": "ipython3",
   "version": "3.9.12"
  }
 },
 "nbformat": 4,
 "nbformat_minor": 5
}
