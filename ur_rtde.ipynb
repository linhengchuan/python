{
 "cells": [
  {
   "cell_type": "code",
   "execution_count": 9,
   "id": "48506225-cac8-4f90-a03f-fda332763201",
   "metadata": {},
   "outputs": [
    {
     "name": "stdout",
     "output_type": "stream",
     "text": [
      "Collecting ur-rtde==1.4.9"
     ]
    },
    {
     "name": "stderr",
     "output_type": "stream",
     "text": [
      "ERROR: Could not install packages due to an OSError: [WinError 5] Access is denied: 'C:\\\\Users\\\\linhe\\\\AppData\\\\Local\\\\Temp\\\\pip-uninstall-wx9r881n\\\\dashboard_client.cp39-win_amd64.pyd'\n",
      "Consider using the `--user` option or check the permissions.\n",
      "\n"
     ]
    },
    {
     "name": "stdout",
     "output_type": "stream",
     "text": [
      "\n",
      "  Downloading ur_rtde-1.4.9-cp39-cp39-win_amd64.whl (2.1 MB)\n",
      "     ---------------------------------------- 2.1/2.1 MB 5.3 MB/s eta 0:00:00\n",
      "Installing collected packages: ur-rtde\n",
      "  Attempting uninstall: ur-rtde\n",
      "    Found existing installation: ur-rtde 1.5.1\n",
      "    Uninstalling ur-rtde-1.5.1:\n",
      "      Successfully uninstalled ur-rtde-1.5.1\n"
     ]
    }
   ],
   "source": [
    "!pip install ur-rtde==1.4.9"
   ]
  },
  {
   "cell_type": "code",
   "execution_count": 1,
   "id": "73bcff8b-2076-4636-ab78-7ad1c82b70f0",
   "metadata": {},
   "outputs": [],
   "source": [
    "import socket\n",
    "import struct\n",
    "import time \n",
    "\n",
    "class UrIO:\n",
    "    def __init__(self, ip, port=30001):\n",
    "        self._socket = None\n",
    "        self._ip = ip\n",
    "        self._port = port\n",
    "    \n",
    "    def connect(self):\n",
    "        TIMEOUT = 1 # seconds\n",
    "        print (\"Attempting to connect to %s on port %s\" % (self._ip, self._port))\n",
    "        try:\n",
    "            self._socket = socket.socket(socket.AF_INET, socket.SOCK_STREAM)\n",
    "            self._socket.settimeout(TIMEOUT)\n",
    "            self._socket.connect((self._ip, self._port))\n",
    "            print (\"Connected to %s on port %s\" % (self._ip, self._port))\n",
    "        except socket.error as error:\n",
    "            print(\"Connection to %s on port %s failed: %s\" % (self._ip, self._port, error))\n",
    "        \n",
    "    def send_URScript(self, msg, recno = 1116):\n",
    "        if not self._socket is None:\n",
    "            try:\n",
    "                self._socket.send(msg)\n",
    "                data = self._socket.recv(recno)\n",
    "                return True, data\n",
    "            except:\n",
    "                print(\"Error sending.. \\n\")\n",
    "                return False, \"Error sending data\"\n",
    "    \n",
    "    def set_digital_out(self, n, state) -> bool:\n",
    "        if (n >= 0 and n <= 9) and (state in [True, False]):\n",
    "            msgs = f'sec set_std_DOUT():\\n\\tset_digital_out({n}, {state})\\nend\\n'\n",
    "            msgb = msgs.encode()\n",
    "            res, data = self.send_URScript(msgb)\n",
    "            # print(f\"res:{res} data:{data}\")\n",
    "            return res\n"
   ]
  },
  {
   "cell_type": "code",
   "execution_count": 2,
   "id": "20a45e28-cd6a-4064-9110-d5bc483de7fa",
   "metadata": {},
   "outputs": [],
   "source": [
    "import numpy as np\n",
    "from dashboard_client import DashboardClient\n",
    "from rtde_io import RTDEIOInterface as RTDEIO\n",
    "from rtde_receive import RTDEReceiveInterface as RTDEReceive\n",
    "from rtde_control import RTDEControlInterface as RTDEControl\n",
    "\n",
    "ip = \"192.168.1.30\"\n",
    "\n",
    "class Singleton(type):\n",
    "    _instances = {}\n",
    "    def __call__(cls, *args, **kwargs):\n",
    "        if cls not in cls._instances:\n",
    "            cls._instances[cls] = super(Singleton, cls).__call__(*args, **kwargs)\n",
    "        return cls._instances[cls]"
   ]
  },
  {
   "cell_type": "code",
   "execution_count": 3,
   "id": "87ecbf41-997a-461b-8a36-92be29ebd209",
   "metadata": {},
   "outputs": [],
   "source": [
    "class URRobot():\n",
    "    def __init__(self):\n",
    "        self.rtde_db = None\n",
    "        self.rtde_rec = None\n",
    "        self.rtde_ctrl = None\n",
    "        self.rtde_io = None\n",
    "        \n",
    "    def connect(self):\n",
    "        db_status = None\n",
    "        rec_status = None\n",
    "        ctrl_status = None\n",
    "        io_status = None\n",
    "        db_status = self.connect_db()\n",
    "        if db_status:\n",
    "            rec_status = self.connect_rec()\n",
    "            if rec_status:\n",
    "                ctrl_status = self.connect_ctrl()\n",
    "                # if ctrl_status:\n",
    "                #     io_status = self.connect_io()\n",
    "        print(f\"db: {db_status} rec: {rec_status} ctrl: {ctrl_status} io: \")\n",
    "            \n",
    "    def connect_db(self):\n",
    "        self.rtde_db = DashboardClient(ip)\n",
    "        try:\n",
    "            self.rtde_db.connect()\n",
    "        except:\n",
    "            return False\n",
    "        if self.rtde_db.isConnected():\n",
    "            print(\"db is connected.\")\n",
    "            return True\n",
    "        else:\n",
    "            print(\"db is not connected.\")\n",
    "            return False\n",
    "    \n",
    "    def connect_rec(self):\n",
    "        try:\n",
    "            self.rtde_rec = RTDEReceive(ip)\n",
    "            return True\n",
    "        except Exception as e:\n",
    "            print(f\"fail {e}\")\n",
    "            return False\n",
    "\n",
    "    \n",
    "    def connect_ctrl(self):\n",
    "        try:\n",
    "            RTDEControl(ip).disconnect()\n",
    "            self.rtde_ctrl = RTDEControl(ip)\n",
    "            return True\n",
    "        except:\n",
    "            print(f\"fail ctrl\")\n",
    "            return False\n",
    "\n",
    "        \n",
    "    def connect_io(self):\n",
    "        try:\n",
    "            print(\"connect2io\")\n",
    "            self.rtde_io = UrIO(ip)\n",
    "            self.rtde_io.connect()\n",
    "            return True\n",
    "        except Exception as e:\n",
    "            print(f\"fail {e}\")\n",
    "\n",
    "\n",
    "    def get_status(self):\n",
    "        dic_robot_status = {\n",
    "            0: \"Is power on\",\n",
    "            1: \"Is program running\",\n",
    "            2: \"Is teach button pressed\",\n",
    "            3: \"Is power button pressed\",\n",
    "            7: \"Freedrive\"\n",
    "        }\n",
    "        robot_status = self.rtde_rec.getRobotStatus()\n",
    "        dic_safety_bit = {\n",
    "            0: \"Is normal mode\",\n",
    "            1: \"Is reduced mode\",\n",
    "            2: \"Is protective stopped\",\n",
    "            3: \"Is recovery mode\",\n",
    "            4: \"Is safeguard stopped\",\n",
    "            5: \"Is system emergency stopped\",\n",
    "            6: \"Is robot emergency stopped\",\n",
    "            7: \"Is emergency stopped\",\n",
    "            8: \"Is violation\",\n",
    "            9: \"Is fault\",\n",
    "            10: \"Is stopped due to safety\",\n",
    "            1216: \"Emergency\",\n",
    "        }\n",
    "        safety_status_bit = self.rtde_rec.getSafetyStatusBits()\n",
    "        dic_mode_bit={\n",
    "            -1: \"ROBOT_MODE_NO_CONTROLLER\",\n",
    "            0: \"ROBOT_MODE_DISCONNECTED\",\n",
    "            1: \"ROBOT_MODE_CONFIRM_SAFETY\",\n",
    "            2: \"ROBOT_MODE_BOOTING\",\n",
    "            3: \"ROBOT_MODE_POWER_OFF\",\n",
    "            4: \"ROBOT_MODE_POWER_ON\",\n",
    "            5: \"ROBOT_MODE_IDLE\",\n",
    "            6: \"ROBOT_MODE_BACKDRIVE\",\n",
    "            7: \"ROBOT_MODE_RUNNING\",\n",
    "            8: \"ROBOT_MODE_UPDATING_FIRMWAR\",\n",
    "        }\n",
    "        robot_mode_bit = self.rtde_rec.getRobotMode()\n",
    "        return [robot_status, safety_status_bit, robot_mode_bit]"
   ]
  },
  {
   "cell_type": "code",
   "execution_count": 4,
   "id": "fd5e255a-8e88-42d9-b861-0ab96c87d927",
   "metadata": {},
   "outputs": [],
   "source": [
    "a = URRobot()"
   ]
  },
  {
   "cell_type": "markdown",
   "id": "38875210-0410-4cf0-aa62-f9069c53aabf",
   "metadata": {},
   "source": [
    "# DB"
   ]
  },
  {
   "cell_type": "code",
   "execution_count": 74,
   "id": "01f9816a-af73-4ed4-a3be-adb7430cef09",
   "metadata": {},
   "outputs": [
    {
     "data": {
      "text/plain": [
       "False"
      ]
     },
     "execution_count": 74,
     "metadata": {},
     "output_type": "execute_result"
    }
   ],
   "source": [
    "a.connect_db()"
   ]
  },
  {
   "cell_type": "code",
   "execution_count": 52,
   "id": "2414222b-231b-4333-957e-cdafe1b5c3fc",
   "metadata": {},
   "outputs": [],
   "source": [
    "a.rtde_db.unlockProtectiveStop()"
   ]
  },
  {
   "cell_type": "code",
   "execution_count": 8,
   "id": "f46fa088-97a3-4466-b18b-4ba3a11913bc",
   "metadata": {},
   "outputs": [
    {
     "name": "stdout",
     "output_type": "stream",
     "text": [
      "done\n"
     ]
    }
   ],
   "source": [
    "try:\n",
    "    a.rtde_db.closeSafetyPopup()\n",
    "    a.rtde_db.restartSafety()\n",
    "    print(\"done\")\n",
    "except:\n",
    "    print(\"reconnect db\")"
   ]
  },
  {
   "cell_type": "code",
   "execution_count": 20,
   "id": "92e89d54-d491-4ca4-a832-927baff3a5aa",
   "metadata": {},
   "outputs": [
    {
     "name": "stdout",
     "output_type": "stream",
     "text": [
      "reconnect db\n"
     ]
    }
   ],
   "source": [
    "try:\n",
    "    a.rtde_db.powerOn()\n",
    "    a.rtde_db.brakeRelease()\n",
    "    print(\"done\")\n",
    "except:\n",
    "    print(\"reconnect db\")"
   ]
  },
  {
   "cell_type": "markdown",
   "id": "da73d26c-c6a1-483d-9946-da264af953a8",
   "metadata": {},
   "source": [
    "# RECEIVE"
   ]
  },
  {
   "cell_type": "code",
   "execution_count": 14,
   "id": "7b4a7bee-2bd3-46b3-a3af-2dcf0ebd7238",
   "metadata": {},
   "outputs": [
    {
     "data": {
      "text/plain": [
       "True"
      ]
     },
     "execution_count": 14,
     "metadata": {},
     "output_type": "execute_result"
    }
   ],
   "source": [
    "a.connect_rec()"
   ]
  },
  {
   "cell_type": "code",
   "execution_count": 61,
   "id": "eb743c4a-00e8-45f5-a2b4-5b2aad86a0f4",
   "metadata": {},
   "outputs": [
    {
     "data": {
      "text/plain": [
       "[-1.55931264558901,\n",
       " -1.1305913788131257,\n",
       " -2.6331331729888916,\n",
       " -0.1187775892070313,\n",
       " -1.609955135975973,\n",
       " 0.8753644824028015]"
      ]
     },
     "execution_count": 61,
     "metadata": {},
     "output_type": "execute_result"
    }
   ],
   "source": [
    "a.rtde_rec.getActualQ()"
   ]
  },
  {
   "cell_type": "code",
   "execution_count": 15,
   "id": "c15815be-f13d-4cb1-b02f-3ab92baeef85",
   "metadata": {},
   "outputs": [
    {
     "data": {
      "text/plain": [
       "[0, 1536, 3]"
      ]
     },
     "execution_count": 15,
     "metadata": {},
     "output_type": "execute_result"
    }
   ],
   "source": [
    "a.get_status()"
   ]
  },
  {
   "cell_type": "markdown",
   "id": "0211fc36-d3d6-44e1-850f-c83b4a9cf83c",
   "metadata": {},
   "source": [
    "# Control"
   ]
  },
  {
   "cell_type": "code",
   "execution_count": 1,
   "id": "248bd828-7a92-416c-9ffe-7354b3619ec4",
   "metadata": {},
   "outputs": [
    {
     "ename": "NameError",
     "evalue": "name 'a' is not defined",
     "output_type": "error",
     "traceback": [
      "\u001b[1;31m---------------------------------------------------------------------------\u001b[0m",
      "\u001b[1;31mNameError\u001b[0m                                 Traceback (most recent call last)",
      "Input \u001b[1;32mIn [1]\u001b[0m, in \u001b[0;36m<cell line: 1>\u001b[1;34m()\u001b[0m\n\u001b[1;32m----> 1\u001b[0m \u001b[43ma\u001b[49m\u001b[38;5;241m.\u001b[39mrtde_ctrl\u001b[38;5;241m.\u001b[39mdisconnect()\n",
      "\u001b[1;31mNameError\u001b[0m: name 'a' is not defined"
     ]
    }
   ],
   "source": [
    "a.rtde_ctrl.disconnect()"
   ]
  },
  {
   "cell_type": "code",
   "execution_count": 83,
   "id": "0cfd19d9-7754-4c16-88c6-74972126050a",
   "metadata": {},
   "outputs": [
    {
     "ename": "RuntimeError",
     "evalue": "ur_rtde: Failed to start control script, before timeout of 5 seconds",
     "output_type": "error",
     "traceback": [
      "\u001b[1;31m---------------------------------------------------------------------------\u001b[0m",
      "\u001b[1;31mRuntimeError\u001b[0m                              Traceback (most recent call last)",
      "Input \u001b[1;32mIn [83]\u001b[0m, in \u001b[0;36m<cell line: 1>\u001b[1;34m()\u001b[0m\n\u001b[1;32m----> 1\u001b[0m \u001b[43mRTDEControl\u001b[49m\u001b[43m(\u001b[49m\u001b[43mip\u001b[49m\u001b[43m)\u001b[49m\n",
      "\u001b[1;31mRuntimeError\u001b[0m: ur_rtde: Failed to start control script, before timeout of 5 seconds"
     ]
    }
   ],
   "source": [
    "RTDEControl(ip)"
   ]
  },
  {
   "cell_type": "code",
   "execution_count": 80,
   "id": "5fa75efc-7fe5-409f-b1eb-21c3865915e3",
   "metadata": {},
   "outputs": [
    {
     "ename": "RuntimeError",
     "evalue": "One of the RTDE input registers are already in use! Currently you must disable the EtherNet/IP adapter, PROFINET or any MODBUS unit configured on the robot. This might change in the future.",
     "output_type": "error",
     "traceback": [
      "\u001b[1;31m---------------------------------------------------------------------------\u001b[0m",
      "\u001b[1;31mRuntimeError\u001b[0m                              Traceback (most recent call last)",
      "Input \u001b[1;32mIn [80]\u001b[0m, in \u001b[0;36m<cell line: 1>\u001b[1;34m()\u001b[0m\n\u001b[1;32m----> 1\u001b[0m \u001b[43mRTDEControl\u001b[49m\u001b[43m(\u001b[49m\u001b[43mip\u001b[49m\u001b[43m)\u001b[49m\u001b[38;5;241m.\u001b[39mdisconnect()\n",
      "\u001b[1;31mRuntimeError\u001b[0m: One of the RTDE input registers are already in use! Currently you must disable the EtherNet/IP adapter, PROFINET or any MODBUS unit configured on the robot. This might change in the future."
     ]
    }
   ],
   "source": [
    "RTDEControl(ip).disconnect()\n",
    "# RTDEControl(ip)"
   ]
  },
  {
   "cell_type": "code",
   "execution_count": 24,
   "id": "5d8985c1-e0a1-4b80-81c4-24d59a1d5314",
   "metadata": {},
   "outputs": [
    {
     "name": "stdout",
     "output_type": "stream",
     "text": [
      "fail ctrl\n"
     ]
    },
    {
     "data": {
      "text/plain": [
       "False"
      ]
     },
     "execution_count": 24,
     "metadata": {},
     "output_type": "execute_result"
    }
   ],
   "source": [
    "a.connect_ctrl()"
   ]
  },
  {
   "cell_type": "code",
   "execution_count": 22,
   "id": "8fd4ec6d-0d4d-45bb-a34f-aa4a31d5049f",
   "metadata": {},
   "outputs": [],
   "source": [
    "a.rtde_ctrl.disconnect()\n",
    "# a.connect_ctrl()"
   ]
  },
  {
   "cell_type": "code",
   "execution_count": 19,
   "id": "8391c94c-9384-4d3a-86f2-9d885535ab91",
   "metadata": {},
   "outputs": [
    {
     "data": {
      "text/plain": [
       "True"
      ]
     },
     "execution_count": 19,
     "metadata": {},
     "output_type": "execute_result"
    }
   ],
   "source": [
    "a.rtde_ctrl.isConnected()"
   ]
  },
  {
   "cell_type": "code",
   "execution_count": 13,
   "id": "34c99793-a534-478c-9f4f-5826cffe303b",
   "metadata": {},
   "outputs": [
    {
     "ename": "AttributeError",
     "evalue": "'NoneType' object has no attribute 'getRobotStatus'",
     "output_type": "error",
     "traceback": [
      "\u001b[1;31m---------------------------------------------------------------------------\u001b[0m",
      "\u001b[1;31mAttributeError\u001b[0m                            Traceback (most recent call last)",
      "Input \u001b[1;32mIn [13]\u001b[0m, in \u001b[0;36m<cell line: 1>\u001b[1;34m()\u001b[0m\n\u001b[1;32m----> 1\u001b[0m \u001b[43ma\u001b[49m\u001b[38;5;241;43m.\u001b[39;49m\u001b[43mget_status\u001b[49m\u001b[43m(\u001b[49m\u001b[43m)\u001b[49m\n",
      "Input \u001b[1;32mIn [3]\u001b[0m, in \u001b[0;36mURRobot.get_status\u001b[1;34m(self)\u001b[0m\n\u001b[0;32m     64\u001b[0m \u001b[38;5;28;01mdef\u001b[39;00m \u001b[38;5;21mget_status\u001b[39m(\u001b[38;5;28mself\u001b[39m):\n\u001b[0;32m     65\u001b[0m     dic_robot_status \u001b[38;5;241m=\u001b[39m {\n\u001b[0;32m     66\u001b[0m         \u001b[38;5;241m0\u001b[39m: \u001b[38;5;124m\"\u001b[39m\u001b[38;5;124mIs power on\u001b[39m\u001b[38;5;124m\"\u001b[39m,\n\u001b[0;32m     67\u001b[0m         \u001b[38;5;241m1\u001b[39m: \u001b[38;5;124m\"\u001b[39m\u001b[38;5;124mIs program running\u001b[39m\u001b[38;5;124m\"\u001b[39m,\n\u001b[1;32m   (...)\u001b[0m\n\u001b[0;32m     70\u001b[0m         \u001b[38;5;241m7\u001b[39m: \u001b[38;5;124m\"\u001b[39m\u001b[38;5;124mFreedrive\u001b[39m\u001b[38;5;124m\"\u001b[39m\n\u001b[0;32m     71\u001b[0m     }\n\u001b[1;32m---> 72\u001b[0m     robot_status \u001b[38;5;241m=\u001b[39m \u001b[38;5;28;43mself\u001b[39;49m\u001b[38;5;241;43m.\u001b[39;49m\u001b[43mrtde_rec\u001b[49m\u001b[38;5;241;43m.\u001b[39;49m\u001b[43mgetRobotStatus\u001b[49m()\n\u001b[0;32m     73\u001b[0m     dic_safety_bit \u001b[38;5;241m=\u001b[39m {\n\u001b[0;32m     74\u001b[0m         \u001b[38;5;241m0\u001b[39m: \u001b[38;5;124m\"\u001b[39m\u001b[38;5;124mIs normal mode\u001b[39m\u001b[38;5;124m\"\u001b[39m,\n\u001b[0;32m     75\u001b[0m         \u001b[38;5;241m1\u001b[39m: \u001b[38;5;124m\"\u001b[39m\u001b[38;5;124mIs reduced mode\u001b[39m\u001b[38;5;124m\"\u001b[39m,\n\u001b[1;32m   (...)\u001b[0m\n\u001b[0;32m     85\u001b[0m         \u001b[38;5;241m1216\u001b[39m: \u001b[38;5;124m\"\u001b[39m\u001b[38;5;124mEmergency\u001b[39m\u001b[38;5;124m\"\u001b[39m,\n\u001b[0;32m     86\u001b[0m     }\n\u001b[0;32m     87\u001b[0m     safety_status_bit \u001b[38;5;241m=\u001b[39m \u001b[38;5;28mself\u001b[39m\u001b[38;5;241m.\u001b[39mrtde_rec\u001b[38;5;241m.\u001b[39mgetSafetyStatusBits()\n",
      "\u001b[1;31mAttributeError\u001b[0m: 'NoneType' object has no attribute 'getRobotStatus'"
     ]
    }
   ],
   "source": [
    "a.get_status()"
   ]
  },
  {
   "cell_type": "code",
   "execution_count": 10,
   "id": "15b3f0a9-e6a7-4e13-bb62-d65baa6d7562",
   "metadata": {},
   "outputs": [],
   "source": [
    "a.rtde_ctrl.disconnect()"
   ]
  },
  {
   "cell_type": "code",
   "execution_count": 11,
   "id": "19a4223d-0f84-4b20-8778-64dc9638ca3b",
   "metadata": {},
   "outputs": [
    {
     "data": {
      "text/plain": [
       "False"
      ]
     },
     "execution_count": 11,
     "metadata": {},
     "output_type": "execute_result"
    }
   ],
   "source": [
    "a.rtde_ctrl.isConnected()"
   ]
  },
  {
   "cell_type": "code",
   "execution_count": 39,
   "id": "75b9453e-49be-4787-898f-d4257879a39e",
   "metadata": {},
   "outputs": [
    {
     "data": {
      "text/plain": [
       "True"
      ]
     },
     "execution_count": 39,
     "metadata": {},
     "output_type": "execute_result"
    }
   ],
   "source": [
    "a.rtde_ctrl.setWatchdog(1)"
   ]
  },
  {
   "cell_type": "code",
   "execution_count": 54,
   "id": "46d4ebb7-ed06-47c5-909e-bb0510357bba",
   "metadata": {},
   "outputs": [
    {
     "data": {
      "text/plain": [
       "True"
      ]
     },
     "execution_count": 54,
     "metadata": {},
     "output_type": "execute_result"
    }
   ],
   "source": [
    "a.rtde_ctrl.kickWatchdog()"
   ]
  },
  {
   "cell_type": "code",
   "execution_count": 13,
   "id": "5c701cef-d28a-4cc8-b990-4c4688a751fb",
   "metadata": {},
   "outputs": [
    {
     "data": {
      "text/plain": [
       "True"
      ]
     },
     "execution_count": 13,
     "metadata": {},
     "output_type": "execute_result"
    }
   ],
   "source": [
    "a.rtde_ctrl.triggerProtectiveStop()"
   ]
  },
  {
   "cell_type": "code",
   "execution_count": 33,
   "id": "9df927ec-99d7-4df8-8c54-ed52e9008d43",
   "metadata": {},
   "outputs": [
    {
     "data": {
      "text/plain": [
       "True"
      ]
     },
     "execution_count": 33,
     "metadata": {},
     "output_type": "execute_result"
    }
   ],
   "source": [
    "a.rtde_ctrl.freedriveMode()"
   ]
  },
  {
   "cell_type": "code",
   "execution_count": 34,
   "id": "23d8ce14-f9c4-4fb3-8757-776a0af04e44",
   "metadata": {},
   "outputs": [
    {
     "data": {
      "text/plain": [
       "True"
      ]
     },
     "execution_count": 34,
     "metadata": {},
     "output_type": "execute_result"
    }
   ],
   "source": [
    "a.rtde_ctrl.endFreedriveMode()"
   ]
  },
  {
   "cell_type": "code",
   "execution_count": 14,
   "id": "55d5b029-d7e6-490d-945a-142b21e15809",
   "metadata": {},
   "outputs": [
    {
     "ename": "RuntimeError",
     "evalue": "getFreedriveStatus() function did not succeed!",
     "output_type": "error",
     "traceback": [
      "\u001b[1;31m---------------------------------------------------------------------------\u001b[0m",
      "\u001b[1;31mRuntimeError\u001b[0m                              Traceback (most recent call last)",
      "\u001b[1;32m<ipython-input-14-1d69eca4388c>\u001b[0m in \u001b[0;36m<module>\u001b[1;34m\u001b[0m\n\u001b[1;32m----> 1\u001b[1;33m \u001b[0ma\u001b[0m\u001b[1;33m.\u001b[0m\u001b[0mrtde_ctrl\u001b[0m\u001b[1;33m.\u001b[0m\u001b[0mgetFreedriveStatus\u001b[0m\u001b[1;33m(\u001b[0m\u001b[1;33m)\u001b[0m\u001b[1;33m\u001b[0m\u001b[0m\n\u001b[0m",
      "\u001b[1;31mRuntimeError\u001b[0m: getFreedriveStatus() function did not succeed!"
     ]
    }
   ],
   "source": [
    "a.rtde_ctrl.getFreedriveStatus()"
   ]
  },
  {
   "cell_type": "markdown",
   "id": "bf6c2f53-8130-4f91-a4a9-7ce0159702dd",
   "metadata": {},
   "source": [
    "# IO"
   ]
  },
  {
   "cell_type": "code",
   "execution_count": 76,
   "id": "b253a82f-055a-4907-bd02-e4ee35cacd0e",
   "metadata": {},
   "outputs": [
    {
     "name": "stdout",
     "output_type": "stream",
     "text": [
      "connect2io\n",
      "Attempting to connect to 192.168.1.30 on port 30001\n",
      "Connection to 192.168.1.30 on port 30001 failed: timed out\n"
     ]
    },
    {
     "data": {
      "text/plain": [
       "True"
      ]
     },
     "execution_count": 76,
     "metadata": {},
     "output_type": "execute_result"
    }
   ],
   "source": [
    "a.connect_io()"
   ]
  },
  {
   "cell_type": "code",
   "execution_count": 77,
   "id": "c3d3345c-3584-451b-9998-9d5191f49add",
   "metadata": {},
   "outputs": [
    {
     "name": "stdout",
     "output_type": "stream",
     "text": [
      "Error sending.. \n",
      "\n",
      "connect2io\n",
      "Attempting to connect to 192.168.1.30 on port 30001\n",
      "Connection to 192.168.1.30 on port 30001 failed: timed out\n",
      "Error sending.. \n",
      "\n"
     ]
    }
   ],
   "source": [
    "if not (a.rtde_io.set_digital_out(3,True)):\n",
    "    a.connect_io()\n",
    "    a.rtde_io.set_digital_out(3,True)\n",
    "else:\n",
    "    print(\"Sent\")"
   ]
  },
  {
   "cell_type": "code",
   "execution_count": 10,
   "id": "d40406d2-7194-49b6-a703-c0b969904987",
   "metadata": {},
   "outputs": [
    {
     "name": "stdout",
     "output_type": "stream",
     "text": [
      "Sent\n"
     ]
    }
   ],
   "source": [
    "if not (a.rtde_io.set_digital_out(3,False)):\n",
    "    a.connect_io()\n",
    "    a.rtde_io.set_digital_out(3,False)\n",
    "else:\n",
    "    print(\"Sent\")"
   ]
  },
  {
   "cell_type": "code",
   "execution_count": 8,
   "id": "380cfee5-cbc1-4b01-8283-95afa190ebdd",
   "metadata": {},
   "outputs": [
    {
     "data": {
      "text/plain": [
       "True"
      ]
     },
     "execution_count": 8,
     "metadata": {},
     "output_type": "execute_result"
    }
   ],
   "source": [
    "a.rtde_io.set_freedrive()"
   ]
  },
  {
   "cell_type": "code",
   "execution_count": null,
   "id": "7dad5da4-29cd-4aad-8f23-1c9f4b44d21a",
   "metadata": {},
   "outputs": [],
   "source": []
  },
  {
   "cell_type": "code",
   "execution_count": null,
   "id": "7ca46476-8961-4a12-bdd7-9d8ec638c2d7",
   "metadata": {},
   "outputs": [],
   "source": []
  }
 ],
 "metadata": {
  "kernelspec": {
   "display_name": "Python 3 (ipykernel)",
   "language": "python",
   "name": "python3"
  },
  "language_info": {
   "codemirror_mode": {
    "name": "ipython",
    "version": 3
   },
   "file_extension": ".py",
   "mimetype": "text/x-python",
   "name": "python",
   "nbconvert_exporter": "python",
   "pygments_lexer": "ipython3",
   "version": "3.9.12"
  }
 },
 "nbformat": 4,
 "nbformat_minor": 5
}
