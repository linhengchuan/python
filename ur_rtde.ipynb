{
 "cells": [
  {
   "cell_type": "code",
   "execution_count": 97,
   "id": "c4dbf52d-07c2-4e17-9ba7-fbca1a4aef5f",
   "metadata": {},
   "outputs": [
    {
     "name": "stdout",
     "output_type": "stream",
     "text": [
      "192.168.1.30 ping was successful!\n"
     ]
    }
   ],
   "source": [
    "import subprocess\n",
    "\n",
    "def ping_test(ip):\n",
    "    cmd = [\"ping\",\"-n\",\"1\",ip]\n",
    "    response = subprocess.call(cmd, stdout=subprocess.DEVNULL, stderr=subprocess.DEVNULL)\n",
    "    if response == 0:\n",
    "        print(f\"{ip} ping was successful!\")\n",
    "        return\n",
    "    print(f\"{ip} ping was not successful.\")\n",
    "\n",
    "ping_test(\"192.168.1.30\")"
   ]
  },
  {
   "cell_type": "code",
   "execution_count": 98,
   "id": "20a45e28-cd6a-4064-9110-d5bc483de7fa",
   "metadata": {},
   "outputs": [],
   "source": [
    "from dashboard_client import DashboardClient\n",
    "from rtde_io import RTDEIOInterface as RTDEIO\n",
    "from rtde_receive import RTDEReceiveInterface as RTDEReceive\n",
    "from rtde_control import RTDEControlInterface as RTDEControl\n",
    "\n",
    "ip = \"192.168.1.30\""
   ]
  },
  {
   "cell_type": "code",
   "execution_count": 99,
   "id": "ae306ab7-c53c-4fc6-9b13-d0e52f9738b8",
   "metadata": {},
   "outputs": [],
   "source": [
    "class Singleton(type):\n",
    "    _instances = {}\n",
    "    def __call__(cls, *args, **kwargs):\n",
    "        if cls not in cls._instances:\n",
    "            cls._instances[cls] = super(Singleton, cls).__call__(*args, **kwargs)\n",
    "        return cls._instances[cls]\n",
    "\n",
    "# class MyClass(BaseClass, metaclass=Singleton):\n",
    "#     pass"
   ]
  },
  {
   "cell_type": "code",
   "execution_count": 100,
   "id": "87ecbf41-997a-461b-8a36-92be29ebd209",
   "metadata": {},
   "outputs": [],
   "source": [
    "class Test(metaclass=Singleton):\n",
    "    def __init__(self):\n",
    "        self._rtde_db = None\n",
    "        self._rtde_rec = None\n",
    "        self._rtde_ctrl = None\n",
    "        self._rtde_io = None\n",
    "        \n",
    "    def connect(self):\n",
    "        self._rtde_db = DashboardClient(ip)\n",
    "        self._rtde_rec = RTDEReceive(ip)\n",
    "    \n",
    "    def connect1(self):\n",
    "        self._rtde_ctrl = RTDEControl(ip)\n",
    "        \n",
    "    def connect2(self):\n",
    "        try:\n",
    "            print(\"connect2\")\n",
    "            self._rtde_io = RTDEIO(ip)\n",
    "        except Exception as e:\n",
    "            print(f\"fail {e}\")\n",
    "\n",
    "    def __del__(self):\n",
    "        self._rtde_ctrl.disconnect()"
   ]
  },
  {
   "cell_type": "code",
   "execution_count": 56,
   "id": "6bfda63c-e419-4231-a51c-1b6e809a94d4",
   "metadata": {},
   "outputs": [],
   "source": [
    "a = Test()"
   ]
  },
  {
   "cell_type": "code",
   "execution_count": 57,
   "id": "525ca0d1-4c09-4021-9c3b-de87972a79cb",
   "metadata": {},
   "outputs": [],
   "source": [
    "a.connect()"
   ]
  },
  {
   "cell_type": "code",
   "execution_count": 76,
   "id": "6d606265-ba28-4685-a0a0-e72fafcafd2d",
   "metadata": {},
   "outputs": [
    {
     "data": {
      "text/plain": [
       "True"
      ]
     },
     "execution_count": 76,
     "metadata": {},
     "output_type": "execute_result"
    }
   ],
   "source": [
    "a._rtde_db.isConnected()"
   ]
  },
  {
   "cell_type": "code",
   "execution_count": null,
   "id": "007d2088-7f1f-4289-a6ae-1e0dfe08fa2e",
   "metadata": {},
   "outputs": [],
   "source": [
    "a._rtde_rec."
   ]
  },
  {
   "cell_type": "code",
   "execution_count": 72,
   "id": "c6dfd054-71f1-48ba-896d-59a1cf43524e",
   "metadata": {},
   "outputs": [
    {
     "data": {
      "text/plain": [
       "3"
      ]
     },
     "execution_count": 72,
     "metadata": {},
     "output_type": "execute_result"
    }
   ],
   "source": [
    "a._rtde_rec.getRobotStatus()"
   ]
  },
  {
   "cell_type": "code",
   "execution_count": 73,
   "id": "013a038d-6c9a-48ec-91e6-473aa1843666",
   "metadata": {},
   "outputs": [
    {
     "data": {
      "text/plain": [
       "1"
      ]
     },
     "execution_count": 73,
     "metadata": {},
     "output_type": "execute_result"
    }
   ],
   "source": [
    "a._rtde_rec.getSafetyStatusBits()"
   ]
  },
  {
   "cell_type": "code",
   "execution_count": 74,
   "id": "c1159437-6245-4754-9823-a68b07b12cd9",
   "metadata": {},
   "outputs": [
    {
     "data": {
      "text/plain": [
       "7"
      ]
     },
     "execution_count": 74,
     "metadata": {},
     "output_type": "execute_result"
    }
   ],
   "source": [
    "a._rtde_rec.getRobotMode()"
   ]
  },
  {
   "cell_type": "code",
   "execution_count": 85,
   "id": "2ea5e56c-a017-4869-89cd-5aaa05051ce2",
   "metadata": {},
   "outputs": [],
   "source": [
    "a._rtde_db = DashboardClient(ip)"
   ]
  },
  {
   "cell_type": "code",
   "execution_count": 87,
   "id": "6c2d4292-ae9e-4b3a-874a-98ddade14e5d",
   "metadata": {},
   "outputs": [
    {
     "data": {
      "text/plain": [
       "<dashboard_client.DashboardClient>"
      ]
     },
     "execution_count": 87,
     "metadata": {},
     "output_type": "execute_result"
    }
   ],
   "source": [
    "a._rtde_db"
   ]
  },
  {
   "cell_type": "code",
   "execution_count": 120,
   "id": "fcd95106-e145-473f-af6b-93729e84b0cb",
   "metadata": {},
   "outputs": [],
   "source": [
    "a._rtde_rec = RTDEReceive(ip)"
   ]
  },
  {
   "cell_type": "code",
   "execution_count": 88,
   "id": "055f2718-9968-43ec-997c-b41ee3ccf3e8",
   "metadata": {},
   "outputs": [
    {
     "data": {
      "text/plain": [
       "<rtde_receive.RTDEReceiveInterface>"
      ]
     },
     "execution_count": 88,
     "metadata": {},
     "output_type": "execute_result"
    }
   ],
   "source": [
    "a._rtde_rec"
   ]
  },
  {
   "cell_type": "code",
   "execution_count": 59,
   "id": "ce880ce8-ebfa-4ae8-849b-f3ee1a50d7e1",
   "metadata": {},
   "outputs": [],
   "source": [
    "a._rtde_db.connect()"
   ]
  },
  {
   "cell_type": "code",
   "execution_count": 63,
   "id": "2cfa23b4-2919-4995-8489-d72114b1c534",
   "metadata": {},
   "outputs": [
    {
     "data": {
      "text/plain": [
       "True"
      ]
     },
     "execution_count": 63,
     "metadata": {},
     "output_type": "execute_result"
    }
   ],
   "source": [
    "a._rtde_db.isConnected()"
   ]
  },
  {
   "cell_type": "code",
   "execution_count": 10,
   "id": "afb4aa75-4a17-4abe-9a9d-e2b0837ed890",
   "metadata": {},
   "outputs": [],
   "source": [
    "a._rtde_db.closeSafetyPopup()\n",
    "a._rtde_db.restartSafety()"
   ]
  },
  {
   "cell_type": "code",
   "execution_count": 11,
   "id": "ebe33298-f6df-42d7-bc04-3b5beb6d00ea",
   "metadata": {},
   "outputs": [],
   "source": [
    "a._rtde_db.powerOn()\n",
    "a._rtde_db.brakeRelease()"
   ]
  },
  {
   "cell_type": "code",
   "execution_count": 116,
   "id": "8767f1ff-a786-47f3-af1c-2368cff2320a",
   "metadata": {},
   "outputs": [],
   "source": [
    "a.connect1()"
   ]
  },
  {
   "cell_type": "code",
   "execution_count": 117,
   "id": "eef4c227-439c-45a2-afd1-5cd700c48de2",
   "metadata": {},
   "outputs": [
    {
     "data": {
      "text/plain": [
       "<rtde_control.RTDEControlInterface>"
      ]
     },
     "execution_count": 117,
     "metadata": {},
     "output_type": "execute_result"
    }
   ],
   "source": [
    "a._rtde_ctrl"
   ]
  },
  {
   "cell_type": "code",
   "execution_count": 119,
   "id": "30c3c580-a5c7-4249-84c9-6dc7f20b7a4e",
   "metadata": {},
   "outputs": [
    {
     "data": {
      "text/plain": [
       "True"
      ]
     },
     "execution_count": 119,
     "metadata": {},
     "output_type": "execute_result"
    }
   ],
   "source": [
    "a._rtde_ctrl.isConnected()"
   ]
  },
  {
   "cell_type": "code",
   "execution_count": 14,
   "id": "ee66926e-8723-4c2a-a5db-1b6715b056fb",
   "metadata": {},
   "outputs": [],
   "source": [
    "a._rtde_ctrl.disconnect()"
   ]
  },
  {
   "cell_type": "code",
   "execution_count": 9,
   "id": "85f7051c-03fc-4c13-9d63-a40d55d73da3",
   "metadata": {},
   "outputs": [
    {
     "data": {
      "text/plain": [
       "True"
      ]
     },
     "execution_count": 9,
     "metadata": {},
     "output_type": "execute_result"
    }
   ],
   "source": [
    "a._rtde_ctrl.freedriveMode()"
   ]
  },
  {
   "cell_type": "code",
   "execution_count": 10,
   "id": "1d633688-75e2-4629-bbac-5429eda6a268",
   "metadata": {},
   "outputs": [
    {
     "data": {
      "text/plain": [
       "True"
      ]
     },
     "execution_count": 10,
     "metadata": {},
     "output_type": "execute_result"
    }
   ],
   "source": [
    "a._rtde_ctrl.endFreedriveMode()"
   ]
  },
  {
   "cell_type": "code",
   "execution_count": 121,
   "id": "74f6987b-1a44-430d-9328-287fa681d015",
   "metadata": {},
   "outputs": [
    {
     "name": "stdout",
     "output_type": "stream",
     "text": [
      "connect2\n",
      "fail One of the RTDE input registers are already in use! Currently you must disable the EtherNet/IP adapter, PROFINET or any MODBUS unit configured on the robot. This might change in the future.\n"
     ]
    }
   ],
   "source": [
    "a.connect2()"
   ]
  },
  {
   "cell_type": "code",
   "execution_count": 126,
   "id": "51f300ba-6ef7-44b5-91c0-d1c7f3427975",
   "metadata": {},
   "outputs": [],
   "source": [
    "a._rtde_io"
   ]
  },
  {
   "cell_type": "code",
   "execution_count": 129,
   "id": "3875e392-df8e-48f8-bd8e-e2b4843aaa33",
   "metadata": {},
   "outputs": [],
   "source": [
    "if None:\n",
    "    print(\"hi\")"
   ]
  },
  {
   "cell_type": "code",
   "execution_count": 127,
   "id": "a0a4991c-cf1b-48f5-9ba4-f8a07fa176ab",
   "metadata": {},
   "outputs": [
    {
     "ename": "AttributeError",
     "evalue": "'NoneType' object has no attribute 'reconnect'",
     "output_type": "error",
     "traceback": [
      "\u001b[1;31m---------------------------------------------------------------------------\u001b[0m",
      "\u001b[1;31mAttributeError\u001b[0m                            Traceback (most recent call last)",
      "\u001b[1;32m<ipython-input-127-2ff0e73a3b65>\u001b[0m in \u001b[0;36m<module>\u001b[1;34m\u001b[0m\n\u001b[1;32m----> 1\u001b[1;33m \u001b[0ma\u001b[0m\u001b[1;33m.\u001b[0m\u001b[0m_rtde_io\u001b[0m\u001b[1;33m.\u001b[0m\u001b[0mreconnect\u001b[0m\u001b[1;33m(\u001b[0m\u001b[1;33m)\u001b[0m\u001b[1;33m\u001b[0m\u001b[0m\n\u001b[0m",
      "\u001b[1;31mAttributeError\u001b[0m: 'NoneType' object has no attribute 'reconnect'"
     ]
    }
   ],
   "source": [
    "a._rtde_io.reconnect()"
   ]
  },
  {
   "cell_type": "code",
   "execution_count": 124,
   "id": "56ce71ed-1400-47ca-a8a9-3ed8438ff860",
   "metadata": {},
   "outputs": [
    {
     "ename": "AttributeError",
     "evalue": "'NoneType' object has no attribute 'setSpeedSlider'",
     "output_type": "error",
     "traceback": [
      "\u001b[1;31m---------------------------------------------------------------------------\u001b[0m",
      "\u001b[1;31mAttributeError\u001b[0m                            Traceback (most recent call last)",
      "\u001b[1;32m<ipython-input-124-3d3b89c3184a>\u001b[0m in \u001b[0;36m<module>\u001b[1;34m\u001b[0m\n\u001b[1;32m----> 1\u001b[1;33m \u001b[0ma\u001b[0m\u001b[1;33m.\u001b[0m\u001b[0m_rtde_io\u001b[0m\u001b[1;33m.\u001b[0m\u001b[0msetSpeedSlider\u001b[0m\u001b[1;33m(\u001b[0m\u001b[1;36m0.9\u001b[0m\u001b[1;33m)\u001b[0m\u001b[1;33m\u001b[0m\u001b[0m\n\u001b[0m",
      "\u001b[1;31mAttributeError\u001b[0m: 'NoneType' object has no attribute 'setSpeedSlider'"
     ]
    }
   ],
   "source": [
    "a._rtde_io.setSpeedSlider(0.9)"
   ]
  },
  {
   "cell_type": "code",
   "execution_count": 14,
   "id": "0e765a01-2278-4db4-9ee0-42660f0e0e28",
   "metadata": {},
   "outputs": [],
   "source": [
    "del a"
   ]
  },
  {
   "cell_type": "code",
   "execution_count": 15,
   "id": "80a4adcb-cfb7-4c2e-9ac2-2fa915f6ab9a",
   "metadata": {},
   "outputs": [
    {
     "ename": "NameError",
     "evalue": "name 'a' is not defined",
     "output_type": "error",
     "traceback": [
      "\u001b[1;31m---------------------------------------------------------------------------\u001b[0m",
      "\u001b[1;31mNameError\u001b[0m                                 Traceback (most recent call last)",
      "\u001b[1;32m<ipython-input-15-02e9a4219046>\u001b[0m in \u001b[0;36m<module>\u001b[1;34m\u001b[0m\n\u001b[1;32m----> 1\u001b[1;33m \u001b[0ma\u001b[0m\u001b[1;33m.\u001b[0m\u001b[0m_rtde_db\u001b[0m\u001b[1;33m\u001b[0m\u001b[0m\n\u001b[0m",
      "\u001b[1;31mNameError\u001b[0m: name 'a' is not defined"
     ]
    }
   ],
   "source": [
    "a._rtde_db"
   ]
  },
  {
   "cell_type": "code",
   "execution_count": null,
   "id": "9e325175-a354-4223-b63c-f2586f923e0c",
   "metadata": {},
   "outputs": [],
   "source": []
  },
  {
   "cell_type": "code",
   "execution_count": 44,
   "id": "29588567-5f9a-43e1-9b5d-1988e652c0db",
   "metadata": {},
   "outputs": [],
   "source": [
    "a._rtde_db.connect()"
   ]
  },
  {
   "cell_type": "code",
   "execution_count": 45,
   "id": "56ecf7d4-dbfe-40e5-bae1-a35991c3dc1b",
   "metadata": {},
   "outputs": [
    {
     "data": {
      "text/plain": [
       "True"
      ]
     },
     "execution_count": 45,
     "metadata": {},
     "output_type": "execute_result"
    }
   ],
   "source": [
    "a._rtde_db.isConnected()"
   ]
  },
  {
   "cell_type": "code",
   "execution_count": 47,
   "id": "1145f3f3-4b11-4330-af08-638ba0ed3707",
   "metadata": {},
   "outputs": [
    {
     "data": {
      "text/plain": [
       "<rtde_control.RTDEControlInterface>"
      ]
     },
     "execution_count": 47,
     "metadata": {},
     "output_type": "execute_result"
    }
   ],
   "source": [
    "a._rtde_ctrl"
   ]
  },
  {
   "cell_type": "code",
   "execution_count": 1,
   "id": "d6a15ad7-8a22-4306-97b4-20648197f82c",
   "metadata": {},
   "outputs": [
    {
     "name": "stdout",
     "output_type": "stream",
     "text": [
      "yes\n"
     ]
    }
   ],
   "source": [
    "if None:\n",
    "    print(\"No\")\n",
    "else:\n",
    "    print(\"yes\")"
   ]
  },
  {
   "cell_type": "code",
   "execution_count": 30,
   "id": "3ed1028d-43c1-4605-94a1-945a92615027",
   "metadata": {},
   "outputs": [],
   "source": [
    "db = DashboardClient(ip)\n",
    "db.connect()"
   ]
  },
  {
   "cell_type": "code",
   "execution_count": 31,
   "id": "f8b9e869-2e1d-4821-a79a-5225de2ad4ff",
   "metadata": {},
   "outputs": [
    {
     "data": {
      "text/plain": [
       "True"
      ]
     },
     "execution_count": 31,
     "metadata": {},
     "output_type": "execute_result"
    }
   ],
   "source": [
    "db.isConnected()"
   ]
  },
  {
   "cell_type": "code",
   "execution_count": 25,
   "id": "9630aaca-20a2-4ade-822f-a7f76b6e1dcb",
   "metadata": {},
   "outputs": [],
   "source": [
    "db.closeSafetyPopup()"
   ]
  },
  {
   "cell_type": "code",
   "execution_count": 7,
   "id": "6694bfb3-cae7-4cb6-9a3c-52c0eeb4dcc4",
   "metadata": {},
   "outputs": [],
   "source": [
    "db.restartSafety()"
   ]
  },
  {
   "cell_type": "code",
   "execution_count": 6,
   "id": "c8f83cf8-412e-4bc7-bfe4-2922bdfd760c",
   "metadata": {},
   "outputs": [],
   "source": [
    "db.closeSafetyPopup()\n",
    "db.restartSafety()"
   ]
  },
  {
   "cell_type": "code",
   "execution_count": 36,
   "id": "4b710136-1b79-43d9-977b-a6255d200be4",
   "metadata": {},
   "outputs": [],
   "source": [
    "db.powerOn()\n",
    "db.brakeRelease()"
   ]
  },
  {
   "cell_type": "code",
   "execution_count": 28,
   "id": "3629f2d7-816d-4f52-9258-47bc90de79c3",
   "metadata": {},
   "outputs": [],
   "source": [
    "db.powerOff()"
   ]
  },
  {
   "cell_type": "code",
   "execution_count": 26,
   "id": "0adb2cd1-81e4-4006-a5b1-d4b01d7ef275",
   "metadata": {},
   "outputs": [
    {
     "ename": "RuntimeError",
     "evalue": "Unlock protective stop failure: Command is not allowed due to safety reasons, please switch robot to Remote Control mode and reconnect to port 29999",
     "output_type": "error",
     "traceback": [
      "\u001b[1;31m---------------------------------------------------------------------------\u001b[0m",
      "\u001b[1;31mRuntimeError\u001b[0m                              Traceback (most recent call last)",
      "\u001b[1;32m<ipython-input-26-d0a61905384d>\u001b[0m in \u001b[0;36m<module>\u001b[1;34m\u001b[0m\n\u001b[1;32m----> 1\u001b[1;33m \u001b[0mdb\u001b[0m\u001b[1;33m.\u001b[0m\u001b[0munlockProtectiveStop\u001b[0m\u001b[1;33m(\u001b[0m\u001b[1;33m)\u001b[0m\u001b[1;33m\u001b[0m\u001b[0m\n\u001b[0m",
      "\u001b[1;31mRuntimeError\u001b[0m: Unlock protective stop failure: Command is not allowed due to safety reasons, please switch robot to Remote Control mode and reconnect to port 29999"
     ]
    }
   ],
   "source": [
    "db.unlockProtectiveStop()"
   ]
  },
  {
   "cell_type": "code",
   "execution_count": 7,
   "id": "f11ce5d7-df1a-43b7-b96d-bdc8ee9bb507",
   "metadata": {},
   "outputs": [
    {
     "data": {
      "text/plain": [
       "False"
      ]
     },
     "execution_count": 7,
     "metadata": {},
     "output_type": "execute_result"
    }
   ],
   "source": [
    "db.isInRemoteControl()"
   ]
  },
  {
   "cell_type": "code",
   "execution_count": 17,
   "id": "ce6955d3-7130-4cbc-8f52-2383ddc89ab0",
   "metadata": {},
   "outputs": [
    {
     "data": {
      "text/plain": [
       "<rtde_io.RTDEIOInterface>"
      ]
     },
     "execution_count": 17,
     "metadata": {},
     "output_type": "execute_result"
    }
   ],
   "source": [
    "rtde_io_.isConnected()"
   ]
  },
  {
   "cell_type": "code",
   "execution_count": 4,
   "id": "cf84762b-88e8-4595-9908-15b37419014b",
   "metadata": {},
   "outputs": [
    {
     "ename": "NameError",
     "evalue": "name 'RTDEReceive' is not defined",
     "output_type": "error",
     "traceback": [
      "\u001b[1;31m---------------------------------------------------------------------------\u001b[0m",
      "\u001b[1;31mNameError\u001b[0m                                 Traceback (most recent call last)",
      "\u001b[1;32m<ipython-input-4-d5a00b05d804>\u001b[0m in \u001b[0;36m<module>\u001b[1;34m\u001b[0m\n\u001b[1;32m----> 1\u001b[1;33m \u001b[0mrtde_receive_\u001b[0m \u001b[1;33m=\u001b[0m \u001b[0mRTDEReceive\u001b[0m\u001b[1;33m(\u001b[0m\u001b[0mip\u001b[0m\u001b[1;33m)\u001b[0m\u001b[1;33m\u001b[0m\u001b[0m\n\u001b[0m",
      "\u001b[1;31mNameError\u001b[0m: name 'RTDEReceive' is not defined"
     ]
    }
   ],
   "source": [
    "rtde_receive_ = RTDEReceive(ip)"
   ]
  },
  {
   "cell_type": "code",
   "execution_count": 2,
   "id": "83ba72f7-765d-42fe-9695-522bb0080676",
   "metadata": {},
   "outputs": [
    {
     "name": "stdout",
     "output_type": "stream",
     "text": [
      "fail\n"
     ]
    }
   ],
   "source": [
    "try:\n",
    "    # rtde_receive_ = RTDEReceive(ip)\n",
    "    rtde_control_ = RTDEControl(ip)\n",
    "    # rtde_io_ = RTDEIO(ip)\n",
    "except:\n",
    "    print(\"fail\")"
   ]
  },
  {
   "cell_type": "code",
   "execution_count": 3,
   "id": "cbf901be-3ef0-45b1-a6a8-4ec295a4bc09",
   "metadata": {},
   "outputs": [
    {
     "ename": "NameError",
     "evalue": "name 'rtde_control_' is not defined",
     "output_type": "error",
     "traceback": [
      "\u001b[1;31m---------------------------------------------------------------------------\u001b[0m",
      "\u001b[1;31mNameError\u001b[0m                                 Traceback (most recent call last)",
      "\u001b[1;32m<ipython-input-3-966fdbd6b506>\u001b[0m in \u001b[0;36m<module>\u001b[1;34m\u001b[0m\n\u001b[1;32m----> 1\u001b[1;33m \u001b[0mrtde_control_\u001b[0m\u001b[1;33m.\u001b[0m\u001b[0misConnected\u001b[0m\u001b[1;33m(\u001b[0m\u001b[1;33m)\u001b[0m\u001b[1;33m\u001b[0m\u001b[0m\n\u001b[0m",
      "\u001b[1;31mNameError\u001b[0m: name 'rtde_control_' is not defined"
     ]
    }
   ],
   "source": [
    "rtde_control_.isConnected()"
   ]
  },
  {
   "cell_type": "code",
   "execution_count": 23,
   "id": "f98efc94-8bce-4608-8266-dfe502f04e92",
   "metadata": {},
   "outputs": [
    {
     "data": {
      "text/plain": [
       "True"
      ]
     },
     "execution_count": 23,
     "metadata": {},
     "output_type": "execute_result"
    }
   ],
   "source": [
    "rtde_receive_.isConnected()"
   ]
  },
  {
   "cell_type": "code",
   "execution_count": 37,
   "id": "481e4819-b1b3-443e-823e-c71b34845f25",
   "metadata": {},
   "outputs": [
    {
     "data": {
      "text/plain": [
       "[-1.0547602812396448,\n",
       " -1.9964028797545375,\n",
       " -1.3821295499801636,\n",
       " -2.924011369744772,\n",
       " -2.635293785725729,\n",
       " -1.64213735262026]"
      ]
     },
     "execution_count": 37,
     "metadata": {},
     "output_type": "execute_result"
    }
   ],
   "source": [
    "rtde_receive_.getTargetQ()"
   ]
  },
  {
   "cell_type": "code",
   "execution_count": null,
   "id": "8a544ba4-7b97-4b40-8456-cda8b9577473",
   "metadata": {},
   "outputs": [],
   "source": []
  },
  {
   "cell_type": "code",
   "execution_count": 21,
   "id": "f87a3965-aba9-4642-897c-4981e9a93aeb",
   "metadata": {},
   "outputs": [],
   "source": [
    "rtde_io_ = RTDEIO(ip)"
   ]
  },
  {
   "cell_type": "code",
   "execution_count": 16,
   "id": "1d70aefa-efd1-4e0e-b797-b7d13ec8597f",
   "metadata": {},
   "outputs": [
    {
     "ename": "AttributeError",
     "evalue": "'rtde_io.RTDEIOInterface' object has no attribute 'isConnected'",
     "output_type": "error",
     "traceback": [
      "\u001b[1;31m---------------------------------------------------------------------------\u001b[0m",
      "\u001b[1;31mAttributeError\u001b[0m                            Traceback (most recent call last)",
      "\u001b[1;32m<ipython-input-16-d553c143fe6e>\u001b[0m in \u001b[0;36m<module>\u001b[1;34m\u001b[0m\n\u001b[1;32m----> 1\u001b[1;33m \u001b[0mrtde_io_\u001b[0m\u001b[1;33m.\u001b[0m\u001b[0misConnected\u001b[0m\u001b[1;33m(\u001b[0m\u001b[1;33m)\u001b[0m\u001b[1;33m\u001b[0m\u001b[0m\n\u001b[0m",
      "\u001b[1;31mAttributeError\u001b[0m: 'rtde_io.RTDEIOInterface' object has no attribute 'isConnected'"
     ]
    }
   ],
   "source": [
    "rtde_io_.isConnected()"
   ]
  },
  {
   "cell_type": "code",
   "execution_count": 1,
   "id": "e0cc215c-7327-4f0e-b0db-5a8ede540272",
   "metadata": {},
   "outputs": [
    {
     "ename": "NameError",
     "evalue": "name 'rtde_io_' is not defined",
     "output_type": "error",
     "traceback": [
      "\u001b[1;31m---------------------------------------------------------------------------\u001b[0m",
      "\u001b[1;31mNameError\u001b[0m                                 Traceback (most recent call last)",
      "\u001b[1;32m<ipython-input-1-f2917dbceae9>\u001b[0m in \u001b[0;36m<module>\u001b[1;34m\u001b[0m\n\u001b[1;32m----> 1\u001b[1;33m \u001b[0mrtde_io_\u001b[0m\u001b[1;33m.\u001b[0m\u001b[0mdisconnect\u001b[0m\u001b[1;33m(\u001b[0m\u001b[1;33m)\u001b[0m\u001b[1;33m\u001b[0m\u001b[0m\n\u001b[0m",
      "\u001b[1;31mNameError\u001b[0m: name 'rtde_io_' is not defined"
     ]
    }
   ],
   "source": [
    "rtde_io_.disconnect()"
   ]
  },
  {
   "cell_type": "code",
   "execution_count": 4,
   "id": "2730538a-f5a0-4e5c-b015-f36145392274",
   "metadata": {},
   "outputs": [
    {
     "ename": "NameError",
     "evalue": "name 'rtde_control_' is not defined",
     "output_type": "error",
     "traceback": [
      "\u001b[1;31m---------------------------------------------------------------------------\u001b[0m",
      "\u001b[1;31mNameError\u001b[0m                                 Traceback (most recent call last)",
      "\u001b[1;32m<ipython-input-4-7fc9b5c91237>\u001b[0m in \u001b[0;36m<module>\u001b[1;34m\u001b[0m\n\u001b[0;32m      1\u001b[0m \u001b[1;31m# rtde_receive_.disconnect()\u001b[0m\u001b[1;33m\u001b[0m\u001b[1;33m\u001b[0m\u001b[0m\n\u001b[1;32m----> 2\u001b[1;33m \u001b[0mrtde_control_\u001b[0m\u001b[1;33m.\u001b[0m\u001b[0mdisconnect\u001b[0m\u001b[1;33m(\u001b[0m\u001b[1;33m)\u001b[0m\u001b[1;33m\u001b[0m\u001b[0m\n\u001b[0m",
      "\u001b[1;31mNameError\u001b[0m: name 'rtde_control_' is not defined"
     ]
    }
   ],
   "source": [
    "rtde_receive_.disconnect()\n",
    "rtde_control_.disconnect()"
   ]
  },
  {
   "cell_type": "code",
   "execution_count": 8,
   "id": "99321fa6-10c7-4361-9a85-37f4c4f4c195",
   "metadata": {},
   "outputs": [
    {
     "data": {
      "text/plain": [
       "False"
      ]
     },
     "execution_count": 8,
     "metadata": {},
     "output_type": "execute_result"
    }
   ],
   "source": [
    "rtde_control_.triggerProtectiveStop()"
   ]
  },
  {
   "cell_type": "code",
   "execution_count": 11,
   "id": "f8724f2a-545b-4d19-ad31-702409e2c2e7",
   "metadata": {},
   "outputs": [
    {
     "name": "stdout",
     "output_type": "stream",
     "text": [
      "1\n"
     ]
    }
   ],
   "source": [
    "dic_robot_status = {\n",
    "    0: \"Is power on\",\n",
    "    1: \"Is program running\",\n",
    "    2: \"Is teach button pressed\",\n",
    "    3: \"Is power button pressed\",\n",
    "    7: \"Freedrive\"\n",
    "}\n",
    "print(rtde_receive_.getRobotStatus())"
   ]
  },
  {
   "cell_type": "code",
   "execution_count": 12,
   "id": "d510e9d5-1c9f-46f1-adb7-1c5fb28b079c",
   "metadata": {},
   "outputs": [
    {
     "name": "stdout",
     "output_type": "stream",
     "text": [
      "1\n"
     ]
    }
   ],
   "source": [
    "dic_safety_bit = {\n",
    "    0: \"Is normal mode\",\n",
    "    1: \"Is reduced mode\",\n",
    "    2: \"Is protective stopped\",\n",
    "    3: \"Is recovery mode\",\n",
    "    4: \"Is safeguard stopped\",\n",
    "    5: \"Is system emergency stopped\",\n",
    "    6: \"Is robot emergency stopped\",\n",
    "    7: \"Is emergency stopped\",\n",
    "    8: \"Is violation\",\n",
    "    9: \"Is fault\",\n",
    "    10: \"Is stopped due to safety\",\n",
    "    1216: \"Emergency\",\n",
    "}\n",
    "safety_status_bit = rtde_receive_.getSafetyStatusBits()\n",
    "print(safety_status_bit)"
   ]
  },
  {
   "cell_type": "code",
   "execution_count": 13,
   "id": "8292830a-9c28-4bc6-a27d-eb8f531e7bdd",
   "metadata": {},
   "outputs": [
    {
     "name": "stdout",
     "output_type": "stream",
     "text": [
      "7\n"
     ]
    }
   ],
   "source": [
    "dic_mode_bit={\n",
    "    -1: \"ROBOT_MODE_NO_CONTROLLER\",\n",
    "    0: \"ROBOT_MODE_DISCONNECTED\",\n",
    "    1: \"ROBOT_MODE_CONFIRM_SAFETY\",\n",
    "    2: \"ROBOT_MODE_BOOTING\",\n",
    "    3: \"ROBOT_MODE_POWER_OFF\",\n",
    "    4: \"ROBOT_MODE_POWER_ON\",\n",
    "    5: \"ROBOT_MODE_IDLE\",\n",
    "    6: \"ROBOT_MODE_BACKDRIVE\",\n",
    "    7: \"ROBOT_MODE_RUNNING\",\n",
    "    8: \"ROBOT_MODE_UPDATING_FIRMWAR\",\n",
    "}\n",
    "robot_mode_bit = rtde_receive_.getRobotMode()\n",
    "print(robot_mode_bit)"
   ]
  },
  {
   "cell_type": "code",
   "execution_count": null,
   "id": "f88bc950-766a-429d-92f0-4bf861ba7a6e",
   "metadata": {},
   "outputs": [],
   "source": []
  }
 ],
 "metadata": {
  "kernelspec": {
   "display_name": "Python 3 (ipykernel)",
   "language": "python",
   "name": "python3"
  },
  "language_info": {
   "codemirror_mode": {
    "name": "ipython",
    "version": 3
   },
   "file_extension": ".py",
   "mimetype": "text/x-python",
   "name": "python",
   "nbconvert_exporter": "python",
   "pygments_lexer": "ipython3",
   "version": "3.9.12"
  }
 },
 "nbformat": 4,
 "nbformat_minor": 5
}
