{
 "cells": [
  {
   "cell_type": "code",
   "execution_count": 2,
   "id": "f02866d6-8cae-438b-a880-7f5f9a7d5bdc",
   "metadata": {},
   "outputs": [],
   "source": [
    "import cv2"
   ]
  },
  {
   "cell_type": "markdown",
   "id": "5c6651f8-bdf3-4fdb-bf82-c6edefcff9f3",
   "metadata": {},
   "source": [
    "# Use webcam"
   ]
  },
  {
   "cell_type": "code",
   "execution_count": 5,
   "id": "f82bbfd1-2825-4ac8-ae73-6ce022ed6f41",
   "metadata": {},
   "outputs": [],
   "source": [
    "cap = cv2.VideoCapture(0)\n",
    "\n",
    "width = int(cap.get(cv2.CAP_PROP_FRAME_WIDTH)) #float without int\n",
    "height = int(cap.get(cv2.CAP_PROP_FRAME_HEIGHT))\n",
    "\n",
    "while(True):\n",
    "    ret,frame = cap.read()\n",
    "    cv2.imshow('frame',frame)\n",
    "    \n",
    "    # gray = cv2.cvtColor(frame,cv2.COLOR_BGR2GRAY)\n",
    "    # cv2.imshow('frame',gray)\n",
    "    \n",
    "    if cv2.waitKey(1) & 0xFF == ord('q'):\n",
    "        break\n",
    "        \n",
    "cap.release()\n",
    "cv2.destroyAllWindows()"
   ]
  },
  {
   "cell_type": "code",
   "execution_count": 27,
   "id": "2e9aa7f5-4c6a-482a-8053-da1ec52232c4",
   "metadata": {},
   "outputs": [],
   "source": [
    "cap = cv2.VideoCapture(0)\n",
    "\n",
    "width = int(cap.get(cv2.CAP_PROP_FRAME_WIDTH)) #float without int\n",
    "height = int(cap.get(cv2.CAP_PROP_FRAME_HEIGHT))\n",
    "count = int(cap.get(cv2.CAP_PROP_FRAME_COUNT))\n",
    "\n",
    "fourcc = cv2.VideoWriter_fourcc(*'DIVX')\n",
    "writer = cv2.VideoWriter('test_saving_video.mp4',fourcc,10,(width,height)) #Win using *'DIVX' Mac/Linux use *'XVID'\n",
    "\n",
    "while(True):\n",
    "    ret,frame = cap.read()\n",
    "    cv2.imshow('frame',frame)\n",
    "    #draw if required\n",
    "    \n",
    "    writer.write(frame)\n",
    "    \n",
    "    if cv2.waitKey(1) & 0xFF == ord('q'):\n",
    "        break\n",
    "        \n",
    "cap.release()\n",
    "writer.release()\n",
    "cv2.destroyAllWindows()"
   ]
  },
  {
   "cell_type": "markdown",
   "id": "49879712-4170-486f-a1a2-1eaafd4c1593",
   "metadata": {},
   "source": [
    "# Open videos"
   ]
  },
  {
   "cell_type": "code",
   "execution_count": 29,
   "id": "50322f9a-45de-41ad-acc2-46c7ac40279d",
   "metadata": {},
   "outputs": [],
   "source": [
    "import time #use time to slow down the frame playing for human viewing\n",
    "\n",
    "cap = cv2.VideoCapture('test_saving_video.mp4')\n",
    "\n",
    "if cap.isOpened() == False:\n",
    "    print(\"Error\")\n",
    "    \n",
    "while cap.isOpened():\n",
    "    ret,frame = cap.read()\n",
    "    if ret == True:\n",
    "        # WRITER 10FPS\n",
    "        time.sleep(1/10)\n",
    "        cv2.imshow('frame', frame)\n",
    "        if cv2.waitKey(1) & 0xFF == ord('q'):\n",
    "            break\n",
    "    else:\n",
    "        break\n",
    "cap.release()\n",
    "cv2.destroyAllWindows()"
   ]
  },
  {
   "cell_type": "markdown",
   "id": "a6d97a66-fdd4-4699-80c4-deafa5d40032",
   "metadata": {},
   "source": [
    "# Drawing on video"
   ]
  },
  {
   "cell_type": "code",
   "execution_count": 31,
   "id": "21387990-b649-4756-ae3c-fa3e3a16f54b",
   "metadata": {},
   "outputs": [],
   "source": [
    "cap = cv2.VideoCapture(0)\n",
    "\n",
    "width = int(cap.get(cv2.CAP_PROP_FRAME_WIDTH)) #float without int\n",
    "height = int(cap.get(cv2.CAP_PROP_FRAME_HEIGHT))\n",
    "\n",
    "ix = width//4\n",
    "iy = height//4\n",
    "x = 3*width//4\n",
    "y = 3*height//4\n",
    "\n",
    "while True:\n",
    "    \n",
    "    ret,frame = cap.read()\n",
    "    cv2.rectangle(frame, (ix,iy),(x,y),color=(255,0,0), thickness=3) #draw a rectangle\n",
    "    cv2.imshow('frame',frame)\n",
    "    if cv2.waitKey(1) & 0xFF == ord('q'):\n",
    "        break\n",
    "\n",
    "cap.release()\n",
    "cv2.destroyAllWindows()"
   ]
  },
  {
   "cell_type": "code",
   "execution_count": null,
   "id": "86c1281f-8710-4627-9aae-db00e1b347ab",
   "metadata": {},
   "outputs": [],
   "source": []
  },
  {
   "cell_type": "code",
   "execution_count": null,
   "id": "186018bc-e7a8-4494-8ce7-0b9f50ecb4b9",
   "metadata": {},
   "outputs": [],
   "source": []
  }
 ],
 "metadata": {
  "kernelspec": {
   "display_name": "Python 3 (ipykernel)",
   "language": "python",
   "name": "python3"
  },
  "language_info": {
   "codemirror_mode": {
    "name": "ipython",
    "version": 3
   },
   "file_extension": ".py",
   "mimetype": "text/x-python",
   "name": "python",
   "nbconvert_exporter": "python",
   "pygments_lexer": "ipython3",
   "version": "3.9.12"
  }
 },
 "nbformat": 4,
 "nbformat_minor": 5
}
