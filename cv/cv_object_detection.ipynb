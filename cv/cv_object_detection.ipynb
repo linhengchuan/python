{
 "cells": [
  {
   "cell_type": "markdown",
   "id": "8f264a91-0d5d-42fb-993c-f3d8eea5e0e8",
   "metadata": {},
   "source": [
    "### Types of object detections\n",
    "##### Template Matching: Looking for exact copy of a smaller img in bigger img\n",
    "##### Corner Detection: Looking for corner in img Harris Corner and Shi-Tomasi detection\n",
    "##### Edge Detection: Looking for general edges in img\n",
    "##### Grid Detection: Combine both concept to find grids\n",
    "##### Contour Detection: Detect foreground from background\n",
    "##### Feature matching: Extract defining key features for matching. No need to use exact same image for matching\n",
    "\n",
    "##### Watershed Algorithm: Allow us to segment foreground and background\n",
    "##### Facial and eye detection: Haar Cascades to detect face and eyes but no recognition which need deep learning\n"
   ]
  },
  {
   "cell_type": "code",
   "execution_count": 4,
   "id": "59b23e53-cd21-449c-9aa8-6ef9025edb39",
   "metadata": {},
   "outputs": [],
   "source": [
    "# Template matching"
   ]
  },
  {
   "cell_type": "code",
   "execution_count": 1,
   "id": "363182e1-5e21-4746-89ea-1dcdc47178ca",
   "metadata": {},
   "outputs": [],
   "source": [
    "import cv2\n",
    "import numpy as np\n",
    "import matplotlib.pyplot as plt\n",
    "%matplotlib inline"
   ]
  },
  {
   "cell_type": "code",
   "execution_count": null,
   "id": "badfa015-e45a-4c4b-83e1-d48fe037ac7c",
   "metadata": {},
   "outputs": [],
   "source": []
  },
  {
   "cell_type": "code",
   "execution_count": null,
   "id": "6e2136b6-e02e-47e0-a441-27ed4e90bd65",
   "metadata": {},
   "outputs": [],
   "source": []
  },
  {
   "cell_type": "code",
   "execution_count": null,
   "id": "b28946e9-e96a-4e80-9e85-fa6a5537dd53",
   "metadata": {},
   "outputs": [],
   "source": []
  },
  {
   "cell_type": "code",
   "execution_count": null,
   "id": "b7107bef-81fb-4a81-9ddb-663c92825f39",
   "metadata": {},
   "outputs": [],
   "source": []
  },
  {
   "cell_type": "code",
   "execution_count": null,
   "id": "4f6b975e-2d6e-4164-b007-b2390a3ee1a7",
   "metadata": {},
   "outputs": [],
   "source": []
  },
  {
   "cell_type": "code",
   "execution_count": null,
   "id": "5696017f-31e7-4d56-b0ab-14ef5aeb14d0",
   "metadata": {},
   "outputs": [],
   "source": []
  },
  {
   "cell_type": "code",
   "execution_count": null,
   "id": "2af31bf7-1805-4c60-bcae-f63d19148693",
   "metadata": {},
   "outputs": [],
   "source": []
  },
  {
   "cell_type": "code",
   "execution_count": null,
   "id": "c014c006-fabc-40f6-9345-ce475e123202",
   "metadata": {},
   "outputs": [],
   "source": []
  },
  {
   "cell_type": "code",
   "execution_count": null,
   "id": "6f7b2b55-fb83-482f-9447-0dac3b1a610e",
   "metadata": {},
   "outputs": [],
   "source": []
  },
  {
   "cell_type": "markdown",
   "id": "b93630b5-00c6-4e68-a1a6-02b608e91bdb",
   "metadata": {},
   "source": [
    "# Feature matching and homograph"
   ]
  },
  {
   "cell_type": "code",
   "execution_count": 5,
   "id": "cdae0a07-cf1a-4f31-a18c-03d58f858668",
   "metadata": {},
   "outputs": [
    {
     "name": "stdout",
     "output_type": "stream",
     "text": [
      "Rotation angle difference: 44.99 degrees\n"
     ]
    }
   ],
   "source": [
    "img1 = cv2.imread(\"assets/cat.jpg\")\n",
    "img2 = cv2.imread(\"assets/rotated_cat1.jpg\")\n",
    "\n",
    "# Detect and extract features from the images using SIFT\n",
    "sift = cv2.SIFT_create()\n",
    "kp1, des1 = sift.detectAndCompute(img1, None)\n",
    "kp2, des2 = sift.detectAndCompute(img2, None)\n",
    "\n",
    "# Match the features using FLANN (Fast Library for Approximate Nearest Neighbors)\n",
    "FLANN_INDEX_KDTREE = 0\n",
    "index_params = dict(algorithm = FLANN_INDEX_KDTREE, trees = 5)\n",
    "search_params = dict(checks = 50)\n",
    "flann = cv2.FlannBasedMatcher(index_params, search_params)\n",
    "matches = flann.knnMatch(des1, des2, k=2)\n",
    "\n",
    "# Extract the good matches using the Lowe's ratio test\n",
    "good_matches = []\n",
    "for m,n in matches:\n",
    "    if m.distance < 0.7*n.distance:\n",
    "        good_matches.append(m)\n",
    "\n",
    "if len(good_matches) > 4:\n",
    "    src_pts = np.float32([ kp1[m.queryIdx].pt for m in good_matches ])\n",
    "    dst_pts = np.float32([ kp2[m.trainIdx].pt for m in good_matches ])\n",
    "    M, mask = cv2.findHomography(src_pts, dst_pts, cv2.RANSAC, 5.0)\n",
    "    matchesMask = mask.ravel().tolist()\n",
    "    h,w,d = img1.shape\n",
    "    pts = np.float32([ [0,0],[0,h-1],[w-1,h-1],[w-1,0] ]).reshape(-1,1,2)\n",
    "    dst = cv2.perspectiveTransform(pts,M)\n",
    "\n",
    "    R = np.linalg.inv(M[:3,:3])\n",
    "    angle = np.arctan2(R[1,0], R[0,0]) * 180 / np.pi\n",
    "    print(\"Rotation angle difference: {:.2f} degrees\".format(angle))\n",
    "\n",
    "    img2 = cv2.polylines(img2,[np.int32(dst)],True,255,3, cv2.LINE_AA)\n",
    "\n",
    "# Draw the matches on the images\n",
    "img3 = cv2.drawMatches(img1, kp1, img2, kp2, good_matches, None, matchesMask=matchesMask,\n",
    "                      flags=cv2.DrawMatchesFlags_NOT_DRAW_SINGLE_POINTS)\n",
    "cv2.imshow(\"Find angle difference between 2 images via homograph\", img3)\n",
    "cv2.waitKey()\n",
    "cv2.destroyAllWindows()"
   ]
  },
  {
   "cell_type": "code",
   "execution_count": null,
   "id": "fcef57e4-b938-4792-abf8-db3c6caab652",
   "metadata": {},
   "outputs": [],
   "source": []
  }
 ],
 "metadata": {
  "kernelspec": {
   "display_name": "Python 3 (ipykernel)",
   "language": "python",
   "name": "python3"
  },
  "language_info": {
   "codemirror_mode": {
    "name": "ipython",
    "version": 3
   },
   "file_extension": ".py",
   "mimetype": "text/x-python",
   "name": "python",
   "nbconvert_exporter": "python",
   "pygments_lexer": "ipython3",
   "version": "3.9.12"
  }
 },
 "nbformat": 4,
 "nbformat_minor": 5
}
