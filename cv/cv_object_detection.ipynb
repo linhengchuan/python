{
 "cells": [
  {
   "cell_type": "markdown",
   "id": "8f264a91-0d5d-42fb-993c-f3d8eea5e0e8",
   "metadata": {},
   "source": [
    "### Types of object detections\n",
    "##### Template Matching: Looking for exact copy of a smaller img in bigger img\n",
    "##### Corner Detection: Looking for corner in img\n",
    "##### Edge Detection: Looking for general edges in img\n",
    "##### Grid Detection: Combine both concept to find grids\n",
    "##### Contour Detection: Detect foreground from background\n",
    "##### Feature matching\n",
    "\n",
    "##### Watershed Algorithm: Allow us to segment foreground and background\n",
    "##### Facial and eye detection: Haar Cascades to detect face and eyes but no recognition which need deep learning\n",
    "\n"
   ]
  },
  {
   "cell_type": "code",
   "execution_count": 4,
   "id": "59b23e53-cd21-449c-9aa8-6ef9025edb39",
   "metadata": {},
   "outputs": [],
   "source": [
    "# Template matching"
   ]
  },
  {
   "cell_type": "code",
   "execution_count": 5,
   "id": "363182e1-5e21-4746-89ea-1dcdc47178ca",
   "metadata": {},
   "outputs": [],
   "source": [
    "import cv2\n",
    "import numpy as np\n",
    "import matplotlib.pyplot as plt\n",
    "%matplotlib inline"
   ]
  },
  {
   "cell_type": "code",
   "execution_count": null,
   "id": "badfa015-e45a-4c4b-83e1-d48fe037ac7c",
   "metadata": {},
   "outputs": [],
   "source": []
  },
  {
   "cell_type": "code",
   "execution_count": null,
   "id": "fcef57e4-b938-4792-abf8-db3c6caab652",
   "metadata": {},
   "outputs": [],
   "source": []
  }
 ],
 "metadata": {
  "kernelspec": {
   "display_name": "Python 3 (ipykernel)",
   "language": "python",
   "name": "python3"
  },
  "language_info": {
   "codemirror_mode": {
    "name": "ipython",
    "version": 3
   },
   "file_extension": ".py",
   "mimetype": "text/x-python",
   "name": "python",
   "nbconvert_exporter": "python",
   "pygments_lexer": "ipython3",
   "version": "3.9.12"
  }
 },
 "nbformat": 4,
 "nbformat_minor": 5
}
