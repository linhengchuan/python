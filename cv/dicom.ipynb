{
 "cells": [
  {
   "cell_type": "code",
   "execution_count": 1,
   "id": "df490775-7c5f-440a-ba55-1965117656bf",
   "metadata": {},
   "outputs": [
    {
     "name": "stdout",
     "output_type": "stream",
     "text": [
      "Requirement already satisfied: pydicom in c:\\users\\linhe\\.conda\\envs\\py_project\\lib\\site-packages (2.3.1)\n"
     ]
    },
    {
     "name": "stderr",
     "output_type": "stream",
     "text": [
      "WARNING: Ignoring invalid distribution -r-rtde (c:\\users\\linhe\\.conda\\envs\\py_project\\lib\\site-packages)\n",
      "WARNING: Ignoring invalid distribution -r-rtde (c:\\users\\linhe\\.conda\\envs\\py_project\\lib\\site-packages)\n",
      "WARNING: Ignoring invalid distribution -r-rtde (c:\\users\\linhe\\.conda\\envs\\py_project\\lib\\site-packages)\n",
      "WARNING: Ignoring invalid distribution -r-rtde (c:\\users\\linhe\\.conda\\envs\\py_project\\lib\\site-packages)\n",
      "WARNING: Ignoring invalid distribution -r-rtde (c:\\users\\linhe\\.conda\\envs\\py_project\\lib\\site-packages)\n",
      "WARNING: Ignoring invalid distribution -r-rtde (c:\\users\\linhe\\.conda\\envs\\py_project\\lib\\site-packages)\n"
     ]
    }
   ],
   "source": [
    "#!pip install pydicom"
   ]
  },
  {
   "cell_type": "code",
   "execution_count": 2,
   "id": "30914888-6aea-44fd-b28b-a5e96544c81c",
   "metadata": {},
   "outputs": [],
   "source": [
    "import pydicom"
   ]
  },
  {
   "cell_type": "code",
   "execution_count": 4,
   "id": "f26bc042-896d-4520-b028-042d0fe16383",
   "metadata": {},
   "outputs": [],
   "source": [
    "ds = pydicom.filereader.dcmread(\"test_dicom_1.dcm\")"
   ]
  },
  {
   "cell_type": "code",
   "execution_count": 5,
   "id": "a7a11701-4b45-4022-83a1-705aaa7c8001",
   "metadata": {
    "collapsed": true,
    "jupyter": {
     "outputs_hidden": true
    },
    "tags": []
   },
   "outputs": [
    {
     "data": {
      "text/plain": [
       "Dataset.file_meta -------------------------------\n",
       "(0002, 0000) File Meta Information Group Length  UL: 182\n",
       "(0002, 0001) File Meta Information Version       OB: b'\\x01\\x00'\n",
       "(0002, 0002) Media Storage SOP Class UID         UI: CT Image Storage\n",
       "(0002, 0003) Media Storage SOP Instance UID      UI: 1.2.840.113704.1.111.1352.1171900294.1609\n",
       "(0002, 0010) Transfer Syntax UID                 UI: Implicit VR Little Endian\n",
       "(0002, 0012) Implementation Class UID            UI: 1.2.804.114118.3\n",
       "(0002, 0013) Implementation Version Name         SH: 'eFilm/UCDavisLib'\n",
       "(0002, 0016) Source Application Entity Title     AE: '\\x86\\x00'\n",
       "-------------------------------------------------\n",
       "(0008, 0008) Image Type                          CS: ['ORIGINAL', 'PRIMARY', 'AXIAL', 'HELIX']\n",
       "(0008, 0012) Instance Creation Date              DA: '19000101'\n",
       "(0008, 0013) Instance Creation Time              TM: '165134'\n",
       "(0008, 0016) SOP Class UID                       UI: CT Image Storage\n",
       "(0008, 0018) SOP Instance UID                    UI: 1.2.826.0.1.3680043.8.498.69826302596450722816559158354944102394\n",
       "(0008, 0020) Study Date                          DA: '19000101'\n",
       "(0008, 0022) Acquisition Date                    DA: '19000101'\n",
       "(0008, 0023) Content Date                        DA: '19000101'\n",
       "(0008, 0030) Study Time                          TM: '143027'\n",
       "(0008, 0032) Acquisition Time                    TM: '144105'\n",
       "(0008, 0033) Content Time                        TM: '144123.371000'\n",
       "(0008, 0050) Accession Number                    SH: 'PS07000232'\n",
       "(0008, 0060) Modality                            CS: 'CT'\n",
       "(0008, 0070) Manufacturer                        LO: 'Philips'\n",
       "(0008, 0080) Institution Name                    LO: ''\n",
       "(0008, 0081) Institution Address                 ST: ''\n",
       "(0008, 0090) Referring Physician's Name          PN: ''\n",
       "(0008, 1010) Station Name                        SH: 'HOST-7122'\n",
       "(0008, 1030) Study Description                   LO: 'GATING PULMONAIRE'\n",
       "(0008, 103e) Series Description                  LO: '0.0%'\n",
       "(0008, 1040) Institutional Department Name       LO: ''\n",
       "(0008, 1070) Operators' Name                     PN: ''\n",
       "(0008, 1090) Manufacturer's Model Name           LO: 'Brilliance Big Bore'\n",
       "(0008, 1111)  Referenced Performed Procedure Step Sequence  1 item(s) ---- \n",
       "   (0008, 1150) Referenced SOP Class UID            UI: Modality Performed Procedure Step SOP Class\n",
       "   (0008, 1155) Referenced SOP Instance UID         UI: 1.2.840.113704.1.111.2160.1170940854.22\n",
       "   ---------\n",
       "(0008, 1140)  Referenced Image Sequence  1 item(s) ---- \n",
       "   (0008, 1150) Referenced SOP Class UID            UI: CT Image Storage\n",
       "   (0008, 1155) Referenced SOP Instance UID         UI: 1.2.840.113704.1.111.284.1170941962.1342\n",
       "   ---------\n",
       "(0010, 0010) Patient's Name                      PN: ''\n",
       "(0010, 0020) Patient ID                          LO: ''\n",
       "(0010, 0030) Patient's Birth Date                DA: ''\n",
       "(0010, 0040) Patient's Sex                       CS: ''\n",
       "(0010, 1010) Patient's Age                       AS: ''\n",
       "(0018, 0022) Scan Options                        CS: 'HELIX'\n",
       "(0018, 0050) Slice Thickness                     DS: '2.0'\n",
       "(0018, 0060) KVP                                 DS: '120.0'\n",
       "(0018, 0088) Spacing Between Slices              DS: '-2.0'\n",
       "(0018, 0090) Data Collection Diameter            DS: '600.0'\n",
       "(0018, 1020) Software Versions                   LO: '2.2.1'\n",
       "(0018, 1030) Protocol Name                       LO: 'GATING PULMONAIRE/OncoBody'\n",
       "(0018, 1100) Reconstruction Diameter             DS: '500.0'\n",
       "(0018, 1120) Gantry/Detector Tilt                DS: '0.0'\n",
       "(0018, 1130) Table Height                        DS: '169.0'\n",
       "(0018, 1140) Rotation Direction                  CS: 'CW'\n",
       "(0018, 1151) X-Ray Tube Current                  IS: '120'\n",
       "(0018, 1152) Exposure                            IS: '400'\n",
       "(0018, 1160) Filter Type                         SH: 'C'\n",
       "(0018, 1210) Convolution Kernel                  SH: 'C'\n",
       "(0018, 5100) Patient Position                    CS: 'HFS'\n",
       "(0018, 9321)  CT Exposure Sequence  1 item(s) ---- \n",
       "   (0018, 9324) Estimated Dose Saving               FD: 0.0\n",
       "   (0018, 9328) Exposure Time in ms                 FD: 3.3333333333333335\n",
       "   (0018, 9330) X-Ray Tube Current in mA            FD: 120.0\n",
       "   (0018, 9332) Exposure in mAs                     FD: 400.0\n",
       "   (0018, 9345) CTDIvol                             FD: 21.1\n",
       "   ---------\n",
       "(0018, 9323) Exposure Modulation Type            CS: ''\n",
       "(0018, 9345) CTDIvol                             FD: 21.1\n",
       "(0020, 000d) Study Instance UID                  UI: 1.2.840.113704.1.111.3008.1170923391.4\n",
       "(0020, 000e) Series Instance UID                 UI: 1.2.840.113704.1.111.3188.1171900212.26\n",
       "(0020, 0010) Study ID                            SH: '4548'\n",
       "(0020, 0011) Series Number                       IS: '10230'\n",
       "(0020, 0012) Acquisition Number                  IS: None\n",
       "(0020, 0013) Instance Number                     IS: '59'\n",
       "(0020, 0032) Image Position (Patient)            DS: [-250, -164, -0.5]\n",
       "(0020, 0037) Image Orientation (Patient)         DS: [1, 0, 0, 0, 1, 0]\n",
       "(0020, 0052) Frame of Reference UID              UI: 1.2.840.113704.1.111.1008.1170941931.3\n",
       "(0020, 0060) Laterality                          CS: ''\n",
       "(0020, 1040) Position Reference Indicator        LO: ''\n",
       "(0020, 1041) Slice Location                      DS: '-0.5'\n",
       "(0020, 4000) Image Comments                      LT: '0.0%'\n",
       "(0028, 0002) Samples per Pixel                   US: 1\n",
       "(0028, 0004) Photometric Interpretation          CS: 'MONOCHROME2'\n",
       "(0028, 0010) Rows                                US: 512\n",
       "(0028, 0011) Columns                             US: 512\n",
       "(0028, 0030) Pixel Spacing                       DS: [0.9765625, 0.9765625]\n",
       "(0028, 0100) Bits Allocated                      US: 16\n",
       "(0028, 0101) Bits Stored                         US: 12\n",
       "(0028, 0102) High Bit                            US: 11\n",
       "(0028, 0103) Pixel Representation                US: 0\n",
       "(0028, 1050) Window Center                       DS: [00000, 00000]\n",
       "(0028, 1051) Window Width                        DS: [00400, 00400]\n",
       "(0028, 1052) Rescale Intercept                   DS: '-1024.0'\n",
       "(0028, 1053) Rescale Slope                       DS: '1.0'\n",
       "(0040, 0253) Performed Procedure Step ID         SH: '45488'\n",
       "(00e1, 0010) Private Creator                     LO: 'ELSCINT1'\n",
       "(00e1, 1001) [Data Dictionary Version]           US: 1\n",
       "(00e1, 1022) [Presentation Relative Center]      DS: [00000, 00000]\n",
       "(00e1, 1023) [Presentation Relative Part]        DS: [00001, 00001]\n",
       "(00e1, 1040) [Image Label]                       SH: ''\n",
       "(00e1, 1042) [Unknown]                           LO: '453567-129831'\n",
       "(00e1, 1050) [Acquisition Duration]              DS: '43.417'\n",
       "(00e1, 1061) [Protocol File Name]                LO: 'OncoBody_Multi_1065_usr.proc'\n",
       "(00e1, 1063) [Patient Language]                  SH: 'FRENCH'\n",
       "(01e1, 0010) Private Creator                     LO: 'ELSCINT1'\n",
       "(01e1, 1019) Private tag data                    UN: Array of 20 elements\n",
       "(01e1, 101b) Private tag data                    UN: b'Timed '\n",
       "(01e1, 101c) Private tag data                    UN: b'BR'\n",
       "(01e1, 101e) Private tag data                    UN: b'0.0%'\n",
       "(01e1, 1021) [Unknown]                           ST: '1.2.840.113704.1.111.1008.1170942025.5.1.1111111111111111111'\n",
       "(01f1, 0010) Private Creator                     LO: 'ELSCINT1'\n",
       "(01f1, 1001) [Acquisition Type]                  CS: 'SPIRAL'\n",
       "(01f1, 1002) [Unknown]                           CS: 'STANDARD'\n",
       "(01f1, 1003) [Concurrent Slices Generation]      CS: ''\n",
       "(01f1, 1004) [Angular Sampling Density]          CS: 'NORMAL'\n",
       "(01f1, 1005) [Reconstruction Arc]                DS: '180.0'\n",
       "(01f1, 1007) [Table Velocity]                    DS: '7.2'\n",
       "(01f1, 1008) [Acquisition Length]                DS: '282.0'\n",
       "(01f1, 100a) [Edge Enhancement Weight]           US: 0\n",
       "(01f1, 100c) [Scanner Relative Center]           DS: [0, 0]\n",
       "(01f1, 100d) [Rotation Angle]                    DS: '0.0'\n",
       "(01f1, 100e) [Unknown]                           FL: 0.0\n",
       "(01f1, 1026) [Pitch]                             DS: '0.15'\n",
       "(01f1, 1027) [Rotation Time]                     DS: '0.5'\n",
       "(01f1, 1032) [Image View Convention]             CS: 'RIGHT_ON_LEFT'\n",
       "(01f1, 1039) [Unknown]                           LO: 'PULMO'\n",
       "(01f1, 1041) Private tag data                    UN: b'0.0%'\n",
       "(01f1, 1042) [Unknown]                           SH: 'No'\n",
       "(01f1, 1044) [Unknown]                           OW: Array of 644 elements\n",
       "(01f1, 1046) [Unknown]                           FL: 1.5\n",
       "(01f1, 1047) [Unknown]                           SH: '3D'\n",
       "(01f1, 1049) [Unknown]                           DS: '400.0'\n",
       "(01f1, 104a) [Unknown]                           SH: 'NONE'\n",
       "(01f1, 104b) [Unknown]                           SH: '16x1.5'\n",
       "(01f1, 104c) [Unknown]                           SH: 'NO'\n",
       "(01f1, 104d) [Unknown]                           SH: 'NO'\n",
       "(01f1, 104e) [Unknown]                           LO: 'Pulmo Gating'\n",
       "(01f7, 0010) Private Creator                     LO: 'ELSCINT1'\n",
       "(01f7, 1010) [Unknown]                           OB: b'\\x00\\x00'\n",
       "(01f7, 1011) [Unknown]                           OW: Array of 488 elements\n",
       "(01f7, 1013) [Unknown]                           OW: Array of 136 elements\n",
       "(01f7, 1014) [Unknown]                           OW: Array of 108 elements\n",
       "(01f7, 1015) [Unknown]                           OW: Array of 188 elements\n",
       "(01f7, 1016) [Unknown]                           OW: Array of 40 elements\n",
       "(01f7, 1017) [Unknown]                           OW: b'\\x00\\x00\\x00\\x00\\x00\\x00\\x00\\x00'\n",
       "(01f7, 1018) [Unknown]                           OW: Array of 228 elements\n",
       "(01f7, 1019) [Unknown]                           OW: Array of 2160 elements\n",
       "(01f7, 101a) [Unknown]                           OW: Array of 28 elements\n",
       "(01f7, 101b) [Unknown]                           OW: Array of 1272 elements\n",
       "(01f7, 101c) [Unknown]                           OW: Array of 116 elements\n",
       "(01f7, 101e) [Unknown]                           OW: Array of 364 elements\n",
       "(01f7, 101f) [Unknown]                           OW: Array of 148 elements\n",
       "(01f7, 1022) [Unknown]                           UI: 1.2.840.113704.1.111.1008.1170942025.5.1.1111111111111111111\n",
       "(01f7, 1023) [Unknown]                           OW: b'\\x0e\\x00\\x00\\x00'\n",
       "(01f7, 1025) [Unknown]                           OW: b'\\x01\\x00\\x00\\x00\\x01\\x00\\x00\\x00\\x84\\xf2\\x12\\x00'\n",
       "(01f7, 1026) [Unknown]                           OW: Array of 38384 elements\n",
       "(01f7, 1027) [Unknown]                           OW: Array of 36 elements\n",
       "(01f7, 1029) [Unknown]                           OW: Array of 440 elements\n",
       "(01f7, 102b) [Unknown]                           OW: Array of 36 elements\n",
       "(01f7, 102c) [Unknown]                           OW: Array of 656 elements\n",
       "(01f7, 102d) [Unknown]                           OW: b'\\x00\\x00\\x00\\x00\\x00\\x00\\x00\\x00'\n",
       "(01f7, 1030) [Unknown]                           OW: b'\\x00\\x00\\x00\\x00\\x00\\x00\\x00\\x00\\x03\\x00\\x00\\x00\\x00\\x00\\x00\\x00'\n",
       "(01f7, 1031) [Unknown]                           OW: Array of 124 elements\n",
       "(01f7, 1070) [Unknown]                           OW: Array of 584 elements\n",
       "(01f7, 1074) [Unknown]                           OW: Array of 288 elements\n",
       "(01f7, 1075) [Unknown]                           OW: Array of 136 elements\n",
       "(07a1, 0010) Private Creator                     LO: 'ELSCINT1'\n",
       "(07a1, 1010) [Tamar Software Version]            LO: '3.5'\n",
       "(7fdf, 0010) Private Creator                     LO: 'ELSCINT1'\n",
       "(7fdf, 10f0) [Unknown]                           OB: None\n",
       "(7fdf, 10ff) [Unknown]                           SH: ''\n",
       "(7fe0, 0010) Pixel Data                          OW: Array of 524288 elements"
      ]
     },
     "execution_count": 5,
     "metadata": {},
     "output_type": "execute_result"
    }
   ],
   "source": [
    "ds"
   ]
  },
  {
   "cell_type": "code",
   "execution_count": 6,
   "id": "17b69bb0-a267-4904-a34f-c9b54021d1de",
   "metadata": {},
   "outputs": [],
   "source": [
    "pixel_array = ds.pixel_array"
   ]
  },
  {
   "cell_type": "code",
   "execution_count": 9,
   "id": "991565ff-700f-429f-8225-936f39c7f518",
   "metadata": {},
   "outputs": [
    {
     "data": {
      "text/plain": [
       "4000"
      ]
     },
     "execution_count": 9,
     "metadata": {},
     "output_type": "execute_result"
    }
   ],
   "source": [
    "pixel_array.max()"
   ]
  },
  {
   "cell_type": "code",
   "execution_count": 10,
   "id": "ee15fe95-fe68-4e43-b45d-a74492fad6a4",
   "metadata": {},
   "outputs": [
    {
     "data": {
      "text/plain": [
       "0"
      ]
     },
     "execution_count": 10,
     "metadata": {},
     "output_type": "execute_result"
    }
   ],
   "source": [
    "pixel_array.min()"
   ]
  },
  {
   "cell_type": "code",
   "execution_count": 12,
   "id": "728ce732-e975-4a99-803f-8be859c87e22",
   "metadata": {},
   "outputs": [
    {
     "data": {
      "image/png": "[encoded data removed]",
      "text/plain": [
       "<Figure size 432x288 with 1 Axes>"
      ]
     },
     "metadata": {
      "needs_background": "light"
     },
     "output_type": "display_data"
    }
   ],
   "source": [
    "import matplotlib.pyplot as plt\n",
    "plt.imshow(pixel_array, cmap='gray')\n",
    "plt.show()"
   ]
  },
  {
   "cell_type": "markdown",
   "id": "e613b1ed-a67f-4fe6-ac52-424587bf1cf2",
   "metadata": {},
   "source": [
    "# Image properties"
   ]
  },
  {
   "cell_type": "code",
   "execution_count": 13,
   "id": "259ea24a-1ba8-4992-988b-776b9822b634",
   "metadata": {},
   "outputs": [],
   "source": [
    "# bit_depth pixel range\n",
    "# most common jpg images has 8bits\n",
    "# 8-bit range of [0,255] \n",
    "# dicom has 16-bits\n",
    "# 16-bit range of [0,65535] or [-32768, 32768] \n"
   ]
  },
  {
   "cell_type": "code",
   "execution_count": 16,
   "id": "1bd8f71e-d30b-47f3-a347-bb31386df3ca",
   "metadata": {},
   "outputs": [
    {
     "data": {
      "image/png": "[encoded data removed]",
      "text/plain": [
       "<Figure size 432x288 with 1 Axes>"
      ]
     },
     "metadata": {
      "needs_background": "light"
     },
     "output_type": "display_data"
    }
   ],
   "source": [
    "plt.hist(pixel_array.flatten(), bins=100, range=(0, 255), color='gray')\n",
    "plt.xlabel('Pixel Value')\n",
    "plt.ylabel('Frequency')\n",
    "plt.show()"
   ]
  },
  {
   "cell_type": "code",
   "execution_count": null,
   "id": "72366192-c2ec-4db6-974e-06d4796a1c8b",
   "metadata": {},
   "outputs": [],
   "source": []
  }
 ],
 "metadata": {
  "kernelspec": {
   "display_name": "Python 3 (ipykernel)",
   "language": "python",
   "name": "python3"
  },
  "language_info": {
   "codemirror_mode": {
    "name": "ipython",
    "version": 3
   },
   "file_extension": ".py",
   "mimetype": "text/x-python",
   "name": "python",
   "nbconvert_exporter": "python",
   "pygments_lexer": "ipython3",
   "version": "3.9.12"
  }
 },
 "nbformat": 4,
 "nbformat_minor": 5
}
