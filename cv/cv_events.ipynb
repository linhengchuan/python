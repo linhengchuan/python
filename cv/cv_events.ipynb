{
 "cells": [
  {
   "cell_type": "markdown",
   "id": "47da57e4-13b6-4001-8982-dc8d32552869",
   "metadata": {},
   "source": [
    "# Drawing circle"
   ]
  },
  {
   "cell_type": "code",
   "execution_count": 3,
   "id": "74ccb760-272b-4525-89d4-a9581bd8d4f9",
   "metadata": {},
   "outputs": [],
   "source": [
    "import cv2\n",
    "import numpy as np\n",
    "\n",
    "# function\n",
    "# these params are default set to following:\n",
    "# event: what kind of mouse action, right left click\n",
    "# x,y: position\n",
    "# flags: warning\n",
    "# prams: addition params\n",
    "\n",
    "def draw_circle(event,x,y,flags,params):\n",
    "    if event == cv2.EVENT_LBUTTONDOWN:\n",
    "        # print(x)\n",
    "        cv2.circle(img,(x,y),20,(255,0,0),-1)\n",
    "\n",
    "cv2.namedWindow(winname='img_name')\n",
    "cv2.setMouseCallback(\"img_name\", draw_circle)\n",
    "\n",
    "# display image\n",
    "img = np.zeros((512,512,3))\n",
    "while True:\n",
    "    cv2.imshow(\"img_name\", img)\n",
    "    if cv2.waitKey(20) & 0xFF ==27:\n",
    "        break\n",
    "cv2.destroyAllWindows()"
   ]
  },
  {
   "cell_type": "markdown",
   "id": "73aa1806-a305-4f2b-96d3-6278108f2e2d",
   "metadata": {},
   "source": [
    "# Different mouse events"
   ]
  },
  {
   "cell_type": "code",
   "execution_count": 4,
   "id": "fadf2f56-94b0-4cf7-b724-3e840b56a2ca",
   "metadata": {},
   "outputs": [],
   "source": [
    "import cv2\n",
    "import numpy as np\n",
    "\n",
    "def draw_circle(event,x,y,flags,params):\n",
    "    if event == cv2.EVENT_LBUTTONDOWN:\n",
    "        cv2.circle(img,(x,y),20,(255,0,0),-1)\n",
    "    elif event == cv2.EVENT_RBUTTONDOWN:\n",
    "        cv2.circle(img,(x,y),20,(0,255,0),-1)\n",
    "        \n",
    "cv2.namedWindow(winname='img_name')\n",
    "cv2.setMouseCallback(\"img_name\", draw_circle)\n",
    "\n",
    "# display image\n",
    "img = np.zeros((512,512,3))\n",
    "while True:\n",
    "    cv2.imshow(\"img_name\", img)\n",
    "    if cv2.waitKey(20) & 0xFF ==27:\n",
    "        break\n",
    "cv2.destroyAllWindows()"
   ]
  },
  {
   "cell_type": "markdown",
   "id": "c438f70a-c28e-4683-b06a-6490a92d1b27",
   "metadata": {},
   "source": [
    "# Drag mouse and create shapes"
   ]
  },
  {
   "cell_type": "code",
   "execution_count": 1,
   "id": "5903bbb4-2f32-41c3-bb19-b54d51d408f3",
   "metadata": {},
   "outputs": [],
   "source": [
    "import cv2\n",
    "import numpy as np\n",
    "\n",
    "#variable\n",
    "drawing = False #True while mouse button down\n",
    "ix = -1\n",
    "iy = -1\n",
    "\n",
    "def draw_rect(event,x,y,flags,params):\n",
    "    global ix,iy,drawing\n",
    "    if event == cv2.EVENT_LBUTTONDOWN:\n",
    "        drawing = True\n",
    "        ix, iy = x,y\n",
    "    elif event == cv2.EVENT_MOUSEMOVE:\n",
    "        if drawing == True:\n",
    "            cv2.rectangle(img, pt1=(ix,iy), pt2=(x,y), color=(255,0,0), thickness=10)\n",
    "    elif event == cv2.EVENT_LBUTTONUP:\n",
    "        drawing = False\n",
    "        cv2.rectangle(img, pt1=(ix,iy), pt2=(x,y), color=(255,0,0), thickness=10)\n",
    "        \n",
    "cv2.namedWindow(winname='img_name')\n",
    "cv2.setMouseCallback(\"img_name\", draw_rect)\n",
    "\n",
    "# display image\n",
    "img = np.zeros((512,512,3))\n",
    "while True:\n",
    "    cv2.imshow(\"img_name\", img)\n",
    "    if cv2.waitKey(20) & 0xFF ==27:\n",
    "        break\n",
    "cv2.destroyAllWindows()"
   ]
  },
  {
   "cell_type": "code",
   "execution_count": 13,
   "id": "564ca308-3181-43a2-97d1-029f88d05fa8",
   "metadata": {},
   "outputs": [],
   "source": [
    "import cv2\n",
    "import numpy as np\n",
    "import math\n",
    "\n",
    "#variable\n",
    "drawing = False #True while mouse button down\n",
    "ix = -1\n",
    "iy = -1\n",
    "\n",
    "def cal_radius(ix,iy,x,y):\n",
    "    return round(math.sqrt((ix-x)**2+(iy-y)**2))\n",
    "    \n",
    "def draw_rect(event,x,y,flags,params):\n",
    "    global ix,iy,drawing\n",
    "    if event == cv2.EVENT_LBUTTONDOWN:\n",
    "        drawing = True\n",
    "        ix, iy = x,y\n",
    "    elif event == cv2.EVENT_MOUSEMOVE:\n",
    "        if drawing == True:\n",
    "            cv2.circle(img, (ix,iy), cal_radius(ix,iy,x,y), color=(255,0,0), thickness=-1)\n",
    "    elif event == cv2.EVENT_LBUTTONUP:\n",
    "        drawing = False\n",
    "        cv2.circle(img, (ix,iy), cal_radius(ix,iy,x,y), color=(255,0,0), thickness=-1)\n",
    "        \n",
    "cv2.namedWindow(winname='img_name')\n",
    "cv2.setMouseCallback(\"img_name\", draw_rect)\n",
    "\n",
    "# display image\n",
    "img = np.zeros((512,512,3))\n",
    "while True:\n",
    "    cv2.imshow(\"img_name\", img)\n",
    "    if cv2.waitKey(20) & 0xFF ==27:\n",
    "        break\n",
    "cv2.destroyAllWindows()"
   ]
  },
  {
   "cell_type": "code",
   "execution_count": null,
   "id": "5ab688b1-32c2-4ae1-bed2-6241119b7203",
   "metadata": {},
   "outputs": [],
   "source": []
  }
 ],
 "metadata": {
  "kernelspec": {
   "display_name": "Python 3",
   "language": "python",
   "name": "python3"
  },
  "language_info": {
   "codemirror_mode": {
    "name": "ipython",
    "version": 3
   },
   "file_extension": ".py",
   "mimetype": "text/x-python",
   "name": "python",
   "nbconvert_exporter": "python",
   "pygments_lexer": "ipython3",
   "version": "3.6.6"
  }
 },
 "nbformat": 4,
 "nbformat_minor": 5
}
