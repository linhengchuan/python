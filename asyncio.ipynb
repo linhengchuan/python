{
 "cells": [
  {
   "cell_type": "code",
   "execution_count": 9,
   "id": "5f7adb7b-0e1d-4557-ad9f-021210567cbb",
   "metadata": {},
   "outputs": [],
   "source": [
    "import asyncio"
   ]
  },
  {
   "cell_type": "code",
   "execution_count": 10,
   "id": "330fc3b2-f5b8-4437-a237-14c373aa852f",
   "metadata": {},
   "outputs": [],
   "source": [
    "class TestIO:\n",
    "    def __init__(self):\n",
    "        self.q = asyncio.PriorityQueue(maxsize=0)"
   ]
  },
  {
   "cell_type": "code",
   "execution_count": 11,
   "id": "44b169be-3ee0-458c-935d-7fd227e111e5",
   "metadata": {},
   "outputs": [],
   "source": [
    "a = TestIO()"
   ]
  },
  {
   "cell_type": "code",
   "execution_count": 32,
   "id": "354d6a63-7291-4bb0-8216-e67da3083cd6",
   "metadata": {},
   "outputs": [],
   "source": [
    "b =a.q.put((1,\"a\"))"
   ]
  },
  {
   "cell_type": "code",
   "execution_count": 35,
   "id": "94aaaef6-035c-4ba6-874a-44e5fbc25825",
   "metadata": {},
   "outputs": [
    {
     "data": {
      "text/plain": [
       "<coroutine object Queue.put at 0x000001EFCFD7F040>"
      ]
     },
     "execution_count": 35,
     "metadata": {},
     "output_type": "execute_result"
    }
   ],
   "source": [
    "b"
   ]
  },
  {
   "cell_type": "code",
   "execution_count": 30,
   "id": "98b48a81-0a2d-462f-80c4-865d81b6823d",
   "metadata": {},
   "outputs": [
    {
     "data": {
      "text/plain": [
       "<coroutine object Queue.get at 0x000001EFCFD71840>"
      ]
     },
     "execution_count": 30,
     "metadata": {},
     "output_type": "execute_result"
    }
   ],
   "source": [
    "a.q.get()"
   ]
  },
  {
   "cell_type": "code",
   "execution_count": 24,
   "id": "6238d322-1a30-4099-816c-500ebcf64823",
   "metadata": {},
   "outputs": [
    {
     "data": {
      "text/plain": [
       "0"
      ]
     },
     "execution_count": 24,
     "metadata": {},
     "output_type": "execute_result"
    }
   ],
   "source": [
    "a.q.qsize()"
   ]
  },
  {
   "cell_type": "code",
   "execution_count": 36,
   "id": "36cf267f-13ec-4cb9-a7a0-e9c9eadc0350",
   "metadata": {},
   "outputs": [
    {
     "name": "stdout",
     "output_type": "stream",
     "text": [
      "<coroutine object Queue.get at 0x000001EFCFD7F540>\n",
      "<coroutine object Queue.get at 0x000001EFCFD7F540>\n",
      "<coroutine object Queue.get at 0x000001EFCFD7F540>\n",
      "<coroutine object Queue.get at 0x000001EFCFD7F540>\n",
      "<coroutine object Queue.get at 0x000001EFCFD7F540>\n",
      "<coroutine object Queue.get at 0x000001EFCFD7F540>\n",
      "<coroutine object Queue.get at 0x000001EFCFD7F540>\n",
      "<coroutine object Queue.get at 0x000001EFCFD7F540>\n",
      "<coroutine object Queue.get at 0x000001EFCFD7F540>\n",
      "<coroutine object Queue.get at 0x000001EFCFD7F540>\n"
     ]
    },
    {
     "name": "stderr",
     "output_type": "stream",
     "text": [
      "C:\\Users\\linhe\\AppData\\Local\\Temp\\ipykernel_24844\\2395995542.py:3: RuntimeWarning: coroutine 'Queue.put' was never awaited\n",
      "  a.q.put(data)\n",
      "RuntimeWarning: Enable tracemalloc to get the object allocation traceback\n",
      "C:\\Users\\linhe\\AppData\\Local\\Temp\\ipykernel_24844\\2395995542.py:4: RuntimeWarning: coroutine 'Queue.put' was never awaited\n",
      "  a.q.put(data)\n",
      "RuntimeWarning: Enable tracemalloc to get the object allocation traceback\n",
      "C:\\Users\\linhe\\AppData\\Local\\Temp\\ipykernel_24844\\2395995542.py:5: RuntimeWarning: coroutine 'Queue.get' was never awaited\n",
      "  print(a.q.get())\n",
      "RuntimeWarning: Enable tracemalloc to get the object allocation traceback\n"
     ]
    }
   ],
   "source": [
    "data = (1,4)\n",
    "for i in range(10):\n",
    "    a.q.put(data)\n",
    "    a.q.put(data)\n",
    "    print(a.q.get())"
   ]
  },
  {
   "cell_type": "code",
   "execution_count": null,
   "id": "0c161ab9-005e-4526-9c3c-1034bd72fa52",
   "metadata": {},
   "outputs": [],
   "source": []
  }
 ],
 "metadata": {
  "kernelspec": {
   "display_name": "Python 3 (ipykernel)",
   "language": "python",
   "name": "python3"
  },
  "language_info": {
   "codemirror_mode": {
    "name": "ipython",
    "version": 3
   },
   "file_extension": ".py",
   "mimetype": "text/x-python",
   "name": "python",
   "nbconvert_exporter": "python",
   "pygments_lexer": "ipython3",
   "version": "3.9.12"
  }
 },
 "nbformat": 4,
 "nbformat_minor": 5
}
