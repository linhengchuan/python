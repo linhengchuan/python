{
 "cells": [
  {
   "cell_type": "code",
   "execution_count": 2,
   "id": "693d5ecc-a436-4c24-aa1d-04801c16ec03",
   "metadata": {},
   "outputs": [],
   "source": [
    "# !pip install requests"
   ]
  },
  {
   "cell_type": "code",
   "execution_count": 9,
   "id": "711aeb36-0b81-4382-a3b5-2b76c8bed618",
   "metadata": {},
   "outputs": [],
   "source": [
    "import time"
   ]
  },
  {
   "cell_type": "code",
   "execution_count": 10,
   "id": "8c23e218-f4f4-4cca-8d3a-906dc96dee9b",
   "metadata": {},
   "outputs": [
    {
     "data": {
      "text/plain": [
       "1690647745.1261542"
      ]
     },
     "execution_count": 10,
     "metadata": {},
     "output_type": "execute_result"
    }
   ],
   "source": [
    "time.time()"
   ]
  },
  {
   "cell_type": "code",
   "execution_count": 11,
   "id": "ec267d6c-e25e-4973-b83a-4019cdb76b5f",
   "metadata": {},
   "outputs": [
    {
     "data": {
      "text/plain": [
       "1690647750.1882255"
      ]
     },
     "execution_count": 11,
     "metadata": {},
     "output_type": "execute_result"
    }
   ],
   "source": [
    "time.time()"
   ]
  },
  {
   "cell_type": "code",
   "execution_count": null,
   "id": "3f3b9656-15eb-4b3f-a39b-13a37665717a",
   "metadata": {},
   "outputs": [],
   "source": []
  },
  {
   "cell_type": "code",
   "execution_count": 3,
   "id": "682861fc-799a-43be-b0f3-bf715e312335",
   "metadata": {},
   "outputs": [],
   "source": [
    "import requests"
   ]
  },
  {
   "cell_type": "code",
   "execution_count": 4,
   "id": "8ebc528a-db41-4a48-94c8-ef49daadbebd",
   "metadata": {},
   "outputs": [],
   "source": [
    "response = requests.get(\"https://api.data.gov.sg/v1/environment/2-hour-weather-forecast\")"
   ]
  },
  {
   "cell_type": "code",
   "execution_count": 5,
   "id": "4a7050e6-60ee-4651-8bd0-2ced64e97577",
   "metadata": {},
   "outputs": [
    {
     "name": "stdout",
     "output_type": "stream",
     "text": [
      "200\n"
     ]
    }
   ],
   "source": [
    "print(response.status_code)"
   ]
  },
  {
   "cell_type": "code",
   "execution_count": 7,
   "id": "04ba17c4-1342-4f2e-9745-ef31a9d1f00c",
   "metadata": {},
   "outputs": [
    {
     "name": "stdout",
     "output_type": "stream",
     "text": [
      "{'area_metadata': [{'name': 'Ang Mo Kio', 'label_location': {'latitude': 1.375, 'longitude': 103.839}}, {'name': 'Bedok', 'label_location': {'latitude': 1.321, 'longitude': 103.924}}, {'name': 'Bishan', 'label_location': {'latitude': 1.350772, 'longitude': 103.839}}, {'name': 'Boon Lay', 'label_location': {'latitude': 1.304, 'longitude': 103.701}}, {'name': 'Bukit Batok', 'label_location': {'latitude': 1.353, 'longitude': 103.754}}, {'name': 'Bukit Merah', 'label_location': {'latitude': 1.277, 'longitude': 103.819}}, {'name': 'Bukit Panjang', 'label_location': {'latitude': 1.362, 'longitude': 103.77195}}, {'name': 'Bukit Timah', 'label_location': {'latitude': 1.325, 'longitude': 103.791}}, {'name': 'Central Water Catchment', 'label_location': {'latitude': 1.38, 'longitude': 103.805}}, {'name': 'Changi', 'label_location': {'latitude': 1.357, 'longitude': 103.987}}, {'name': 'Choa Chu Kang', 'label_location': {'latitude': 1.377, 'longitude': 103.745}}, {'name': 'Clementi', 'label_location': {'latitude': 1.315, 'longitude': 103.76}}, {'name': 'City', 'label_location': {'latitude': 1.292, 'longitude': 103.844}}, {'name': 'Geylang', 'label_location': {'latitude': 1.318, 'longitude': 103.884}}, {'name': 'Hougang', 'label_location': {'latitude': 1.361218, 'longitude': 103.886}}, {'name': 'Jalan Bahar', 'label_location': {'latitude': 1.347, 'longitude': 103.67}}, {'name': 'Jurong East', 'label_location': {'latitude': 1.326, 'longitude': 103.737}}, {'name': 'Jurong Island', 'label_location': {'latitude': 1.266, 'longitude': 103.699}}, {'name': 'Jurong West', 'label_location': {'latitude': 1.34039, 'longitude': 103.705}}, {'name': 'Kallang', 'label_location': {'latitude': 1.312, 'longitude': 103.862}}, {'name': 'Lim Chu Kang', 'label_location': {'latitude': 1.423, 'longitude': 103.717332}}, {'name': 'Mandai', 'label_location': {'latitude': 1.419, 'longitude': 103.812}}, {'name': 'Marine Parade', 'label_location': {'latitude': 1.297, 'longitude': 103.891}}, {'name': 'Novena', 'label_location': {'latitude': 1.327, 'longitude': 103.826}}, {'name': 'Pasir Ris', 'label_location': {'latitude': 1.37, 'longitude': 103.948}}, {'name': 'Paya Lebar', 'label_location': {'latitude': 1.358, 'longitude': 103.914}}, {'name': 'Pioneer', 'label_location': {'latitude': 1.315, 'longitude': 103.675}}, {'name': 'Pulau Tekong', 'label_location': {'latitude': 1.403, 'longitude': 104.053}}, {'name': 'Pulau Ubin', 'label_location': {'latitude': 1.404, 'longitude': 103.96}}, {'name': 'Punggol', 'label_location': {'latitude': 1.401, 'longitude': 103.904}}, {'name': 'Queenstown', 'label_location': {'latitude': 1.291, 'longitude': 103.78576}}, {'name': 'Seletar', 'label_location': {'latitude': 1.404, 'longitude': 103.869}}, {'name': 'Sembawang', 'label_location': {'latitude': 1.445, 'longitude': 103.818495}}, {'name': 'Sengkang', 'label_location': {'latitude': 1.384, 'longitude': 103.891443}}, {'name': 'Sentosa', 'label_location': {'latitude': 1.243, 'longitude': 103.832}}, {'name': 'Serangoon', 'label_location': {'latitude': 1.357, 'longitude': 103.865}}, {'name': 'Southern Islands', 'label_location': {'latitude': 1.208, 'longitude': 103.842}}, {'name': 'Sungei Kadut', 'label_location': {'latitude': 1.413, 'longitude': 103.756}}, {'name': 'Tampines', 'label_location': {'latitude': 1.345, 'longitude': 103.944}}, {'name': 'Tanglin', 'label_location': {'latitude': 1.308, 'longitude': 103.813}}, {'name': 'Tengah', 'label_location': {'latitude': 1.374, 'longitude': 103.715}}, {'name': 'Toa Payoh', 'label_location': {'latitude': 1.334304, 'longitude': 103.856327}}, {'name': 'Tuas', 'label_location': {'latitude': 1.294947, 'longitude': 103.635}}, {'name': 'Western Islands', 'label_location': {'latitude': 1.205926, 'longitude': 103.746}}, {'name': 'Western Water Catchment', 'label_location': {'latitude': 1.405, 'longitude': 103.689}}, {'name': 'Woodlands', 'label_location': {'latitude': 1.432, 'longitude': 103.786528}}, {'name': 'Yishun', 'label_location': {'latitude': 1.418, 'longitude': 103.839}}], 'items': [{'update_timestamp': '2023-07-29T23:38:52+08:00', 'timestamp': '2023-07-29T23:30:00+08:00', 'valid_period': {'start': '2023-07-29T23:30:00+08:00', 'end': '2023-07-30T01:30:00+08:00'}, 'forecasts': [{'area': 'Ang Mo Kio', 'forecast': 'Partly Cloudy (Night)'}, {'area': 'Bedok', 'forecast': 'Partly Cloudy (Night)'}, {'area': 'Bishan', 'forecast': 'Partly Cloudy (Night)'}, {'area': 'Boon Lay', 'forecast': 'Partly Cloudy (Night)'}, {'area': 'Bukit Batok', 'forecast': 'Partly Cloudy (Night)'}, {'area': 'Bukit Merah', 'forecast': 'Partly Cloudy (Night)'}, {'area': 'Bukit Panjang', 'forecast': 'Partly Cloudy (Night)'}, {'area': 'Bukit Timah', 'forecast': 'Partly Cloudy (Night)'}, {'area': 'Central Water Catchment', 'forecast': 'Partly Cloudy (Night)'}, {'area': 'Changi', 'forecast': 'Partly Cloudy (Night)'}, {'area': 'Choa Chu Kang', 'forecast': 'Partly Cloudy (Night)'}, {'area': 'Clementi', 'forecast': 'Partly Cloudy (Night)'}, {'area': 'City', 'forecast': 'Partly Cloudy (Night)'}, {'area': 'Geylang', 'forecast': 'Partly Cloudy (Night)'}, {'area': 'Hougang', 'forecast': 'Partly Cloudy (Night)'}, {'area': 'Jalan Bahar', 'forecast': 'Partly Cloudy (Night)'}, {'area': 'Jurong East', 'forecast': 'Partly Cloudy (Night)'}, {'area': 'Jurong Island', 'forecast': 'Partly Cloudy (Night)'}, {'area': 'Jurong West', 'forecast': 'Partly Cloudy (Night)'}, {'area': 'Kallang', 'forecast': 'Partly Cloudy (Night)'}, {'area': 'Lim Chu Kang', 'forecast': 'Partly Cloudy (Night)'}, {'area': 'Mandai', 'forecast': 'Partly Cloudy (Night)'}, {'area': 'Marine Parade', 'forecast': 'Partly Cloudy (Night)'}, {'area': 'Novena', 'forecast': 'Partly Cloudy (Night)'}, {'area': 'Pasir Ris', 'forecast': 'Partly Cloudy (Night)'}, {'area': 'Paya Lebar', 'forecast': 'Partly Cloudy (Night)'}, {'area': 'Pioneer', 'forecast': 'Partly Cloudy (Night)'}, {'area': 'Pulau Tekong', 'forecast': 'Partly Cloudy (Night)'}, {'area': 'Pulau Ubin', 'forecast': 'Partly Cloudy (Night)'}, {'area': 'Punggol', 'forecast': 'Partly Cloudy (Night)'}, {'area': 'Queenstown', 'forecast': 'Partly Cloudy (Night)'}, {'area': 'Seletar', 'forecast': 'Partly Cloudy (Night)'}, {'area': 'Sembawang', 'forecast': 'Partly Cloudy (Night)'}, {'area': 'Sengkang', 'forecast': 'Partly Cloudy (Night)'}, {'area': 'Sentosa', 'forecast': 'Partly Cloudy (Night)'}, {'area': 'Serangoon', 'forecast': 'Partly Cloudy (Night)'}, {'area': 'Southern Islands', 'forecast': 'Partly Cloudy (Night)'}, {'area': 'Sungei Kadut', 'forecast': 'Partly Cloudy (Night)'}, {'area': 'Tampines', 'forecast': 'Partly Cloudy (Night)'}, {'area': 'Tanglin', 'forecast': 'Partly Cloudy (Night)'}, {'area': 'Tengah', 'forecast': 'Partly Cloudy (Night)'}, {'area': 'Toa Payoh', 'forecast': 'Partly Cloudy (Night)'}, {'area': 'Tuas', 'forecast': 'Partly Cloudy (Night)'}, {'area': 'Western Islands', 'forecast': 'Partly Cloudy (Night)'}, {'area': 'Western Water Catchment', 'forecast': 'Partly Cloudy (Night)'}, {'area': 'Woodlands', 'forecast': 'Partly Cloudy (Night)'}, {'area': 'Yishun', 'forecast': 'Partly Cloudy (Night)'}]}], 'api_info': {'status': 'healthy'}}\n"
     ]
    }
   ],
   "source": [
    "print(response.json())"
   ]
  },
  {
   "cell_type": "code",
   "execution_count": 8,
   "id": "ad570d74-bcc6-41d3-8e78-d420a2e4d5e1",
   "metadata": {},
   "outputs": [
    {
     "data": {
      "text/plain": [
       "{'status': 'healthy'}"
      ]
     },
     "execution_count": 8,
     "metadata": {},
     "output_type": "execute_result"
    }
   ],
   "source": [
    "response.json()[\"api_info\"]"
   ]
  },
  {
   "cell_type": "code",
   "execution_count": null,
   "id": "43f3f1e4-4cf9-4df4-a488-14840bb68c1e",
   "metadata": {},
   "outputs": [],
   "source": []
  }
 ],
 "metadata": {
  "kernelspec": {
   "display_name": "Python 3 (ipykernel)",
   "language": "python",
   "name": "python3"
  },
  "language_info": {
   "codemirror_mode": {
    "name": "ipython",
    "version": 3
   },
   "file_extension": ".py",
   "mimetype": "text/x-python",
   "name": "python",
   "nbconvert_exporter": "python",
   "pygments_lexer": "ipython3",
   "version": "3.8.5"
  }
 },
 "nbformat": 4,
 "nbformat_minor": 5
}
